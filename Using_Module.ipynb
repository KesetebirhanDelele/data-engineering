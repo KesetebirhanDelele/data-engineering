{
 "cells": [
  {
   "attachments": {},
   "cell_type": "markdown",
   "metadata": {},
   "source": [
    "## Two ways to import and use classes in a module"
   ]
  },
  {
   "attachments": {},
   "cell_type": "markdown",
   "metadata": {},
   "source": [
    "#### Source: https://www.geeksforgeeks.org/how-to-import-a-class-from-another-file-in-python/"
   ]
  },
  {
   "attachments": {},
   "cell_type": "markdown",
   "metadata": {},
   "source": [
    "### First method: import module first and call and assign values to class"
   ]
  },
  {
   "cell_type": "code",
   "execution_count": 16,
   "metadata": {},
   "outputs": [],
   "source": [
    "import personality"
   ]
  },
  {
   "cell_type": "code",
   "execution_count": 17,
   "metadata": {},
   "outputs": [
    {
     "name": "stdout",
     "output_type": "stream",
     "text": [
      "Fetih Zelalem, you are so young, only 8 years old!\n",
      "First name: Zelalem.\n",
      "Last name: Fetih.\n"
     ]
    }
   ],
   "source": [
    "x=personality.Person('2015-03-20',\"Fetih Zelalem\")\n",
    "print(x.age())\n",
    "print(x.first_name())\n",
    "print(x.last_name())"
   ]
  },
  {
   "attachments": {},
   "cell_type": "markdown",
   "metadata": {},
   "source": [
    "### Second method: import class from module and assign values to class"
   ]
  },
  {
   "cell_type": "code",
   "execution_count": 14,
   "metadata": {},
   "outputs": [],
   "source": [
    "from personality import Person"
   ]
  },
  {
   "cell_type": "code",
   "execution_count": 15,
   "metadata": {},
   "outputs": [
    {
     "name": "stdout",
     "output_type": "stream",
     "text": [
      "Adonai Kesetebirhan, you are so young, only 10 years old!\n",
      "First name: Kesetebirhan.\n",
      "Last name: Adonai.\n"
     ]
    }
   ],
   "source": [
    "y=Person('2013-03-17',\"Adonai Kesetebirhan\")\n",
    "print(y.age())\n",
    "print(y.first_name())\n",
    "print(y.last_name())"
   ]
  }
 ],
 "metadata": {
  "kernelspec": {
   "display_name": "base",
   "language": "python",
   "name": "python3"
  },
  "language_info": {
   "codemirror_mode": {
    "name": "ipython",
    "version": 3
   },
   "file_extension": ".py",
   "mimetype": "text/x-python",
   "name": "python",
   "nbconvert_exporter": "python",
   "pygments_lexer": "ipython3",
   "version": "3.9.12"
  },
  "orig_nbformat": 4
 },
 "nbformat": 4,
 "nbformat_minor": 2
}
