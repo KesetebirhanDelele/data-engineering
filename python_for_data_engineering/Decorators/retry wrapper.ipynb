{
 "cells": [
  {
   "cell_type": "markdown",
   "metadata": {},
   "source": [
    "# Retry\n",
    "This wrapper retries the execution of a function a specified number of times with a delay between retries. It can be useful when dealing with network or API calls that may occasionally fail due to temporary issues.\n",
    "\n",
    "To implement that we can define another wrapper function to our decorator, similar to our previous example. However this time rather than providing validation functions as input variables we can pass specific parameters such as the max_attemps and the delay .\n",
    "\n",
    "When the decorated function is called, the wrapper function is invoked. It keeps track of the number of attempts made (starting at 0) and enters a while loop. The loop attempts to execute the decorated function and immediately returns the result if successful. However, if an exception occurs, it increments the attempts counter and prints an error message indicating the attempt number and the specific exception that occurred. It then waits for the specified delay using time.sleep before attempting the function again."
   ]
  },
  {
   "cell_type": "code",
   "execution_count": 1,
   "metadata": {},
   "outputs": [],
   "source": [
    "import time\n",
    "\n",
    "def retry(max_attempts, delay=1):\n",
    "    def decorator(func):\n",
    "        def wrapper(*args, **kwargs):\n",
    "            attempts = 0\n",
    "            while attempts < max_attempts:\n",
    "                try:\n",
    "                    return func(*args, **kwargs)\n",
    "                except Exception as e:\n",
    "                    attempts += 1\n",
    "                    print(f\"Attempt {attempts} failed: {e}\")\n",
    "                    time.sleep(delay)\n",
    "            print(f\"Function failed after {max_attempts} attempts\")\n",
    "        return wrapper\n",
    "    return decorator"
   ]
  },
  {
   "cell_type": "markdown",
   "metadata": {},
   "source": [
    "In order to invoke the function, we can specify the maximum number of attempts and the time duration in seconds between each invocation of the function."
   ]
  },
  {
   "cell_type": "code",
   "execution_count": 2,
   "metadata": {},
   "outputs": [
    {
     "name": "stdout",
     "output_type": "stream",
     "text": [
      "Fetching the data..\n",
      "Attempt 1 failed: Server is not responding.\n",
      "Fetching the data..\n",
      "Attempt 2 failed: Server is not responding.\n",
      "Fetching the data..\n",
      "Attempt 3 failed: Server is not responding.\n",
      "Function failed after 3 attempts\n"
     ]
    }
   ],
   "source": [
    "@retry(max_attempts=3, delay=2)\n",
    "def fetch_data(url):\n",
    "    print(\"Fetching the data..\")\n",
    "    # raise timeout error to simulate a server not responding..\n",
    "    raise TimeoutError(\"Server is not responding.\")\n",
    "fetch_data(\"https://example.com/data\")  # Retries 3 times with a 2-second delay between attempts"
   ]
  }
 ],
 "metadata": {
  "kernelspec": {
   "display_name": "base",
   "language": "python",
   "name": "python3"
  },
  "language_info": {
   "codemirror_mode": {
    "name": "ipython",
    "version": 3
   },
   "file_extension": ".py",
   "mimetype": "text/x-python",
   "name": "python",
   "nbconvert_exporter": "python",
   "pygments_lexer": "ipython3",
   "version": "3.10.9"
  },
  "orig_nbformat": 4
 },
 "nbformat": 4,
 "nbformat_minor": 2
}
