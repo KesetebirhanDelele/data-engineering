{
 "cells": [
  {
   "cell_type": "markdown",
   "metadata": {},
   "source": [
    "# Input Validator\n",
    "This wrapper function validates the input arguments of a function against specified conditions or data types. It can be used to ensure the correctness and consistency of the input data.\n",
    "\n",
    "The other approach to do that is by creating countless assert lines inside the function we want for validating the input data.\n",
    "\n",
    "To add validations to the decoration, we need to wrap the decorator function with another function that takes in one or more validation functions as arguments. These validation functions are responsible for checking if the input values meet certain criteria or conditions.\n",
    "\n",
    "The validate_input function itself acts as a decorator now. Inside the wrapper function, the input and the keyword arguments are checked against the provided validation functions. If any argument fails the validation, it raises a ValueError with a message indicating the invalid argument."
   ]
  },
  {
   "cell_type": "code",
   "execution_count": 1,
   "metadata": {},
   "outputs": [],
   "source": [
    "def validate_input(*validations):\n",
    "    def decorator(func):\n",
    "        def wrapper(*args, **kwargs):\n",
    "            for i, val in enumerate(args):\n",
    "                if i < len(validations):\n",
    "                    if not validations[i](val):\n",
    "                        raise ValueError(f\"Invalid argument: {val}\")\n",
    "            for key, val in kwargs.items():\n",
    "                if key in validations[len(args):]:\n",
    "                    if not validations[len(args):][key](val):\n",
    "                        raise ValueError(f\"Invalid argument: {key}={val}\")\n",
    "            return func(*args, **kwargs)\n",
    "        return wrapper\n",
    "    return decorator"
   ]
  },
  {
   "cell_type": "markdown",
   "metadata": {},
   "source": [
    "To call the validated input, we need to define the validation functions. For example, two validation functions can be used. The first function (lambda x: x > 0) checks if the argument x is greater than 0, and the second function (lambda y: isinstance(y, str)) checks if the argument y is of a type string.\n",
    "\n",
    "It is important to ensure that the order of the validation functions corresponds to the order of the arguments they are intended to validate."
   ]
  },
  {
   "cell_type": "code",
   "execution_count": 2,
   "metadata": {},
   "outputs": [
    {
     "name": "stdout",
     "output_type": "stream",
     "text": [
      "Hello!\n"
     ]
    },
    {
     "data": {
      "text/plain": [
       "0.2"
      ]
     },
     "execution_count": 2,
     "metadata": {},
     "output_type": "execute_result"
    }
   ],
   "source": [
    "@validate_input(lambda x: x > 0, lambda y: isinstance(y, str))\n",
    "def divide_and_print(x, message):\n",
    "    print(message)\n",
    "    return 1 / x\n",
    "\n",
    "divide_and_print(5, \"Hello!\")  # Output: Hello! 1.0"
   ]
  }
 ],
 "metadata": {
  "kernelspec": {
   "display_name": "base",
   "language": "python",
   "name": "python3"
  },
  "language_info": {
   "codemirror_mode": {
    "name": "ipython",
    "version": 3
   },
   "file_extension": ".py",
   "mimetype": "text/x-python",
   "name": "python",
   "nbconvert_exporter": "python",
   "pygments_lexer": "ipython3",
   "version": "3.10.9"
  },
  "orig_nbformat": 4
 },
 "nbformat": 4,
 "nbformat_minor": 2
}
