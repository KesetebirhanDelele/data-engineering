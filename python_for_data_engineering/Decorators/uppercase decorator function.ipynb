{
 "cells": [
  {
   "cell_type": "markdown",
   "metadata": {},
   "source": [
    "# Decorators\n",
    "Decorators allow you to modify the behavior of a function without changing its source code. I think of decorators as functions that wrap around other functions to add additional functionality.\n",
    "\n",
    "Let’s take an example:"
   ]
  },
  {
   "cell_type": "code",
   "execution_count": 1,
   "metadata": {},
   "outputs": [
    {
     "name": "stdout",
     "output_type": "stream",
     "text": [
      "HELLO, JOHN!\n"
     ]
    }
   ],
   "source": [
    "def uppercase_decorator(func):\n",
    "    def wrapper(*args, **kwargs):\n",
    "        result = func(*args, **kwargs)\n",
    "        return result.upper()\n",
    "    return wrapper\n",
    "\n",
    "@uppercase_decorator\n",
    "def greet(name):\n",
    "    return f\"Hello, {name}!\"\n",
    "print(greet(\"John\"))  # Output: HELLO, JOHN!"
   ]
  },
  {
   "cell_type": "markdown",
   "metadata": {},
   "source": [
    "In this code snippet, the uppercase_decorator function wraps around the greet function, converting its output to uppercase. Using the @ symbol followed by the decorator name is a convenient way to apply the decorator to the function."
   ]
  }
 ],
 "metadata": {
  "kernelspec": {
   "display_name": "base",
   "language": "python",
   "name": "python3"
  },
  "language_info": {
   "codemirror_mode": {
    "name": "ipython",
    "version": 3
   },
   "file_extension": ".py",
   "mimetype": "text/x-python",
   "name": "python",
   "nbconvert_exporter": "python",
   "pygments_lexer": "ipython3",
   "version": "3.10.9"
  },
  "orig_nbformat": 4
 },
 "nbformat": 4,
 "nbformat_minor": 2
}
