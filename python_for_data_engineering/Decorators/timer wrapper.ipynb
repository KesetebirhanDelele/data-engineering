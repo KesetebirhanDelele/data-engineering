{
 "cells": [
  {
   "cell_type": "markdown",
   "metadata": {},
   "source": [
    "# Timer\n",
    "\n",
    "Timer\n",
    "This wrapper function measures the execution time of a function and prints the elapsed time. It can be useful for profiling and optimizing code."
   ]
  },
  {
   "cell_type": "code",
   "execution_count": 1,
   "metadata": {},
   "outputs": [],
   "source": [
    "import time\n",
    "\n",
    "def timer(func):\n",
    "    def wrapper(*args, **kwargs):\n",
    "        # start the timer\n",
    "        start_time = time.time()\n",
    "        # call the decorated function\n",
    "        result = func(*args, **kwargs)\n",
    "        # remeasure the time\n",
    "        end_time = time.time()\n",
    "        # compute the elapsed time and print it\n",
    "        execution_time = end_time - start_time\n",
    "        print(f\"Execution time: {execution_time} seconds\")\n",
    "        # return the result of the decorated function execution\n",
    "        return result\n",
    "    # return reference to the wrapper function\n",
    "    return wrapper"
   ]
  },
  {
   "cell_type": "markdown",
   "metadata": {},
   "source": [
    "To create the decorator in Python we need to define a function called timer that takes a parameter called func to indicate that it is a decorator function. Inside the timer function, we define another function called wrapper that takes the arguments typically passed to the function we want to decorate.\n",
    "\n",
    "Within the wrapper function, we invoke the desired function using the provided arguments. We can do this with the line: result = func(*args, **kwargs).\n",
    "\n",
    "Finally, the wrapper function returns the result of the decorated function’s execution. The decorator function should return a reference to the wrapper function we just created.\n",
    "\n",
    "To utilize the decorator, you can apply it to the desired function using the @ symbol."
   ]
  },
  {
   "cell_type": "code",
   "execution_count": 2,
   "metadata": {},
   "outputs": [
    {
     "name": "stdout",
     "output_type": "stream",
     "text": [
      "Starting the model training function...\n",
      "Model training completed!\n",
      "Execution time: 5.001748561859131 seconds\n"
     ]
    }
   ],
   "source": [
    "@timer\n",
    "def train_model():\n",
    "    print(\"Starting the model training function...\")\n",
    "    # simulate a function execution by pausing the program for 5 seconds\n",
    "    time.sleep(5) \n",
    "    print(\"Model training completed!\")\n",
    "\n",
    "train_model() "
   ]
  }
 ],
 "metadata": {
  "kernelspec": {
   "display_name": "base",
   "language": "python",
   "name": "python3"
  },
  "language_info": {
   "codemirror_mode": {
    "name": "ipython",
    "version": 3
   },
   "file_extension": ".py",
   "mimetype": "text/x-python",
   "name": "python",
   "nbconvert_exporter": "python",
   "pygments_lexer": "ipython3",
   "version": "3.10.9"
  },
  "orig_nbformat": 4
 },
 "nbformat": 4,
 "nbformat_minor": 2
}
