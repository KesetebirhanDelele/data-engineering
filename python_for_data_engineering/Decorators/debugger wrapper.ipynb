{
 "cells": [
  {
   "cell_type": "markdown",
   "metadata": {},
   "source": [
    "# Debugger\n",
    "An additional useful wrapper function can be created to facilitate debugging by printing the inputs and outputs of each function. This approach allows us to gain insight into the execution flow of various functions without cluttering our applications with multiple print statements."
   ]
  },
  {
   "cell_type": "code",
   "execution_count": 1,
   "metadata": {},
   "outputs": [],
   "source": [
    "def debug(func):\n",
    "    def wrapper(*args, **kwargs):\n",
    "        # print the fucntion name and arguments\n",
    "        print(f\"Calling {func.__name__} with args: {args} kwargs: {kwargs}\")\n",
    "        # call the function\n",
    "        result = func(*args, **kwargs)\n",
    "        # print the results\n",
    "        print(f\"{func.__name__} returned: {result}\")\n",
    "        return result\n",
    "    return wrapper"
   ]
  },
  {
   "cell_type": "markdown",
   "metadata": {},
   "source": [
    "We can use the __name__ parameters to get the name of the function being called and then args , kwargsparameters to print what was passed to the function.\n"
   ]
  },
  {
   "cell_type": "code",
   "execution_count": 2,
   "metadata": {},
   "outputs": [
    {
     "name": "stdout",
     "output_type": "stream",
     "text": [
      "Calling add_numbers with args: (7,) kwargs: {'y': 5}\n",
      "add_numbers returned: 12\n"
     ]
    },
    {
     "data": {
      "text/plain": [
       "12"
      ]
     },
     "execution_count": 2,
     "metadata": {},
     "output_type": "execute_result"
    }
   ],
   "source": [
    "@debug\n",
    "def add_numbers(x, y):\n",
    "    return x + y\n",
    "add_numbers(7, y=5,)  # Output: Calling add_numbers with args: (7) kwargs: {'y': 5} \\n add_numbers returned: 12"
   ]
  }
 ],
 "metadata": {
  "kernelspec": {
   "display_name": "base",
   "language": "python",
   "name": "python3"
  },
  "language_info": {
   "codemirror_mode": {
    "name": "ipython",
    "version": 3
   },
   "file_extension": ".py",
   "mimetype": "text/x-python",
   "name": "python",
   "nbconvert_exporter": "python",
   "pygments_lexer": "ipython3",
   "version": "3.10.9"
  },
  "orig_nbformat": 4
 },
 "nbformat": 4,
 "nbformat_minor": 2
}
