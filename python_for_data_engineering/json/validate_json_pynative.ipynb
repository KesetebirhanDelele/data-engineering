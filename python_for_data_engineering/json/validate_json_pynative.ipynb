{
 "cells": [
  {
   "attachments": {},
   "cell_type": "markdown",
   "metadata": {},
   "source": [
    "[Source file](https://pynative.com/python-json-validation/)"
   ]
  },
  {
   "attachments": {},
   "cell_type": "markdown",
   "metadata": {},
   "source": [
    "# Validate JSON data using Python\n",
    "## Two scenarios will be covered:\n",
    "1. Check if a string is valid JSON in Python: Here we can check if a string is valid JSON before parsing it. For example, if you are working with any API, what if it returns Invalid JSON or any other data? Here, we will validate JSON as per the standard convention format.\n",
    "2. Validate JSON Schema using Python: Here we will see how to validates incoming JSON data by checking if there all necessary fields present in JSON and also validate data types of those fields.\n",
    "![Alt text](python-json-load-loads-dump-dumps.png)"
   ]
  },
  {
   "attachments": {},
   "cell_type": "markdown",
   "metadata": {},
   "source": [
    "## 1. Check if a string is valid JSON in Python\n",
    "When we receive the JSON response from any API, we must validate it before performing any operation using that data. There are various ways to validate JSON as per the standard convention format.\n",
    "\n",
    "Using json.loads and json.load() method:\n",
    "\n",
    "As we know, the json module provides two methods to parse JSON data using Python.\n",
    "\n",
    "1. json.loads(): To parse JSON from String. Meaning to convert a json file into python object.\\\n",
    "2. json.load(): to Parse JSON from a file.\\\n",
    "Both methods will throw a ValueError if the string or data you pass can’t be decoded as JSON. When we receive a JSON response, we can pass it to the json.loads() method to validate it as per the standard convention."
   ]
  },
  {
   "attachments": {},
   "cell_type": "markdown",
   "metadata": {},
   "source": [
    "Note: json.loads() takes in a string and returns a json object. json.dumps() takes in a json object and returns a string."
   ]
  },
  {
   "cell_type": "code",
   "execution_count": 89,
   "metadata": {},
   "outputs": [
    {
     "name": "stdout",
     "output_type": "stream",
     "text": [
      "Given JSON string is Valid False\n",
      "Given JSON string is Valid True\n"
     ]
    }
   ],
   "source": [
    "import json\n",
    "\n",
    "def validateJSON(jsonData):\n",
    "    try:\n",
    "        json.loads(jsonData)\n",
    "    except ValueError as err:\n",
    "        return False\n",
    "    return True\n",
    "\n",
    "InvalidJsonData = \"\"\"{\"name\": \"jane doe\", \"salary\": 9000, \"email\": \"jane.doe@pynative.com\",}\"\"\"\n",
    "isValid = validateJSON(InvalidJsonData)\n",
    "\n",
    "print(\"Given JSON string is Valid\", isValid)\n",
    "\n",
    "validJsonData = \"\"\"{\"name\": \"jane doe\", \"salary\": 9000, \"email\": \"jane.doe@pynative.com\"}\"\"\"\n",
    "isValid = validateJSON(validJsonData)\n",
    "\n",
    "print(\"Given JSON string is Valid\", isValid)"
   ]
  },
  {
   "cell_type": "code",
   "execution_count": 90,
   "metadata": {},
   "outputs": [
    {
     "ename": "TypeError",
     "evalue": "the JSON object must be str, bytes or bytearray, not dict",
     "output_type": "error",
     "traceback": [
      "\u001b[1;31m---------------------------------------------------------------------------\u001b[0m",
      "\u001b[1;31mTypeError\u001b[0m                                 Traceback (most recent call last)",
      "\u001b[1;32mc:\\Users\\Kesetebirhan\\Desktop\\Project Folder\\data-engineering\\python_for_data_engineering\\json\\validate_json_pynative.ipynb Cell 5\u001b[0m in \u001b[0;36m<cell line: 4>\u001b[1;34m()\u001b[0m\n\u001b[0;32m      <a href='vscode-notebook-cell:/c%3A/Users/Kesetebirhan/Desktop/Project%20Folder/data-engineering/python_for_data_engineering/json/validate_json_pynative.ipynb#W3sZmlsZQ%3D%3D?line=0'>1</a>\u001b[0m \u001b[39m# Dictionary which is a python object is not valid format for validJSON function \u001b[39;00m\n\u001b[0;32m      <a href='vscode-notebook-cell:/c%3A/Users/Kesetebirhan/Desktop/Project%20Folder/data-engineering/python_for_data_engineering/json/validate_json_pynative.ipynb#W3sZmlsZQ%3D%3D?line=1'>2</a>\u001b[0m \u001b[39m# since the function takes json format, it will not work unless converted\u001b[39;00m\n\u001b[0;32m      <a href='vscode-notebook-cell:/c%3A/Users/Kesetebirhan/Desktop/Project%20Folder/data-engineering/python_for_data_engineering/json/validate_json_pynative.ipynb#W3sZmlsZQ%3D%3D?line=2'>3</a>\u001b[0m dictionary \u001b[39m=\u001b[39m {\u001b[39m\"\u001b[39m\u001b[39mname\u001b[39m\u001b[39m\"\u001b[39m: \u001b[39m\"\u001b[39m\u001b[39mjane doe\u001b[39m\u001b[39m\"\u001b[39m, \u001b[39m\"\u001b[39m\u001b[39msalary\u001b[39m\u001b[39m\"\u001b[39m: \u001b[39m9000\u001b[39m, \u001b[39m\"\u001b[39m\u001b[39memail\u001b[39m\u001b[39m\"\u001b[39m: \u001b[39m\"\u001b[39m\u001b[39mjane.doe@pynative.com\u001b[39m\u001b[39m\"\u001b[39m}\n\u001b[1;32m----> <a href='vscode-notebook-cell:/c%3A/Users/Kesetebirhan/Desktop/Project%20Folder/data-engineering/python_for_data_engineering/json/validate_json_pynative.ipynb#W3sZmlsZQ%3D%3D?line=3'>4</a>\u001b[0m isValid_dic \u001b[39m=\u001b[39m validateJSON(dictionary)\n\u001b[0;32m      <a href='vscode-notebook-cell:/c%3A/Users/Kesetebirhan/Desktop/Project%20Folder/data-engineering/python_for_data_engineering/json/validate_json_pynative.ipynb#W3sZmlsZQ%3D%3D?line=5'>6</a>\u001b[0m \u001b[39mprint\u001b[39m(\u001b[39m\"\u001b[39m\u001b[39mGiven JSON string is Valid\u001b[39m\u001b[39m\"\u001b[39m, isValid_dic)\n",
      "\u001b[1;32mc:\\Users\\Kesetebirhan\\Desktop\\Project Folder\\data-engineering\\python_for_data_engineering\\json\\validate_json_pynative.ipynb Cell 5\u001b[0m in \u001b[0;36mvalidateJSON\u001b[1;34m(jsonData)\u001b[0m\n\u001b[0;32m      <a href='vscode-notebook-cell:/c%3A/Users/Kesetebirhan/Desktop/Project%20Folder/data-engineering/python_for_data_engineering/json/validate_json_pynative.ipynb#W3sZmlsZQ%3D%3D?line=2'>3</a>\u001b[0m \u001b[39mdef\u001b[39;00m \u001b[39mvalidateJSON\u001b[39m(jsonData):\n\u001b[0;32m      <a href='vscode-notebook-cell:/c%3A/Users/Kesetebirhan/Desktop/Project%20Folder/data-engineering/python_for_data_engineering/json/validate_json_pynative.ipynb#W3sZmlsZQ%3D%3D?line=3'>4</a>\u001b[0m     \u001b[39mtry\u001b[39;00m:\n\u001b[1;32m----> <a href='vscode-notebook-cell:/c%3A/Users/Kesetebirhan/Desktop/Project%20Folder/data-engineering/python_for_data_engineering/json/validate_json_pynative.ipynb#W3sZmlsZQ%3D%3D?line=4'>5</a>\u001b[0m         json\u001b[39m.\u001b[39;49mloads(jsonData)\n\u001b[0;32m      <a href='vscode-notebook-cell:/c%3A/Users/Kesetebirhan/Desktop/Project%20Folder/data-engineering/python_for_data_engineering/json/validate_json_pynative.ipynb#W3sZmlsZQ%3D%3D?line=5'>6</a>\u001b[0m     \u001b[39mexcept\u001b[39;00m \u001b[39mValueError\u001b[39;00m \u001b[39mas\u001b[39;00m err:\n\u001b[0;32m      <a href='vscode-notebook-cell:/c%3A/Users/Kesetebirhan/Desktop/Project%20Folder/data-engineering/python_for_data_engineering/json/validate_json_pynative.ipynb#W3sZmlsZQ%3D%3D?line=6'>7</a>\u001b[0m         \u001b[39mreturn\u001b[39;00m \u001b[39mFalse\u001b[39;00m\n",
      "File \u001b[1;32mc:\\Users\\Kesetebirhan\\anaconda3\\lib\\json\\__init__.py:339\u001b[0m, in \u001b[0;36mloads\u001b[1;34m(s, cls, object_hook, parse_float, parse_int, parse_constant, object_pairs_hook, **kw)\u001b[0m\n\u001b[0;32m    337\u001b[0m \u001b[39melse\u001b[39;00m:\n\u001b[0;32m    338\u001b[0m     \u001b[39mif\u001b[39;00m \u001b[39mnot\u001b[39;00m \u001b[39misinstance\u001b[39m(s, (\u001b[39mbytes\u001b[39m, \u001b[39mbytearray\u001b[39m)):\n\u001b[1;32m--> 339\u001b[0m         \u001b[39mraise\u001b[39;00m \u001b[39mTypeError\u001b[39;00m(\u001b[39mf\u001b[39m\u001b[39m'\u001b[39m\u001b[39mthe JSON object must be str, bytes or bytearray, \u001b[39m\u001b[39m'\u001b[39m\n\u001b[0;32m    340\u001b[0m                         \u001b[39mf\u001b[39m\u001b[39m'\u001b[39m\u001b[39mnot \u001b[39m\u001b[39m{\u001b[39;00ms\u001b[39m.\u001b[39m\u001b[39m__class__\u001b[39m\u001b[39m.\u001b[39m\u001b[39m__name__\u001b[39m\u001b[39m}\u001b[39;00m\u001b[39m'\u001b[39m)\n\u001b[0;32m    341\u001b[0m     s \u001b[39m=\u001b[39m s\u001b[39m.\u001b[39mdecode(detect_encoding(s), \u001b[39m'\u001b[39m\u001b[39msurrogatepass\u001b[39m\u001b[39m'\u001b[39m)\n\u001b[0;32m    343\u001b[0m \u001b[39mif\u001b[39;00m (\u001b[39mcls\u001b[39m \u001b[39mis\u001b[39;00m \u001b[39mNone\u001b[39;00m \u001b[39mand\u001b[39;00m object_hook \u001b[39mis\u001b[39;00m \u001b[39mNone\u001b[39;00m \u001b[39mand\u001b[39;00m\n\u001b[0;32m    344\u001b[0m         parse_int \u001b[39mis\u001b[39;00m \u001b[39mNone\u001b[39;00m \u001b[39mand\u001b[39;00m parse_float \u001b[39mis\u001b[39;00m \u001b[39mNone\u001b[39;00m \u001b[39mand\u001b[39;00m\n\u001b[0;32m    345\u001b[0m         parse_constant \u001b[39mis\u001b[39;00m \u001b[39mNone\u001b[39;00m \u001b[39mand\u001b[39;00m object_pairs_hook \u001b[39mis\u001b[39;00m \u001b[39mNone\u001b[39;00m \u001b[39mand\u001b[39;00m \u001b[39mnot\u001b[39;00m kw):\n",
      "\u001b[1;31mTypeError\u001b[0m: the JSON object must be str, bytes or bytearray, not dict"
     ]
    }
   ],
   "source": [
    "# Dictionary which is a python object is not valid format for validJSON function \n",
    "# since the function takes json format, it will not work unless converted\n",
    "dictionary = {\"name\": \"jane doe\", \"salary\": 9000, \"email\": \"jane.doe@pynative.com\"}\n",
    "isValid_dic = validateJSON(dictionary)\n",
    "\n",
    "print(\"Given JSON string is Valid\", isValid_dic)"
   ]
  },
  {
   "cell_type": "code",
   "execution_count": 91,
   "metadata": {},
   "outputs": [
    {
     "name": "stdout",
     "output_type": "stream",
     "text": [
      "Given JSON string is Valid True\n"
     ]
    }
   ],
   "source": [
    "# Use json.dumps to convert dictionary into a json format.\n",
    "import json\n",
    "dictionary = {\"name\": \"jane doe\", \"salary\": 9000, \"email\": \"jane.doe@pynative.com\"}\n",
    "json_format=json.dumps(dictionary)\n",
    "isValid_json_format = validateJSON(json_format)\n",
    "\n",
    "print(\"Given JSON string is Valid\", isValid_json_format)"
   ]
  },
  {
   "cell_type": "code",
   "execution_count": 115,
   "metadata": {},
   "outputs": [],
   "source": [
    "# Validating a json Schema\n",
    "import json\n",
    "import jsonschema\n",
    "from jsonschema import validate\n",
    "\n",
    "# Describe what kind of json you expect.\n",
    "studentSchema = {\n",
    "    \"type\": \"object\",\n",
    "    \"properties\": {\n",
    "        \"name\": {\"type\": \"string\"},\n",
    "        \"rollnumber\": {\"type\": \"number\"},\n",
    "        \"marks\": {\"type\": \"number\"},\n",
    "    },\n",
    "}\n",
    "\n",
    "def validateJsonSchema(jsonData):\n",
    "    try:\n",
    "        validate(instance=json.loads(jsonData),schema=studentSchema)\n",
    "    except jsonschema.exceptions.ValidationError as err:\n",
    "        return False\n",
    "    return True"
   ]
  },
  {
   "cell_type": "code",
   "execution_count": 116,
   "metadata": {},
   "outputs": [
    {
     "data": {
      "text/plain": [
       "dict"
      ]
     },
     "execution_count": 116,
     "metadata": {},
     "output_type": "execute_result"
    }
   ],
   "source": [
    "data={\"name\": \"jane doe\", \"rollnumber\": \"25\", \"marks\": 72}\n",
    "type(data)"
   ]
  },
  {
   "cell_type": "code",
   "execution_count": 117,
   "metadata": {},
   "outputs": [
    {
     "data": {
      "text/plain": [
       "str"
      ]
     },
     "execution_count": 117,
     "metadata": {},
     "output_type": "execute_result"
    }
   ],
   "source": [
    "type(json.dumps(data))"
   ]
  },
  {
   "cell_type": "code",
   "execution_count": 118,
   "metadata": {},
   "outputs": [
    {
     "data": {
      "text/plain": [
       "True"
      ]
     },
     "execution_count": 118,
     "metadata": {},
     "output_type": "execute_result"
    }
   ],
   "source": [
    "# Note that the validateJSON function takes a string input and hence data file format is not accepted \n",
    "# and will through an error. Converting it into a str_dictionary will correct the error. \n",
    "validateJSON(json.dumps(data))"
   ]
  },
  {
   "cell_type": "code",
   "execution_count": 121,
   "metadata": {},
   "outputs": [
    {
     "data": {
      "text/plain": [
       "False"
      ]
     },
     "execution_count": 121,
     "metadata": {},
     "output_type": "execute_result"
    }
   ],
   "source": [
    "validateJsonSchema(json.dumps(data))\n",
    "# The schema validation throws an error since 25 is string when it should be number "
   ]
  },
  {
   "cell_type": "code",
   "execution_count": 122,
   "metadata": {},
   "outputs": [
    {
     "data": {
      "text/plain": [
       "str"
      ]
     },
     "execution_count": 122,
     "metadata": {},
     "output_type": "execute_result"
    }
   ],
   "source": [
    "# Convert json to python object.\n",
    "# json.dumps can be used to change a disctionary into a string dictionary=json file\n",
    "jsonData1 = json.dumps({\"name\": \"jane doe\", \"rollnumber\": 25, \"marks\": 72})\n",
    "type(jsonData1)"
   ]
  },
  {
   "cell_type": "code",
   "execution_count": 123,
   "metadata": {},
   "outputs": [
    {
     "data": {
      "text/plain": [
       "True"
      ]
     },
     "execution_count": 123,
     "metadata": {},
     "output_type": "execute_result"
    }
   ],
   "source": [
    "validateJsonSchema(jsonData1)"
   ]
  },
  {
   "cell_type": "code",
   "execution_count": 124,
   "metadata": {},
   "outputs": [
    {
     "data": {
      "text/plain": [
       "True"
      ]
     },
     "execution_count": 124,
     "metadata": {},
     "output_type": "execute_result"
    }
   ],
   "source": [
    "validateJsonSchema('{\"name\": \"jane doe\", \"rollnumber\": 25, \"marks\": 72}')"
   ]
  }
 ],
 "metadata": {
  "kernelspec": {
   "display_name": "base",
   "language": "python",
   "name": "python3"
  },
  "language_info": {
   "codemirror_mode": {
    "name": "ipython",
    "version": 3
   },
   "file_extension": ".py",
   "mimetype": "text/x-python",
   "name": "python",
   "nbconvert_exporter": "python",
   "pygments_lexer": "ipython3",
   "version": "3.9.12"
  },
  "orig_nbformat": 4
 },
 "nbformat": 4,
 "nbformat_minor": 2
}
