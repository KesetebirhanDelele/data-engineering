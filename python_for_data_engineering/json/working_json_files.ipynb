{
 "cells": [
  {
   "cell_type": "code",
   "execution_count": 1,
   "metadata": {},
   "outputs": [],
   "source": [
    "# Import the json module\n",
    "import json\n",
    "from pprint import pprint\n",
    "# pp = pprint.PrettyPrinter(indent=4)"
   ]
  },
  {
   "attachments": {},
   "cell_type": "markdown",
   "metadata": {},
   "source": [
    " JSON basics\n",
    "\n",
    " JSON file format is basically a list of dictionaries in string format.\n",
    "\n",
    " Deserialization of JSON is a conversion of JSON objects into their respective Python objects using JSON decoder called json.loads().\n",
    " It is important to note here that the json.loads() method will not always return a dictionary. The following table shows JSON objects and the Python data types after conversion. For more details, see Python docs.\n",
    "\n",
    " |JSON OBJECT|PYTHON OBJECT|\n",
    " |-----------|-------------|\n",
    " |object|dict|\n",
    " |array|list|\n",
    " |string|str|\n",
    " |null|None|\n",
    " |number(int)|int|\n",
    " |number(real)|float|\n",
    " |true|True|\n",
    " |false|False|\n",
    "\n",
    " Note that json.load() method is used to read a file in json format from text or json into python object"
   ]
  },
  {
   "cell_type": "code",
   "execution_count": 2,
   "metadata": {},
   "outputs": [
    {
     "name": "stdout",
     "output_type": "stream",
     "text": [
      "[{'Country': 'France',\n",
      "  'CustomerID': 12583,\n",
      "  'Description': 'MINI PAINT SET VINTAGE',\n",
      "  'InvoiceDate': '12/1/2010 8:45',\n",
      "  'InvoiceNo': 536370,\n",
      "  'Quantity': 36,\n",
      "  'StockCode': 22492,\n",
      "  'UnitPrice': 0.65},\n",
      " {'Country': 'United Kingdom',\n",
      "  'CustomerID': 17850,\n",
      "  'Description': 'HAND WARMER RED POLKA DOT',\n",
      "  'InvoiceDate': '12/1/2010 9:01',\n",
      "  'InvoiceNo': 536372,\n",
      "  'Quantity': 6,\n",
      "  'StockCode': 22632,\n",
      "  'UnitPrice': 1.85},\n",
      " {'Country': 'Australia',\n",
      "  'CustomerID': 12431,\n",
      "  'Description': 'ALARM CLOCK BAKELIKE RED',\n",
      "  'InvoiceDate': '12/1/2010 10:03',\n",
      "  'InvoiceNo': 536389,\n",
      "  'Quantity': 4,\n",
      "  'StockCode': 22727,\n",
      "  'UnitPrice': 3.75},\n",
      " {'Country': 'United Kingdom',\n",
      "  'CustomerID': 14076,\n",
      "  'Description': 'SET OF 4 PANTRY JELLY MOULDS',\n",
      "  'InvoiceDate': '8/2/2011 15:19',\n",
      "  'InvoiceNo': 562106,\n",
      "  'Quantity': 1,\n",
      "  'StockCode': 22993,\n",
      "  'UnitPrice': 1.25}]\n"
     ]
    }
   ],
   "source": [
    "# Load JSON from file (deserialize text or binary file containing a JSON document to a Python object)\n",
    "\n",
    "with open(\"./invoice.txt\") as json_file:\n",
    "    data = json.load(json_file)\n",
    "pprint(data)"
   ]
  },
  {
   "cell_type": "code",
   "execution_count": 3,
   "metadata": {},
   "outputs": [
    {
     "name": "stdout",
     "output_type": "stream",
     "text": [
      "('[{\"Country\": \"France\", \"CustomerID\": 12583, \"Description\": \"MINI PAINT SET '\n",
      " 'VINTAGE\", \"InvoiceDate\": \"12/1/2010 8:45\", \"InvoiceNo\": 536370, \"Quantity\": '\n",
      " '36, \"StockCode\": 22492, \"UnitPrice\": 0.65}, {\"Country\": \"United Kingdom\", '\n",
      " '\"CustomerID\": 17850, \"Description\": \"HAND WARMER RED POLKA DOT\", '\n",
      " '\"InvoiceDate\": \"12/1/2010 9:01\", \"InvoiceNo\": 536372, \"Quantity\": 6, '\n",
      " '\"StockCode\": 22632, \"UnitPrice\": 1.85}, {\"Country\": \"Australia\", '\n",
      " '\"CustomerID\": 12431, \"Description\": \"ALARM CLOCK BAKELIKE RED\", '\n",
      " '\"InvoiceDate\": \"12/1/2010 10:03\", \"InvoiceNo\": 536389, \"Quantity\": 4, '\n",
      " '\"StockCode\": 22727, \"UnitPrice\": 3.75}, {\"Country\": \"United Kingdom\", '\n",
      " '\"CustomerID\": 14076, \"Description\": \"SET OF 4 PANTRY JELLY MOULDS\", '\n",
      " '\"InvoiceDate\": \"8/2/2011 15:19\", \"InvoiceNo\": 562106, \"Quantity\": 1, '\n",
      " '\"StockCode\": 22993, \"UnitPrice\": 1.25}]')\n"
     ]
    }
   ],
   "source": [
    "# Create JSON string (serialize object to a JSON formatted string) and pretty print of JSON string\n",
    "\n",
    "json_formatted_string = json.dumps(data)\n",
    "pprint(json_formatted_string)"
   ]
  },
  {
   "cell_type": "code",
   "execution_count": 4,
   "metadata": {},
   "outputs": [
    {
     "name": "stdout",
     "output_type": "stream",
     "text": [
      "[{'Country': 'France',\n",
      "  'CustomerID': 12583,\n",
      "  'Description': 'MINI PAINT SET VINTAGE',\n",
      "  'InvoiceDate': '12/1/2010 8:45',\n",
      "  'InvoiceNo': 536370,\n",
      "  'Quantity': 36,\n",
      "  'StockCode': 22492,\n",
      "  'UnitPrice': 0.65},\n",
      " {'Country': 'United Kingdom',\n",
      "  'CustomerID': 17850,\n",
      "  'Description': 'HAND WARMER RED POLKA DOT',\n",
      "  'InvoiceDate': '12/1/2010 9:01',\n",
      "  'InvoiceNo': 536372,\n",
      "  'Quantity': 6,\n",
      "  'StockCode': 22632,\n",
      "  'UnitPrice': 1.85},\n",
      " {'Country': 'Australia',\n",
      "  'CustomerID': 12431,\n",
      "  'Description': 'ALARM CLOCK BAKELIKE RED',\n",
      "  'InvoiceDate': '12/1/2010 10:03',\n",
      "  'InvoiceNo': 536389,\n",
      "  'Quantity': 4,\n",
      "  'StockCode': 22727,\n",
      "  'UnitPrice': 3.75},\n",
      " {'Country': 'United Kingdom',\n",
      "  'CustomerID': 14076,\n",
      "  'Description': 'SET OF 4 PANTRY JELLY MOULDS',\n",
      "  'InvoiceDate': '8/2/2011 15:19',\n",
      "  'InvoiceNo': 562106,\n",
      "  'Quantity': 1,\n",
      "  'StockCode': 22993,\n",
      "  'UnitPrice': 1.25}]\n"
     ]
    }
   ],
   "source": [
    "# Load JSON string (deserialize a str, bytes or bytearray instance containing a JSON document to a Python object)\n",
    "\n",
    "transactions_list_of_dicts = json.loads(json_formatted_string)\n",
    "pprint(transactions_list_of_dicts)"
   ]
  },
  {
   "attachments": {},
   "cell_type": "markdown",
   "metadata": {},
   "source": [
    "# Access individual attributes within the object"
   ]
  },
  {
   "cell_type": "code",
   "execution_count": 5,
   "metadata": {},
   "outputs": [
    {
     "name": "stdout",
     "output_type": "stream",
     "text": [
      "dict_keys(['Country', 'CustomerID', 'Description', 'InvoiceDate', 'InvoiceNo', 'Quantity', 'StockCode', 'UnitPrice'])\n"
     ]
    }
   ],
   "source": [
    "# List of keys at the first list element (dictionary)\n",
    "pprint(transactions_list_of_dicts[0].keys())"
   ]
  },
  {
   "cell_type": "code",
   "execution_count": 6,
   "metadata": {},
   "outputs": [
    {
     "name": "stdout",
     "output_type": "stream",
     "text": [
      "536370\n",
      "536372\n",
      "536389\n",
      "562106\n"
     ]
    }
   ],
   "source": [
    "# Loop through a list of transactions and access all 'InvoiceNo' for each transaction by using .get method with a key name 'InvoiceNo'\n",
    "for transaction in transactions_list_of_dicts:\n",
    "    pprint(transaction.get('InvoiceNo'))"
   ]
  },
  {
   "cell_type": "code",
   "execution_count": 7,
   "metadata": {},
   "outputs": [
    {
     "name": "stdout",
     "output_type": "stream",
     "text": [
      "[{'Country': 'Nowhere',\n",
      "  'CustomerID': 1,\n",
      "  'Description': 'Updated dict',\n",
      "  'InvoiceDate': '9/9/9999 9:99',\n",
      "  'InvoiceNo': 1,\n",
      "  'Quantity': 1,\n",
      "  'StockCode': 1,\n",
      "  'UnitPrice': 1},\n",
      " {'Country': 'United Kingdom',\n",
      "  'CustomerID': 17850,\n",
      "  'Description': 'HAND WARMER RED POLKA DOT',\n",
      "  'InvoiceDate': '12/1/2010 9:01',\n",
      "  'InvoiceNo': 536372,\n",
      "  'Quantity': 6,\n",
      "  'StockCode': 22632,\n",
      "  'UnitPrice': 1.85},\n",
      " {'Country': 'Australia',\n",
      "  'CustomerID': 12431,\n",
      "  'Description': 'ALARM CLOCK BAKELIKE RED',\n",
      "  'InvoiceDate': '12/1/2010 10:03',\n",
      "  'InvoiceNo': 536389,\n",
      "  'Quantity': 4,\n",
      "  'StockCode': 22727,\n",
      "  'UnitPrice': 3.75},\n",
      " {'Country': 'United Kingdom',\n",
      "  'CustomerID': 14076,\n",
      "  'Description': 'SET OF 4 PANTRY JELLY MOULDS',\n",
      "  'InvoiceDate': '8/2/2011 15:19',\n",
      "  'InvoiceNo': 562106,\n",
      "  'Quantity': 1,\n",
      "  'StockCode': 22993,\n",
      "  'UnitPrice': 1.25}]\n"
     ]
    }
   ],
   "source": [
    "# Modify the object's attributes\n",
    "# Update a value of the transaction with a InvoiceNo 536370\n",
    "\n",
    "# old dictionary:\n",
    "# {\n",
    "#         \"InvoiceNo\": 536370,\n",
    "#         \"StockCode\": 22492,\n",
    "#         \"Description\": \"MINI PAINT SET VINTAGE\",\n",
    "#         \"Quantity\": 36,\n",
    "#         \"InvoiceDate\": \"12/1/2010 8:45\",\n",
    "#         \"UnitPrice\": 0.65,\n",
    "#         \"CustomerID\": 12583,\n",
    "#         \"Country\": \"France\"\n",
    "#     }\n",
    "\n",
    "# and replace it with new dictionary\n",
    "\n",
    "update_dict = {\n",
    "    \"InvoiceNo\": 1,\n",
    "    \"StockCode\": 1,\n",
    "    \"Description\": \"Updated dict\",\n",
    "    \"Quantity\": 1,\n",
    "    \"InvoiceDate\": \"9/9/9999 9:99\",\n",
    "    \"UnitPrice\": 1,\n",
    "    \"CustomerID\": 1,\n",
    "    \"Country\": \"Nowhere\"\n",
    "}\n",
    "\n",
    "for transaction in transactions_list_of_dicts:\n",
    "    if transaction.get('InvoiceNo') == 536370:\n",
    "        transaction.update(update_dict)\n",
    "pprint(transactions_list_of_dicts)"
   ]
  },
  {
   "cell_type": "code",
   "execution_count": 8,
   "metadata": {},
   "outputs": [
    {
     "name": "stdout",
     "output_type": "stream",
     "text": [
      "('[{\"Country\": \"Nowhere\", \"CustomerID\": 1, \"Description\": \"Updated dict\", '\n",
      " '\"InvoiceDate\": \"9/9/9999 9:99\", \"InvoiceNo\": 1, \"Quantity\": 1, \"StockCode\": '\n",
      " '1, \"UnitPrice\": 1}, {\"Country\": \"United Kingdom\", \"CustomerID\": 17850, '\n",
      " '\"Description\": \"HAND WARMER RED POLKA DOT\", \"InvoiceDate\": \"12/1/2010 9:01\", '\n",
      " '\"InvoiceNo\": 536372, \"Quantity\": 6, \"StockCode\": 22632, \"UnitPrice\": 1.85}, '\n",
      " '{\"Country\": \"Australia\", \"CustomerID\": 12431, \"Description\": \"ALARM CLOCK '\n",
      " 'BAKELIKE RED\", \"InvoiceDate\": \"12/1/2010 10:03\", \"InvoiceNo\": 536389, '\n",
      " '\"Quantity\": 4, \"StockCode\": 22727, \"UnitPrice\": 3.75}, {\"Country\": \"United '\n",
      " 'Kingdom\", \"CustomerID\": 14076, \"Description\": \"SET OF 4 PANTRY JELLY '\n",
      " 'MOULDS\", \"InvoiceDate\": \"8/2/2011 15:19\", \"InvoiceNo\": 562106, \"Quantity\": '\n",
      " '1, \"StockCode\": 22993, \"UnitPrice\": 1.25}]')\n"
     ]
    }
   ],
   "source": [
    "\n",
    "# Converting Python objects to JSON objects is also known as serialization or JSON encoding\n",
    "\n",
    "# Dump it back into a string:\n",
    "\n",
    "pprint(json.dumps(transactions_list_of_dicts))"
   ]
  },
  {
   "cell_type": "code",
   "execution_count": 9,
   "metadata": {},
   "outputs": [],
   "source": [
    "# or to a json_file (do not forget to specify 'w' write mode):\n",
    "with open(\"./dumped_json.json\", 'w') as json_file:\n",
    "    json.dump(transactions_list_of_dicts, json_file)"
   ]
  },
  {
   "cell_type": "code",
   "execution_count": 16,
   "metadata": {},
   "outputs": [],
   "source": [
    "# or to a string_file (do not forget to specify 'w' write mode):\n",
    "with open(\"./dumped_txt.txt\", 'w') as json_file:\n",
    "    json.dumps(transactions_list_of_dicts)"
   ]
  }
 ],
 "metadata": {
  "kernelspec": {
   "display_name": "base",
   "language": "python",
   "name": "python3"
  },
  "language_info": {
   "codemirror_mode": {
    "name": "ipython",
    "version": 3
   },
   "file_extension": ".py",
   "mimetype": "text/x-python",
   "name": "python",
   "nbconvert_exporter": "python",
   "pygments_lexer": "ipython3",
   "version": "3.9.12"
  },
  "orig_nbformat": 4
 },
 "nbformat": 4,
 "nbformat_minor": 2
}
