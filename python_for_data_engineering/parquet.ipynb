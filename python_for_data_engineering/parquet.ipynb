{
 "cells": [
  {
   "cell_type": "code",
   "execution_count": 153,
   "metadata": {},
   "outputs": [
    {
     "name": "stdout",
     "output_type": "stream",
     "text": [
      "Index(['InvoiceNo', 'StockCode', 'Description', 'Quantity', 'InvoiceDate',\n",
      "       'UnitPrice', 'CustomerID', 'Country'],\n",
      "      dtype='object')\n"
     ]
    }
   ],
   "source": [
    "# pip install pandas\n",
    "import pandas as pd\n",
    "\n",
    "# load a csv file\n",
    "e_commerce_data_path_csv = \"./data/data.csv\"\n",
    "e_commerce_csv_df = pd.read_csv(\n",
    "    e_commerce_data_path_csv,  encoding='unicode_escape')#, nrows=1000)\n",
    "# show columns\n",
    "print(e_commerce_csv_df.columns)"
   ]
  },
  {
   "cell_type": "code",
   "execution_count": 154,
   "metadata": {},
   "outputs": [
    {
     "name": "stdout",
     "output_type": "stream",
     "text": [
      "InvoiceNo       string\n",
      "StockCode       string\n",
      "Description     string\n",
      "Quantity         Int64\n",
      "InvoiceDate     string\n",
      "UnitPrice      Float64\n",
      "CustomerID       Int64\n",
      "Country         string\n",
      "dtype: object\n"
     ]
    }
   ],
   "source": [
    "e_commerce_csv_df = e_commerce_csv_df.convert_dtypes()\n",
    "# New dtypes\n",
    "print(e_commerce_csv_df.dtypes)"
   ]
  },
  {
   "cell_type": "code",
   "execution_count": 155,
   "metadata": {},
   "outputs": [
    {
     "name": "stdout",
     "output_type": "stream",
     "text": [
      "InvoiceNo       string\n",
      "StockCode       string\n",
      "Description     string\n",
      "Quantity       float64\n",
      "InvoiceDate     string\n",
      "UnitPrice      Float64\n",
      "CustomerID     float64\n",
      "Country         string\n",
      "dtype: object\n"
     ]
    }
   ],
   "source": [
    "temp_dtype_change_df = e_commerce_csv_df.astype(\n",
    "    {'Quantity': 'float64',\n",
    "     'CustomerID': 'float64'\n",
    "     }\n",
    ")\n",
    "print(temp_dtype_change_df.dtypes)"
   ]
  },
  {
   "cell_type": "code",
   "execution_count": 156,
   "metadata": {},
   "outputs": [
    {
     "data": {
      "text/html": [
       "<div>\n",
       "<style scoped>\n",
       "    .dataframe tbody tr th:only-of-type {\n",
       "        vertical-align: middle;\n",
       "    }\n",
       "\n",
       "    .dataframe tbody tr th {\n",
       "        vertical-align: top;\n",
       "    }\n",
       "\n",
       "    .dataframe thead th {\n",
       "        text-align: right;\n",
       "    }\n",
       "</style>\n",
       "<table border=\"1\" class=\"dataframe\">\n",
       "  <thead>\n",
       "    <tr style=\"text-align: right;\">\n",
       "      <th></th>\n",
       "      <th>InvoiceNo</th>\n",
       "      <th>StockCode</th>\n",
       "      <th>Description</th>\n",
       "      <th>Quantity</th>\n",
       "      <th>InvoiceDate</th>\n",
       "      <th>UnitPrice</th>\n",
       "      <th>CustomerID</th>\n",
       "      <th>Country</th>\n",
       "    </tr>\n",
       "  </thead>\n",
       "  <tbody>\n",
       "    <tr>\n",
       "      <th>0</th>\n",
       "      <td>536365</td>\n",
       "      <td>85123A</td>\n",
       "      <td>WHITE HANGING HEART T-LIGHT HOLDER</td>\n",
       "      <td>6</td>\n",
       "      <td>12/1/2010 8:26</td>\n",
       "      <td>2.55</td>\n",
       "      <td>17850</td>\n",
       "      <td>United Kingdom</td>\n",
       "    </tr>\n",
       "    <tr>\n",
       "      <th>1</th>\n",
       "      <td>536365</td>\n",
       "      <td>71053</td>\n",
       "      <td>WHITE METAL LANTERN</td>\n",
       "      <td>6</td>\n",
       "      <td>12/1/2010 8:26</td>\n",
       "      <td>3.39</td>\n",
       "      <td>17850</td>\n",
       "      <td>United Kingdom</td>\n",
       "    </tr>\n",
       "    <tr>\n",
       "      <th>2</th>\n",
       "      <td>536365</td>\n",
       "      <td>84406B</td>\n",
       "      <td>CREAM CUPID HEARTS COAT HANGER</td>\n",
       "      <td>8</td>\n",
       "      <td>12/1/2010 8:26</td>\n",
       "      <td>2.75</td>\n",
       "      <td>17850</td>\n",
       "      <td>United Kingdom</td>\n",
       "    </tr>\n",
       "    <tr>\n",
       "      <th>3</th>\n",
       "      <td>536365</td>\n",
       "      <td>84029G</td>\n",
       "      <td>KNITTED UNION FLAG HOT WATER BOTTLE</td>\n",
       "      <td>6</td>\n",
       "      <td>12/1/2010 8:26</td>\n",
       "      <td>3.39</td>\n",
       "      <td>17850</td>\n",
       "      <td>United Kingdom</td>\n",
       "    </tr>\n",
       "    <tr>\n",
       "      <th>4</th>\n",
       "      <td>536365</td>\n",
       "      <td>84029E</td>\n",
       "      <td>RED WOOLLY HOTTIE WHITE HEART.</td>\n",
       "      <td>6</td>\n",
       "      <td>12/1/2010 8:26</td>\n",
       "      <td>3.39</td>\n",
       "      <td>17850</td>\n",
       "      <td>United Kingdom</td>\n",
       "    </tr>\n",
       "  </tbody>\n",
       "</table>\n",
       "</div>"
      ],
      "text/plain": [
       "  InvoiceNo StockCode                          Description  Quantity  \\\n",
       "0    536365    85123A   WHITE HANGING HEART T-LIGHT HOLDER         6   \n",
       "1    536365     71053                  WHITE METAL LANTERN         6   \n",
       "2    536365    84406B       CREAM CUPID HEARTS COAT HANGER         8   \n",
       "3    536365    84029G  KNITTED UNION FLAG HOT WATER BOTTLE         6   \n",
       "4    536365    84029E       RED WOOLLY HOTTIE WHITE HEART.         6   \n",
       "\n",
       "      InvoiceDate  UnitPrice  CustomerID         Country  \n",
       "0  12/1/2010 8:26       2.55       17850  United Kingdom  \n",
       "1  12/1/2010 8:26       3.39       17850  United Kingdom  \n",
       "2  12/1/2010 8:26       2.75       17850  United Kingdom  \n",
       "3  12/1/2010 8:26       3.39       17850  United Kingdom  \n",
       "4  12/1/2010 8:26       3.39       17850  United Kingdom  "
      ]
     },
     "execution_count": 156,
     "metadata": {},
     "output_type": "execute_result"
    }
   ],
   "source": [
    "e_commerce_csv_df.head()"
   ]
  },
  {
   "cell_type": "code",
   "execution_count": 157,
   "metadata": {},
   "outputs": [
    {
     "name": "stdout",
     "output_type": "stream",
     "text": [
      "541912\n"
     ]
    }
   ],
   "source": [
    "# load json\n",
    "e_commerce_data_path_json = \"./json/dumped_json.json\"\n",
    "e_commerce_json_df = pd.read_json(\n",
    "    e_commerce_data_path_json,  encoding='unicode_escape')\n",
    "\n",
    "# see how many rows you should have after appending\n",
    "print(len(e_commerce_csv_df) + len(e_commerce_json_df))"
   ]
  },
  {
   "cell_type": "code",
   "execution_count": 158,
   "metadata": {},
   "outputs": [
    {
     "name": "stdout",
     "output_type": "stream",
     "text": [
      "       InvoiceNo StockCode                          Description  Quantity  \\\n",
      "0         536365    85123A   WHITE HANGING HEART T-LIGHT HOLDER         6   \n",
      "1         536365     71053                  WHITE METAL LANTERN         6   \n",
      "2         536365    84406B       CREAM CUPID HEARTS COAT HANGER         8   \n",
      "3         536365    84029G  KNITTED UNION FLAG HOT WATER BOTTLE         6   \n",
      "4         536365    84029E       RED WOOLLY HOTTIE WHITE HEART.         6   \n",
      "...          ...       ...                                  ...       ...   \n",
      "541907    581587     22138        BAKING SET 9 PIECE RETROSPOT          3   \n",
      "0              1         1                         Updated dict         1   \n",
      "1         536372     22632            HAND WARMER RED POLKA DOT         6   \n",
      "2         536389     22727             ALARM CLOCK BAKELIKE RED         4   \n",
      "3         562106     22993         SET OF 4 PANTRY JELLY MOULDS         1   \n",
      "\n",
      "            InvoiceDate  UnitPrice  CustomerID         Country  \n",
      "0        12/1/2010 8:26       2.55       17850  United Kingdom  \n",
      "1        12/1/2010 8:26       3.39       17850  United Kingdom  \n",
      "2        12/1/2010 8:26       2.75       17850  United Kingdom  \n",
      "3        12/1/2010 8:26       3.39       17850  United Kingdom  \n",
      "4        12/1/2010 8:26       3.39       17850  United Kingdom  \n",
      "...                 ...        ...         ...             ...  \n",
      "541907  12/9/2011 12:50       4.95       12680          France  \n",
      "0         9/9/9999 9:99        1.0           1         Nowhere  \n",
      "1        12/1/2010 9:01       1.85       17850  United Kingdom  \n",
      "2       12/1/2010 10:03       3.75       12431       Australia  \n",
      "3        8/2/2011 15:19       1.25       14076  United Kingdom  \n",
      "\n",
      "[541912 rows x 8 columns]\n"
     ]
    },
    {
     "name": "stderr",
     "output_type": "stream",
     "text": [
      "C:\\Users\\keset\\AppData\\Local\\Temp\\ipykernel_43656\\4249979361.py:2: FutureWarning: The frame.append method is deprecated and will be removed from pandas in a future version. Use pandas.concat instead.\n",
      "  e_commerce_appended_df = e_commerce_csv_df.append(e_commerce_json_df)\n"
     ]
    }
   ],
   "source": [
    "# Append the csv and the json to a new dataframe\n",
    "e_commerce_appended_df = e_commerce_csv_df.append(e_commerce_json_df)\n",
    "print(e_commerce_appended_df)"
   ]
  },
  {
   "cell_type": "code",
   "execution_count": 159,
   "metadata": {},
   "outputs": [
    {
     "name": "stdout",
     "output_type": "stream",
     "text": [
      "          Country Language\n",
      "0  United Kingdom  English\n",
      "1          France   French\n",
      "2       Australia  English\n",
      "3     Netherlands    Dutch\n",
      "       InvoiceNo StockCode                          Description  Quantity  \\\n",
      "0         536365    85123A   WHITE HANGING HEART T-LIGHT HOLDER         6   \n",
      "1         536365     71053                  WHITE METAL LANTERN         6   \n",
      "2         536365    84406B       CREAM CUPID HEARTS COAT HANGER         8   \n",
      "3         536365    84029G  KNITTED UNION FLAG HOT WATER BOTTLE         6   \n",
      "4         536365    84029E       RED WOOLLY HOTTIE WHITE HEART.         6   \n",
      "...          ...       ...                                  ...       ...   \n",
      "507659    581176     22908        PACK OF 20 NAPKINS RED APPLES        96   \n",
      "507660    581176     22907     PACK OF 20 NAPKINS PANTRY DESIGN        96   \n",
      "507661    581176     22029               SPACEBOY BIRTHDAY CARD        72   \n",
      "507662    581176     22712                     CARD DOLLY GIRL         72   \n",
      "507663    581338     23344            JUMBO BAG 50'S CHRISTMAS        140   \n",
      "\n",
      "            InvoiceDate  UnitPrice  CustomerID         Country Language  \n",
      "0        12/1/2010 8:26       2.55       17850  United Kingdom  English  \n",
      "1        12/1/2010 8:26       3.39       17850  United Kingdom  English  \n",
      "2        12/1/2010 8:26       2.75       17850  United Kingdom  English  \n",
      "3        12/1/2010 8:26       3.39       17850  United Kingdom  English  \n",
      "4        12/1/2010 8:26       3.39       17850  United Kingdom  English  \n",
      "...                 ...        ...         ...             ...      ...  \n",
      "507659  12/7/2011 15:19       0.72       14646     Netherlands    Dutch  \n",
      "507660  12/7/2011 15:19       0.72       14646     Netherlands    Dutch  \n",
      "507661  12/7/2011 15:19       0.36       14646     Netherlands    Dutch  \n",
      "507662  12/7/2011 15:19       0.36       14646     Netherlands    Dutch  \n",
      "507663  12/8/2011 12:12       1.79       14646     Netherlands    Dutch  \n",
      "\n",
      "[507664 rows x 9 columns]\n"
     ]
    }
   ],
   "source": [
    "# Adding Language of each country\n",
    "my_json = '{\"Country\" : [\"United Kingdom\", \"France\", \"Australia\", \"Netherlands\"],\"Language\":[\"English\" , \"French\", \"English\" , \"Dutch\"]}'\n",
    "json_df = pd.read_json(my_json)\n",
    "print(json_df)\n",
    "\n",
    "e_commerce_csv_df = e_commerce_csv_df.merge(json_df,on = \"Country\")\n",
    "print(e_commerce_csv_df)"
   ]
  },
  {
   "cell_type": "code",
   "execution_count": 160,
   "metadata": {},
   "outputs": [
    {
     "data": {
      "text/plain": [
       "'9/9/9999 9:99'"
      ]
     },
     "execution_count": 160,
     "metadata": {},
     "output_type": "execute_result"
    }
   ],
   "source": [
    "max(e_commerce_appended_df['InvoiceDate'])"
   ]
  },
  {
   "cell_type": "code",
   "execution_count": 161,
   "metadata": {},
   "outputs": [],
   "source": [
    "# Convert minute 99 to 59 to make it in the allowed range\n",
    "e_commerce_appended_df['InvoiceDate'] = e_commerce_appended_df['InvoiceDate'].replace('9/9/9999 9:99', '9/9/2099 9:59')"
   ]
  },
  {
   "cell_type": "code",
   "execution_count": 162,
   "metadata": {},
   "outputs": [
    {
     "data": {
      "text/plain": [
       "'9/9/2099 9:59'"
      ]
     },
     "execution_count": 162,
     "metadata": {},
     "output_type": "execute_result"
    }
   ],
   "source": [
    "max(e_commerce_appended_df['InvoiceDate'])"
   ]
  },
  {
   "cell_type": "code",
   "execution_count": 163,
   "metadata": {},
   "outputs": [
    {
     "name": "stdout",
     "output_type": "stream",
     "text": [
      "InvoiceNo       object\n",
      "StockCode       object\n",
      "Description     object\n",
      "Quantity         Int64\n",
      "InvoiceDate     object\n",
      "UnitPrice      Float64\n",
      "CustomerID       Int64\n",
      "Country         object\n",
      "dtype: object\n"
     ]
    }
   ],
   "source": [
    "print(e_commerce_appended_df.dtypes)"
   ]
  },
  {
   "cell_type": "code",
   "execution_count": 164,
   "metadata": {},
   "outputs": [
    {
     "name": "stdout",
     "output_type": "stream",
     "text": [
      "InvoiceNo              object\n",
      "StockCode              object\n",
      "Description            object\n",
      "Quantity                Int64\n",
      "InvoiceDate    datetime64[ns]\n",
      "UnitPrice             Float64\n",
      "CustomerID              Int64\n",
      "Country                object\n",
      "dtype: object\n"
     ]
    }
   ],
   "source": [
    "# turning invoice date into timestamp\n",
    "e_commerce_appended_df['InvoiceDate'] = pd.to_datetime(e_commerce_appended_df['InvoiceDate'])\n",
    "print(e_commerce_appended_df.dtypes)"
   ]
  },
  {
   "cell_type": "code",
   "execution_count": 165,
   "metadata": {},
   "outputs": [
    {
     "name": "stdout",
     "output_type": "stream",
     "text": [
      "Index(['InvoiceNo', 'StockCode', 'Description', 'InvoiceDate', 'UnitPrice',\n",
      "       'CustomerID'],\n",
      "      dtype='object')\n"
     ]
    }
   ],
   "source": [
    "# Filter out two columns \"Country\" and \"Quantity\" by dropping them\n",
    "e_commerce_appended_df = e_commerce_appended_df.drop(\n",
    "    [\"Country\", \"Quantity\"], axis=\"columns\")\n",
    "\n",
    "print(e_commerce_appended_df.columns)"
   ]
  },
  {
   "cell_type": "code",
   "execution_count": 166,
   "metadata": {},
   "outputs": [
    {
     "name": "stdout",
     "output_type": "stream",
     "text": [
      "  InvoiceNo StockCode                          Description  Quantity  \\\n",
      "0    536365    85123A   WHITE HANGING HEART T-LIGHT HOLDER  0.000074   \n",
      "1    536365     71053                  WHITE METAL LANTERN  0.000074   \n",
      "2    536365    84406B       CREAM CUPID HEARTS COAT HANGER  0.000099   \n",
      "3    536365    84029G  KNITTED UNION FLAG HOT WATER BOTTLE  0.000074   \n",
      "4    536365    84029E       RED WOOLLY HOTTIE WHITE HEART.  0.000074   \n",
      "\n",
      "      InvoiceDate  UnitPrice  CustomerID         Country Language  \n",
      "0  12/1/2010 8:26   0.006543       17850  United Kingdom  English  \n",
      "1  12/1/2010 8:26   0.008699       17850  United Kingdom  English  \n",
      "2  12/1/2010 8:26   0.007057       17850  United Kingdom  English  \n",
      "3  12/1/2010 8:26   0.008699       17850  United Kingdom  English  \n",
      "4  12/1/2010 8:26   0.008699       17850  United Kingdom  English  \n"
     ]
    }
   ],
   "source": [
    "# normalize the dataframe\n",
    "# normalize a Pandas Column with Maximum Absolute Scaling using Pandas\n",
    "cols_to_normalize = [\"Quantity\", \"UnitPrice\"]\n",
    "\n",
    "def absolute_maximum_scale(series):\n",
    "    return series / series.abs().max()\n",
    "\n",
    "for column in cols_to_normalize:\n",
    "    e_commerce_csv_df[column] = absolute_maximum_scale(e_commerce_csv_df[column])\n",
    "\n",
    "##########################################################\n",
    "# Working with lambdas\n",
    "##########################################################\n",
    "e_commerce_csv_df['UnitPrice'] = e_commerce_csv_df['UnitPrice'].apply(lambda s: s*100)\n",
    "print(e_commerce_csv_df.head(5))"
   ]
  },
  {
   "cell_type": "code",
   "execution_count": 167,
   "metadata": {},
   "outputs": [],
   "source": [
    "e_commerce_csv_df['year'] = pd.DatetimeIndex(e_commerce_csv_df['InvoiceDate']).year"
   ]
  },
  {
   "cell_type": "code",
   "execution_count": 168,
   "metadata": {},
   "outputs": [
    {
     "name": "stdout",
     "output_type": "stream",
     "text": [
      "['United Kingdom' 'France' 'Australia' 'Netherlands']\n",
      "Country  year  Australia    France  Netherlands  United Kingdom\n",
      "0        2010   0.010533  0.009103     0.005763        0.016109\n",
      "1        2011   0.008199  0.013110     0.007066        0.011236\n"
     ]
    }
   ],
   "source": [
    "##########################################################\n",
    "# Pivoting dataframes\n",
    "##########################################################\n",
    "# pivot the previously normalized dataframe\n",
    "print(e_commerce_csv_df[\"Country\"].unique())\n",
    "# > <StringArray>\n",
    "# > ['United Kingdom', 'France', 'Australia', 'Netherlands']\n",
    "# > Length: 4, dtype: string\n",
    "\n",
    "e_commerce_pivoted = (e_commerce_csv_df\n",
    "                      .filter(items=[\"year\", \"UnitPrice\", \"Country\"])\n",
    "                      .pivot_table(\n",
    "                          index=\"year\",\n",
    "                          columns=\"Country\",  # Column(s) we want to pivot.\n",
    "                          # Column with values that we want to have in our new pivoted columns.\n",
    "                          values=\"UnitPrice\",\n",
    "                          # Even if there is not aggregation we need to provide aggregation funciton.\n",
    "                          aggfunc=\"mean\"\n",
    "                      )\n",
    "                      .reset_index()\n",
    "                      )\n",
    "print(e_commerce_pivoted)"
   ]
  },
  {
   "cell_type": "code",
   "execution_count": 172,
   "metadata": {},
   "outputs": [
    {
     "name": "stdout",
     "output_type": "stream",
     "text": [
      "Collecting pyarrow\n",
      "  Downloading pyarrow-12.0.1-cp310-cp310-win_amd64.whl (21.5 MB)\n",
      "     -------------------------------------- 21.5/21.5 MB 812.6 kB/s eta 0:00:00\n",
      "Requirement already satisfied: numpy>=1.16.6 in c:\\users\\keset\\anaconda3\\lib\\site-packages (from pyarrow) (1.23.5)\n",
      "Installing collected packages: pyarrow\n",
      "Successfully installed pyarrow-12.0.1\n",
      "Note: you may need to restart the kernel to use updated packages.\n"
     ]
    }
   ],
   "source": [
    "pip install pyarrow"
   ]
  },
  {
   "cell_type": "code",
   "execution_count": 173,
   "metadata": {},
   "outputs": [],
   "source": [
    "# store dataframe as parquet file\n",
    "e_commerce_pivoted.to_parquet('./data/e_commerce_pivoted.parquet.gzip',\n",
    "                              compression='gzip')"
   ]
  },
  {
   "cell_type": "code",
   "execution_count": 174,
   "metadata": {},
   "outputs": [
    {
     "name": "stdout",
     "output_type": "stream",
     "text": [
      "Country  year  Australia    France  Netherlands  United Kingdom\n",
      "0        2010   0.010533  0.009103     0.005763        0.016109\n",
      "1        2011   0.008199  0.013110     0.007066        0.011236\n"
     ]
    }
   ],
   "source": [
    "# read parquet file\n",
    "read_parquet = pd.read_parquet(\n",
    "    './data/e_commerce_pivoted.parquet.gzip')\n",
    "\n",
    "print(read_parquet)"
   ]
  }
 ],
 "metadata": {
  "kernelspec": {
   "display_name": "base",
   "language": "python",
   "name": "python3"
  },
  "language_info": {
   "codemirror_mode": {
    "name": "ipython",
    "version": 3
   },
   "file_extension": ".py",
   "mimetype": "text/x-python",
   "name": "python",
   "nbconvert_exporter": "python",
   "pygments_lexer": "ipython3",
   "version": "3.10.9"
  },
  "orig_nbformat": 4
 },
 "nbformat": 4,
 "nbformat_minor": 2
}
