{
 "cells": [
  {
   "cell_type": "markdown",
   "metadata": {},
   "source": [
    "# Search algorithms:"
   ]
  },
  {
   "cell_type": "markdown",
   "metadata": {},
   "source": [
    "## Binary Search: \n",
    "Binary search is an efficient algorithm for finding an item from a sorted list of items. It works by repeatedly dividing in half the portion of the array being searched, until the target value is found."
   ]
  },
  {
   "cell_type": "code",
   "execution_count": 1,
   "metadata": {},
   "outputs": [
    {
     "name": "stdout",
     "output_type": "stream",
     "text": [
      "3\n"
     ]
    }
   ],
   "source": [
    "def binary_search(arr, x):\n",
    "    low = 0\n",
    "    high = len(arr) - 1\n",
    "    mid = 0\n",
    "    while low <= high:\n",
    "        mid = (high + low) // 2\n",
    "        if arr[mid] < x:\n",
    "            low = mid + 1\n",
    "        elif arr[mid] > x:\n",
    "            high = mid - 1\n",
    "        else:\n",
    "            return mid\n",
    "    return -1\n",
    "print(binary_search([1,2,3,4,5,6,7], 4))"
   ]
  },
  {
   "cell_type": "markdown",
   "metadata": {},
   "source": [
    "## Hash Tables: \n",
    "A hash table is a data structure that maps keys to values, using a hash function to compute an index into an array of buckets or slots, from which the desired value can be found."
   ]
  },
  {
   "cell_type": "code",
   "execution_count": 2,
   "metadata": {},
   "outputs": [
    {
     "name": "stdout",
     "output_type": "stream",
     "text": [
      "20\n"
     ]
    }
   ],
   "source": [
    "class HashTable:\n",
    "    def __init__(self):\n",
    "        self.size = 10\n",
    "        self.keys = [None] * self.size\n",
    "        self.values = [None] * self.size\n",
    "\n",
    "    def put(self, key, data):\n",
    "        index = self.hash_function(key)\n",
    "        while self.keys[index] is not None:\n",
    "            if self.keys[index] == key:\n",
    "                self.values[index] = data  # update\n",
    "                return\n",
    "            index = (index + 1) % self.size\n",
    "        self.keys[index] = key\n",
    "        self.values[index] = data\n",
    "\n",
    "    def get(self, key):\n",
    "        index = self.hash_function(key)\n",
    "        while self.keys[index] is not None:\n",
    "            if self.keys[index] == key:\n",
    "                return self.values[index]\n",
    "            index = (index + 1) % self.size\n",
    "        return None\n",
    "\n",
    "    def hash_function(self, key):\n",
    "        sum = 0\n",
    "        for pos in range(len(key)):\n",
    "            sum = sum + ord(key[pos])\n",
    "        return sum % self.size\n",
    "\n",
    "t = HashTable()\n",
    "t.put(\"apple\", 10)\n",
    "t.put(\"orange\", 20)\n",
    "t.put(\"banana\", 30)\n",
    "print(t.get(\"orange\"))"
   ]
  }
 ],
 "metadata": {
  "kernelspec": {
   "display_name": "base",
   "language": "python",
   "name": "python3"
  },
  "language_info": {
   "codemirror_mode": {
    "name": "ipython",
    "version": 3
   },
   "file_extension": ".py",
   "mimetype": "text/x-python",
   "name": "python",
   "nbconvert_exporter": "python",
   "pygments_lexer": "ipython3",
   "version": "3.10.9"
  },
  "orig_nbformat": 4
 },
 "nbformat": 4,
 "nbformat_minor": 2
}
