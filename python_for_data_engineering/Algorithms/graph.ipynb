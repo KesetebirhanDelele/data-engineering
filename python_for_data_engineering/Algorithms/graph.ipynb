{
 "cells": [
  {
   "cell_type": "markdown",
   "metadata": {},
   "source": [
    "# Graph Algorithm :\n",
    "\n",
    "Dijkstra’s shortest path algorithm: Dijkstra’s shortest path algorithm is an algorithm for finding the shortest path between nodes in a graph."
   ]
  },
  {
   "cell_type": "code",
   "execution_count": 1,
   "metadata": {},
   "outputs": [
    {
     "name": "stdout",
     "output_type": "stream",
     "text": [
      "{'F', 'D', 'A', 'G', 'E', 'B', 'H', 'C'}\n"
     ]
    }
   ],
   "source": [
    "import heapq\n",
    "\n",
    "def dijkstra(graph, start):\n",
    "    heap = [(0, start)]\n",
    "    visited = set()\n",
    "    while heap:\n",
    "        (cost, v) = heapq.heappop(heap)\n",
    "        if v not in visited:\n",
    "            visited.add(v)\n",
    "            for u, c in graph[v].items():\n",
    "                if u not in visited:\n",
    "                    heapq.heappush(heap, (cost + c, u))\n",
    "    return visited\n",
    "\n",
    "graph = {\n",
    "    'A': {'B': 2, 'C': 3},\n",
    "    'B': {'D': 4, 'E': 5},\n",
    "    'C': {'F': 6},\n",
    "    'D': {'G': 7},\n",
    "    'E': {'G': 8, 'H': 9},\n",
    "    'F': {'H': 10},\n",
    "    'G': {},\n",
    "    'H': {}\n",
    "}\n",
    "print(dijkstra(graph, 'A'))"
   ]
  }
 ],
 "metadata": {
  "kernelspec": {
   "display_name": "base",
   "language": "python",
   "name": "python3"
  },
  "language_info": {
   "codemirror_mode": {
    "name": "ipython",
    "version": 3
   },
   "file_extension": ".py",
   "mimetype": "text/x-python",
   "name": "python",
   "nbconvert_exporter": "python",
   "pygments_lexer": "ipython3",
   "version": "3.10.9"
  },
  "orig_nbformat": 4
 },
 "nbformat": 4,
 "nbformat_minor": 2
}
