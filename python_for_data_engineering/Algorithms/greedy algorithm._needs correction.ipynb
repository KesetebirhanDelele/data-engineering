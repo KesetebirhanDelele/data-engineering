{
 "cells": [
  {
   "cell_type": "markdown",
   "metadata": {},
   "source": [
    "# Greedy Algorithms:\n",
    "\n",
    "Huffman coding: Huffman coding is a lossless data compression algorithm that uses a greedy algorithm to construct a prefix code for a given set of symbols."
   ]
  },
  {
   "cell_type": "code",
   "execution_count": 3,
   "metadata": {},
   "outputs": [
    {
     "ename": "NameError",
     "evalue": "name 'PriorityQueue' is not defined",
     "output_type": "error",
     "traceback": [
      "\u001b[1;31m---------------------------------------------------------------------------\u001b[0m",
      "\u001b[1;31mNameError\u001b[0m                                 Traceback (most recent call last)",
      "Cell \u001b[1;32mIn[3], line 31\u001b[0m\n\u001b[0;32m     29\u001b[0m         encoded_data \u001b[39m+\u001b[39m\u001b[39m=\u001b[39m huffman_code[char]\n\u001b[0;32m     30\u001b[0m     \u001b[39mreturn\u001b[39;00m encoded_data, huffman_code\n\u001b[1;32m---> 31\u001b[0m \u001b[39mprint\u001b[39m(huffman_encoding(\u001b[39m\"\u001b[39;49m\u001b[39maaaaabbbcccc\u001b[39;49m\u001b[39m\"\u001b[39;49m))\n",
      "Cell \u001b[1;32mIn[3], line 12\u001b[0m, in \u001b[0;36mhuffman_encoding\u001b[1;34m(data)\u001b[0m\n\u001b[0;32m     10\u001b[0m HuffmanNode \u001b[39m=\u001b[39m namedtuple(\u001b[39m\"\u001b[39m\u001b[39mHuffmanNode\u001b[39m\u001b[39m\"\u001b[39m, [\u001b[39m\"\u001b[39m\u001b[39mchar\u001b[39m\u001b[39m\"\u001b[39m, \u001b[39m\"\u001b[39m\u001b[39mfreq\u001b[39m\u001b[39m\"\u001b[39m])\n\u001b[0;32m     11\u001b[0m \u001b[39m# Create a priority queue for the Huffman tree\u001b[39;00m\n\u001b[1;32m---> 12\u001b[0m priority_queue \u001b[39m=\u001b[39m PriorityQueue()\n\u001b[0;32m     13\u001b[0m \u001b[39m# Add all characters to the priority queue\u001b[39;00m\n\u001b[0;32m     14\u001b[0m \u001b[39mfor\u001b[39;00m char, freq \u001b[39min\u001b[39;00m freq_counter\u001b[39m.\u001b[39mitems():\n",
      "\u001b[1;31mNameError\u001b[0m: name 'PriorityQueue' is not defined"
     ]
    }
   ],
   "source": [
    "from collections import Counter, namedtuple\n",
    "\n",
    "def huffman_encoding(data):\n",
    "    \"\"\"\n",
    "    Generates a Huffman encoded string of the input data\n",
    "    \"\"\"\n",
    "    # Create a frequency counter for the data\n",
    "    freq_counter = Counter(data)\n",
    "    # Create a namedtuple for the Huffman tree nodes\n",
    "    HuffmanNode = namedtuple(\"HuffmanNode\", [\"char\", \"freq\"])\n",
    "    # Create a priority queue for the Huffman tree\n",
    "    priority_queue = PriorityQueue()\n",
    "    # Add all characters to the priority queue\n",
    "    for char, freq in freq_counter.items():\n",
    "        priority_queue.put(HuffmanNode(char, freq))\n",
    "    # Combine nodes until only the root node remains\n",
    "    while priority_queue.qsize() > 1:\n",
    "        left_node = priority_queue.get()\n",
    "        right_node = priority_queue.get()\n",
    "        combined_freq = left_node.freq + right_node.freq\n",
    "        combined_node = HuffmanNode(None, combined_freq)\n",
    "        priority_queue.put(combined_node)\n",
    "    # Generate the Huffman code for each character\n",
    "    huffman_code = {}\n",
    "    generate_code(priority_queue.get(), \"\", huffman_code)\n",
    "    # Encode the input data\n",
    "    encoded_data = \"\"\n",
    "    for char in data:\n",
    "        encoded_data += huffman_code[char]\n",
    "    return encoded_data, huffman_code\n",
    "print(huffman_encoding(\"aaaaabbbcccc\"))"
   ]
  }
 ],
 "metadata": {
  "kernelspec": {
   "display_name": "base",
   "language": "python",
   "name": "python3"
  },
  "language_info": {
   "codemirror_mode": {
    "name": "ipython",
    "version": 3
   },
   "file_extension": ".py",
   "mimetype": "text/x-python",
   "name": "python",
   "nbconvert_exporter": "python",
   "pygments_lexer": "ipython3",
   "version": "3.10.9"
  },
  "orig_nbformat": 4
 },
 "nbformat": 4,
 "nbformat_minor": 2
}
