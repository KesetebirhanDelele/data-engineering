{
 "cells": [
  {
   "cell_type": "code",
   "execution_count": 1,
   "metadata": {},
   "outputs": [],
   "source": [
    "# read in dataframe\n",
    "import pandas as pd\n",
    "import numpy as np"
   ]
  },
  {
   "cell_type": "code",
   "execution_count": 2,
   "metadata": {},
   "outputs": [
    {
     "name": "stdout",
     "output_type": "stream",
     "text": [
      "    InvoiceNo StockCode                          Description  Quantity  \\\n",
      "0      536365    85123A   WHITE HANGING HEART T-LIGHT HOLDER         6   \n",
      "1      536365     71053                  WHITE METAL LANTERN         6   \n",
      "2      536365    84406B       CREAM CUPID HEARTS COAT HANGER         8   \n",
      "3      536365    84029G  KNITTED UNION FLAG HOT WATER BOTTLE         6   \n",
      "4      536365    84029E       RED WOOLLY HOTTIE WHITE HEART.         6   \n",
      "..        ...       ...                                  ...       ...   \n",
      "995    536520     22469                HEART OF WICKER SMALL         1   \n",
      "996    536520     22100             SKULLS SQUARE TISSUE BOX         1   \n",
      "997    536520     22096      PINK PAISLEY SQUARE TISSUE BOX          1   \n",
      "998    536520     22583         PACK OF 6 HANDBAG GIFT BOXES         1   \n",
      "999    536520     21358           TOAST ITS - HAPPY BIRTHDAY         2   \n",
      "\n",
      "         InvoiceDate  UnitPrice  CustomerID         Country  \n",
      "0     12/1/2010 8:26       2.55     17850.0  United Kingdom  \n",
      "1     12/1/2010 8:26       3.39     17850.0  United Kingdom  \n",
      "2     12/1/2010 8:26       2.75     17850.0  United Kingdom  \n",
      "3     12/1/2010 8:26       3.39     17850.0  United Kingdom  \n",
      "4     12/1/2010 8:26       3.39     17850.0  United Kingdom  \n",
      "..               ...        ...         ...             ...  \n",
      "995  12/1/2010 12:43       1.65     14729.0  United Kingdom  \n",
      "996  12/1/2010 12:43       1.25     14729.0  United Kingdom  \n",
      "997  12/1/2010 12:43       1.25     14729.0  United Kingdom  \n",
      "998  12/1/2010 12:43       2.55     14729.0  United Kingdom  \n",
      "999  12/1/2010 12:43       1.25     14729.0  United Kingdom  \n",
      "\n",
      "[1000 rows x 8 columns]\n"
     ]
    }
   ],
   "source": [
    "# load a csv file\n",
    "e_commerce_data_path_csv = \"./data/data.csv\"\n",
    "e_commerce_csv_df = pd.read_csv(\n",
    "    e_commerce_data_path_csv,  encoding='unicode_escape', nrows=1000)\n",
    "\n",
    "print(e_commerce_csv_df)"
   ]
  },
  {
   "cell_type": "code",
   "execution_count": 3,
   "metadata": {},
   "outputs": [
    {
     "name": "stdout",
     "output_type": "stream",
     "text": [
      "12.785\n"
     ]
    }
   ],
   "source": [
    "# create new average cloumn of all attributes\n",
    "quantity_array = e_commerce_csv_df[\"Quantity\"].to_numpy()\n",
    "print(np.mean(quantity_array))"
   ]
  },
  {
   "cell_type": "code",
   "execution_count": 4,
   "metadata": {},
   "outputs": [
    {
     "name": "stdout",
     "output_type": "stream",
     "text": [
      "-24\n"
     ]
    }
   ],
   "source": [
    "# find minimum in dataframe\n",
    "print(np.min(quantity_array))"
   ]
  },
  {
   "cell_type": "code",
   "execution_count": 5,
   "metadata": {},
   "outputs": [
    {
     "name": "stdout",
     "output_type": "stream",
     "text": [
      "600\n"
     ]
    }
   ],
   "source": [
    "# find maximum in dataframe\n",
    "print(np.max(quantity_array))"
   ]
  },
  {
   "cell_type": "code",
   "execution_count": 6,
   "metadata": {},
   "outputs": [
    {
     "name": "stdout",
     "output_type": "stream",
     "text": [
      "InvoiceNo       object\n",
      "StockCode       object\n",
      "Description     object\n",
      "Quantity         int64\n",
      "InvoiceDate     object\n",
      "UnitPrice      float64\n",
      "CustomerID     float64\n",
      "Country         object\n",
      "user_id          int32\n",
      "dtype: object\n",
      "    InvoiceNo StockCode                          Description  Quantity  \\\n",
      "0      536365    85123A   WHITE HANGING HEART T-LIGHT HOLDER         6   \n",
      "1      536365     71053                  WHITE METAL LANTERN         6   \n",
      "2      536365    84406B       CREAM CUPID HEARTS COAT HANGER         8   \n",
      "3      536365    84029G  KNITTED UNION FLAG HOT WATER BOTTLE         6   \n",
      "4      536365    84029E       RED WOOLLY HOTTIE WHITE HEART.         6   \n",
      "..        ...       ...                                  ...       ...   \n",
      "995    536520     22469                HEART OF WICKER SMALL         1   \n",
      "996    536520     22100             SKULLS SQUARE TISSUE BOX         1   \n",
      "997    536520     22096      PINK PAISLEY SQUARE TISSUE BOX          1   \n",
      "998    536520     22583         PACK OF 6 HANDBAG GIFT BOXES         1   \n",
      "999    536520     21358           TOAST ITS - HAPPY BIRTHDAY         2   \n",
      "\n",
      "         InvoiceDate  UnitPrice  CustomerID         Country  user_id  \n",
      "0     12/1/2010 8:26       2.55     17850.0  United Kingdom        6  \n",
      "1     12/1/2010 8:26       3.39     17850.0  United Kingdom        8  \n",
      "2     12/1/2010 8:26       2.75     17850.0  United Kingdom        1  \n",
      "3     12/1/2010 8:26       3.39     17850.0  United Kingdom        4  \n",
      "4     12/1/2010 8:26       3.39     17850.0  United Kingdom        9  \n",
      "..               ...        ...         ...             ...      ...  \n",
      "995  12/1/2010 12:43       1.65     14729.0  United Kingdom        9  \n",
      "996  12/1/2010 12:43       1.25     14729.0  United Kingdom        1  \n",
      "997  12/1/2010 12:43       1.25     14729.0  United Kingdom        2  \n",
      "998  12/1/2010 12:43       2.55     14729.0  United Kingdom        1  \n",
      "999  12/1/2010 12:43       1.25     14729.0  United Kingdom        4  \n",
      "\n",
      "[1000 rows x 9 columns]\n"
     ]
    }
   ],
   "source": [
    "#add a random int\n",
    "# randint needs to be the same as the users 100k\n",
    "e_commerce_csv_df['user_id'] = np.random.randint(1,10, e_commerce_csv_df.shape[0])\n",
    "print(e_commerce_csv_df.dtypes)\n",
    "print(e_commerce_csv_df)"
   ]
  }
 ],
 "metadata": {
  "kernelspec": {
   "display_name": "base",
   "language": "python",
   "name": "python3"
  },
  "language_info": {
   "codemirror_mode": {
    "name": "ipython",
    "version": 3
   },
   "file_extension": ".py",
   "mimetype": "text/x-python",
   "name": "python",
   "nbconvert_exporter": "python",
   "pygments_lexer": "ipython3",
   "version": "3.10.9"
  },
  "orig_nbformat": 4
 },
 "nbformat": 4,
 "nbformat_minor": 2
}
