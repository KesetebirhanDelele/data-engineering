{
 "cells": [
  {
   "cell_type": "markdown",
   "metadata": {},
   "source": [
    "# Namespaces and Scope\n",
    "Understanding namespaces and scope is crucial when writing Python code, but it can be confusing, especially for beginners. I think of a namespace as a container that holds variables and functions, providing a context for their names. Python has various namespaces, including the global namespace, local namespace, and built-in namespace.\n",
    "\n",
    "Consider the following example:"
   ]
  },
  {
   "cell_type": "code",
   "execution_count": 1,
   "metadata": {},
   "outputs": [
    {
     "name": "stdout",
     "output_type": "stream",
     "text": [
      "5\n",
      "10\n"
     ]
    }
   ],
   "source": [
    "x = 10  # Global namespace\n",
    "\n",
    "def my_function():\n",
    "    x = 5  # Local namespace\n",
    "    print(x)\n",
    "my_function()  # Output: 5\n",
    "print(x)  # Output: 10"
   ]
  },
  {
   "cell_type": "markdown",
   "metadata": {},
   "source": [
    "In this code snippet, the variable x exists in both the global and local namespaces. When my_function() is called, it accesses the local namespace and prints the value of the local x, which is 5. However, outside the function, the global x remains unchanged."
   ]
  }
 ],
 "metadata": {
  "kernelspec": {
   "display_name": "base",
   "language": "python",
   "name": "python3"
  },
  "language_info": {
   "codemirror_mode": {
    "name": "ipython",
    "version": 3
   },
   "file_extension": ".py",
   "mimetype": "text/x-python",
   "name": "python",
   "nbconvert_exporter": "python",
   "pygments_lexer": "ipython3",
   "version": "3.10.9"
  },
  "orig_nbformat": 4
 },
 "nbformat": 4,
 "nbformat_minor": 2
}
