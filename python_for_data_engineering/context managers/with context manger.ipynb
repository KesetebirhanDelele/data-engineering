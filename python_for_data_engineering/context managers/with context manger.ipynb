{
 "cells": [
  {
   "cell_type": "markdown",
   "metadata": {},
   "source": [
    "# Context Managers\n",
    "Context managers provide a convenient way to manage resources such as files or network connections by ensuring that they are properly opened and closed. Although context managers can be confusing at first, they greatly simplify resource management and ensure clean-up operations are performed.\n",
    "\n",
    "Consider the following example:"
   ]
  },
  {
   "cell_type": "code",
   "execution_count": 5,
   "metadata": {},
   "outputs": [
    {
     "name": "stdout",
     "output_type": "stream",
     "text": [
      "[{\"Country\": \"Nowhere\", \"CustomerID\": 1, \"Description\": \"Updated dict\", \"InvoiceDate\": \"9/9/9999 9:99\", \"InvoiceNo\": 1, \"Quantity\": 1, \"StockCode\": 1, \"UnitPrice\": 1}, {\"Country\": \"United Kingdom\", \"CustomerID\": 17850, \"Description\": \"HAND WARMER RED POLKA DOT\", \"InvoiceDate\": \"12/1/2010 9:01\", \"InvoiceNo\": 536372, \"Quantity\": 6, \"StockCode\": 22632, \"UnitPrice\": 1.85}, {\"Country\": \"Australia\", \"CustomerID\": 12431, \"Description\": \"ALARM CLOCK BAKELIKE RED\", \"InvoiceDate\": \"12/1/2010 10:03\", \"InvoiceNo\": 536389, \"Quantity\": 4, \"StockCode\": 22727, \"UnitPrice\": 3.75}, {\"Country\": \"United Kingdom\", \"CustomerID\": 14076, \"Description\": \"SET OF 4 PANTRY JELLY MOULDS\", \"InvoiceDate\": \"8/2/2011 15:19\", \"InvoiceNo\": 562106, \"Quantity\": 1, \"StockCode\": 22993, \"UnitPrice\": 1.25}]\n"
     ]
    }
   ],
   "source": [
    "with open('../json/dumped_txt.txt', \"r\") as file:\n",
    "    contents = file.read()\n",
    "    print(contents)"
   ]
  },
  {
   "cell_type": "markdown",
   "metadata": {},
   "source": [
    "In this code snippet, the open() function returns a context manager object that opens the file \"myfile.txt\" for reading. The with statement ensures that the file is automatically closed at the end of the block, even if an exception occurs. This guarantees proper resource handling without the need for manual intervention."
   ]
  }
 ],
 "metadata": {
  "kernelspec": {
   "display_name": "base",
   "language": "python",
   "name": "python3"
  },
  "language_info": {
   "codemirror_mode": {
    "name": "ipython",
    "version": 3
   },
   "file_extension": ".py",
   "mimetype": "text/x-python",
   "name": "python",
   "nbconvert_exporter": "python",
   "pygments_lexer": "ipython3",
   "version": "3.10.9"
  },
  "orig_nbformat": 4
 },
 "nbformat": 4,
 "nbformat_minor": 2
}
