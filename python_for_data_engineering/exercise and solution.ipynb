{
 "cells": [
  {
   "cell_type": "code",
   "execution_count": 1,
   "metadata": {},
   "outputs": [],
   "source": [
    "import pandas as pd"
   ]
  },
  {
   "cell_type": "code",
   "execution_count": 2,
   "metadata": {},
   "outputs": [],
   "source": [
    "import numpy as np\n",
    "from numpy.random import randn"
   ]
  },
  {
   "cell_type": "code",
   "execution_count": 4,
   "metadata": {},
   "outputs": [
    {
     "data": {
      "text/html": [
       "<div>\n",
       "<style scoped>\n",
       "    .dataframe tbody tr th:only-of-type {\n",
       "        vertical-align: middle;\n",
       "    }\n",
       "\n",
       "    .dataframe tbody tr th {\n",
       "        vertical-align: top;\n",
       "    }\n",
       "\n",
       "    .dataframe thead th {\n",
       "        text-align: right;\n",
       "    }\n",
       "</style>\n",
       "<table border=\"1\" class=\"dataframe\">\n",
       "  <thead>\n",
       "    <tr style=\"text-align: right;\">\n",
       "      <th></th>\n",
       "      <th>wt</th>\n",
       "      <th>ht</th>\n",
       "      <th>lt</th>\n",
       "      <th>bt</th>\n",
       "      <th>t</th>\n",
       "    </tr>\n",
       "  </thead>\n",
       "  <tbody>\n",
       "    <tr>\n",
       "      <th>a</th>\n",
       "      <td>-1.964121</td>\n",
       "      <td>0.241593</td>\n",
       "      <td>-1.067656</td>\n",
       "      <td>-1.028404</td>\n",
       "      <td>-0.633085</td>\n",
       "    </tr>\n",
       "    <tr>\n",
       "      <th>b</th>\n",
       "      <td>1.513421</td>\n",
       "      <td>-0.631197</td>\n",
       "      <td>1.167638</td>\n",
       "      <td>0.471538</td>\n",
       "      <td>-1.004837</td>\n",
       "    </tr>\n",
       "    <tr>\n",
       "      <th>c</th>\n",
       "      <td>-0.606594</td>\n",
       "      <td>-0.913448</td>\n",
       "      <td>0.757699</td>\n",
       "      <td>1.922139</td>\n",
       "      <td>-1.239598</td>\n",
       "    </tr>\n",
       "    <tr>\n",
       "      <th>d</th>\n",
       "      <td>-0.106907</td>\n",
       "      <td>-0.892540</td>\n",
       "      <td>-1.088265</td>\n",
       "      <td>0.607543</td>\n",
       "      <td>-0.556434</td>\n",
       "    </tr>\n",
       "  </tbody>\n",
       "</table>\n",
       "</div>"
      ],
      "text/plain": [
       "         wt        ht        lt        bt         t\n",
       "a -1.964121  0.241593 -1.067656 -1.028404 -0.633085\n",
       "b  1.513421 -0.631197  1.167638  0.471538 -1.004837\n",
       "c -0.606594 -0.913448  0.757699  1.922139 -1.239598\n",
       "d -0.106907 -0.892540 -1.088265  0.607543 -0.556434"
      ]
     },
     "execution_count": 4,
     "metadata": {},
     "output_type": "execute_result"
    }
   ],
   "source": [
    "data=pd.DataFrame(randn(4,5),index='a b c d'.split(),columns='wt ht lt bt t'.split())\n",
    "data"
   ]
  },
  {
   "cell_type": "code",
   "execution_count": 5,
   "metadata": {},
   "outputs": [
    {
     "data": {
      "text/plain": [
       "a   -0.633085\n",
       "b   -1.004837\n",
       "c   -1.239598\n",
       "d   -0.556434\n",
       "Name: t, dtype: float64"
      ]
     },
     "execution_count": 5,
     "metadata": {},
     "output_type": "execute_result"
    }
   ],
   "source": [
    "# call a column using query notation\n",
    "data.t"
   ]
  },
  {
   "cell_type": "code",
   "execution_count": 7,
   "metadata": {},
   "outputs": [
    {
     "data": {
      "text/html": [
       "<div>\n",
       "<style scoped>\n",
       "    .dataframe tbody tr th:only-of-type {\n",
       "        vertical-align: middle;\n",
       "    }\n",
       "\n",
       "    .dataframe tbody tr th {\n",
       "        vertical-align: top;\n",
       "    }\n",
       "\n",
       "    .dataframe thead th {\n",
       "        text-align: right;\n",
       "    }\n",
       "</style>\n",
       "<table border=\"1\" class=\"dataframe\">\n",
       "  <thead>\n",
       "    <tr style=\"text-align: right;\">\n",
       "      <th></th>\n",
       "      <th>t</th>\n",
       "      <th>wt</th>\n",
       "    </tr>\n",
       "  </thead>\n",
       "  <tbody>\n",
       "    <tr>\n",
       "      <th>a</th>\n",
       "      <td>-0.633085</td>\n",
       "      <td>-1.964121</td>\n",
       "    </tr>\n",
       "    <tr>\n",
       "      <th>b</th>\n",
       "      <td>-1.004837</td>\n",
       "      <td>1.513421</td>\n",
       "    </tr>\n",
       "    <tr>\n",
       "      <th>c</th>\n",
       "      <td>-1.239598</td>\n",
       "      <td>-0.606594</td>\n",
       "    </tr>\n",
       "    <tr>\n",
       "      <th>d</th>\n",
       "      <td>-0.556434</td>\n",
       "      <td>-0.106907</td>\n",
       "    </tr>\n",
       "  </tbody>\n",
       "</table>\n",
       "</div>"
      ],
      "text/plain": [
       "          t        wt\n",
       "a -0.633085 -1.964121\n",
       "b -1.004837  1.513421\n",
       "c -1.239598 -0.606594\n",
       "d -0.556434 -0.106907"
      ]
     },
     "execution_count": 7,
     "metadata": {},
     "output_type": "execute_result"
    }
   ],
   "source": [
    "# call a column using list notation\n",
    "data[['t','wt']]"
   ]
  },
  {
   "cell_type": "code",
   "execution_count": 8,
   "metadata": {},
   "outputs": [
    {
     "data": {
      "text/plain": [
       "wt   -1.964121\n",
       "ht    0.241593\n",
       "lt   -1.067656\n",
       "bt   -1.028404\n",
       "t    -0.633085\n",
       "Name: a, dtype: float64"
      ]
     },
     "execution_count": 8,
     "metadata": {},
     "output_type": "execute_result"
    }
   ],
   "source": [
    "# call a row using list notation\n",
    "data.loc['a']"
   ]
  },
  {
   "cell_type": "code",
   "execution_count": 10,
   "metadata": {},
   "outputs": [
    {
     "data": {
      "text/plain": [
       "wt   -1.964121\n",
       "ht    0.241593\n",
       "lt   -1.067656\n",
       "bt   -1.028404\n",
       "t    -0.633085\n",
       "Name: a, dtype: float64"
      ]
     },
     "execution_count": 10,
     "metadata": {},
     "output_type": "execute_result"
    }
   ],
   "source": [
    "# call a row using index\n",
    "data.iloc[0]"
   ]
  },
  {
   "cell_type": "code",
   "execution_count": 12,
   "metadata": {},
   "outputs": [
    {
     "data": {
      "text/plain": [
       "-1.9641205508386101"
      ]
     },
     "execution_count": 12,
     "metadata": {},
     "output_type": "execute_result"
    }
   ],
   "source": [
    "# call cell using list notation\n",
    "data.loc['a', 'wt']"
   ]
  },
  {
   "cell_type": "code",
   "execution_count": 13,
   "metadata": {},
   "outputs": [
    {
     "data": {
      "text/html": [
       "<div>\n",
       "<style scoped>\n",
       "    .dataframe tbody tr th:only-of-type {\n",
       "        vertical-align: middle;\n",
       "    }\n",
       "\n",
       "    .dataframe tbody tr th {\n",
       "        vertical-align: top;\n",
       "    }\n",
       "\n",
       "    .dataframe thead th {\n",
       "        text-align: right;\n",
       "    }\n",
       "</style>\n",
       "<table border=\"1\" class=\"dataframe\">\n",
       "  <thead>\n",
       "    <tr style=\"text-align: right;\">\n",
       "      <th></th>\n",
       "      <th>wt</th>\n",
       "      <th>ht</th>\n",
       "    </tr>\n",
       "  </thead>\n",
       "  <tbody>\n",
       "    <tr>\n",
       "      <th>a</th>\n",
       "      <td>-1.964121</td>\n",
       "      <td>0.241593</td>\n",
       "    </tr>\n",
       "    <tr>\n",
       "      <th>b</th>\n",
       "      <td>1.513421</td>\n",
       "      <td>-0.631197</td>\n",
       "    </tr>\n",
       "  </tbody>\n",
       "</table>\n",
       "</div>"
      ],
      "text/plain": [
       "         wt        ht\n",
       "a -1.964121  0.241593\n",
       "b  1.513421 -0.631197"
      ]
     },
     "execution_count": 13,
     "metadata": {},
     "output_type": "execute_result"
    }
   ],
   "source": [
    "# call rows and columns using list notation\n",
    "data.loc[['a','b'], ['wt','ht']]"
   ]
  },
  {
   "cell_type": "code",
   "execution_count": 15,
   "metadata": {},
   "outputs": [
    {
     "data": {
      "text/html": [
       "<div>\n",
       "<style scoped>\n",
       "    .dataframe tbody tr th:only-of-type {\n",
       "        vertical-align: middle;\n",
       "    }\n",
       "\n",
       "    .dataframe tbody tr th {\n",
       "        vertical-align: top;\n",
       "    }\n",
       "\n",
       "    .dataframe thead th {\n",
       "        text-align: right;\n",
       "    }\n",
       "</style>\n",
       "<table border=\"1\" class=\"dataframe\">\n",
       "  <thead>\n",
       "    <tr style=\"text-align: right;\">\n",
       "      <th></th>\n",
       "      <th>wt</th>\n",
       "      <th>ht</th>\n",
       "      <th>lt</th>\n",
       "      <th>bt</th>\n",
       "      <th>t</th>\n",
       "    </tr>\n",
       "  </thead>\n",
       "  <tbody>\n",
       "    <tr>\n",
       "      <th>a</th>\n",
       "      <td>False</td>\n",
       "      <td>True</td>\n",
       "      <td>False</td>\n",
       "      <td>False</td>\n",
       "      <td>False</td>\n",
       "    </tr>\n",
       "    <tr>\n",
       "      <th>b</th>\n",
       "      <td>True</td>\n",
       "      <td>False</td>\n",
       "      <td>True</td>\n",
       "      <td>True</td>\n",
       "      <td>False</td>\n",
       "    </tr>\n",
       "    <tr>\n",
       "      <th>c</th>\n",
       "      <td>False</td>\n",
       "      <td>False</td>\n",
       "      <td>True</td>\n",
       "      <td>True</td>\n",
       "      <td>False</td>\n",
       "    </tr>\n",
       "    <tr>\n",
       "      <th>d</th>\n",
       "      <td>False</td>\n",
       "      <td>False</td>\n",
       "      <td>False</td>\n",
       "      <td>True</td>\n",
       "      <td>False</td>\n",
       "    </tr>\n",
       "  </tbody>\n",
       "</table>\n",
       "</div>"
      ],
      "text/plain": [
       "      wt     ht     lt     bt      t\n",
       "a  False   True  False  False  False\n",
       "b   True  False   True   True  False\n",
       "c  False  False   True   True  False\n",
       "d  False  False  False   True  False"
      ]
     },
     "execution_count": 15,
     "metadata": {},
     "output_type": "execute_result"
    }
   ],
   "source": [
    "# filter dataframe for values more than zero and display as true and false\n",
    "data>0"
   ]
  },
  {
   "cell_type": "code",
   "execution_count": 16,
   "metadata": {},
   "outputs": [
    {
     "data": {
      "text/html": [
       "<div>\n",
       "<style scoped>\n",
       "    .dataframe tbody tr th:only-of-type {\n",
       "        vertical-align: middle;\n",
       "    }\n",
       "\n",
       "    .dataframe tbody tr th {\n",
       "        vertical-align: top;\n",
       "    }\n",
       "\n",
       "    .dataframe thead th {\n",
       "        text-align: right;\n",
       "    }\n",
       "</style>\n",
       "<table border=\"1\" class=\"dataframe\">\n",
       "  <thead>\n",
       "    <tr style=\"text-align: right;\">\n",
       "      <th></th>\n",
       "      <th>wt</th>\n",
       "      <th>ht</th>\n",
       "      <th>lt</th>\n",
       "      <th>bt</th>\n",
       "      <th>t</th>\n",
       "    </tr>\n",
       "  </thead>\n",
       "  <tbody>\n",
       "    <tr>\n",
       "      <th>a</th>\n",
       "      <td>NaN</td>\n",
       "      <td>0.241593</td>\n",
       "      <td>NaN</td>\n",
       "      <td>NaN</td>\n",
       "      <td>NaN</td>\n",
       "    </tr>\n",
       "    <tr>\n",
       "      <th>b</th>\n",
       "      <td>1.513421</td>\n",
       "      <td>NaN</td>\n",
       "      <td>1.167638</td>\n",
       "      <td>0.471538</td>\n",
       "      <td>NaN</td>\n",
       "    </tr>\n",
       "    <tr>\n",
       "      <th>c</th>\n",
       "      <td>NaN</td>\n",
       "      <td>NaN</td>\n",
       "      <td>0.757699</td>\n",
       "      <td>1.922139</td>\n",
       "      <td>NaN</td>\n",
       "    </tr>\n",
       "    <tr>\n",
       "      <th>d</th>\n",
       "      <td>NaN</td>\n",
       "      <td>NaN</td>\n",
       "      <td>NaN</td>\n",
       "      <td>0.607543</td>\n",
       "      <td>NaN</td>\n",
       "    </tr>\n",
       "  </tbody>\n",
       "</table>\n",
       "</div>"
      ],
      "text/plain": [
       "         wt        ht        lt        bt   t\n",
       "a       NaN  0.241593       NaN       NaN NaN\n",
       "b  1.513421       NaN  1.167638  0.471538 NaN\n",
       "c       NaN       NaN  0.757699  1.922139 NaN\n",
       "d       NaN       NaN       NaN  0.607543 NaN"
      ]
     },
     "execution_count": 16,
     "metadata": {},
     "output_type": "execute_result"
    }
   ],
   "source": [
    "# filter dataframe for values and show outputs\n",
    "data[data>0]"
   ]
  },
  {
   "cell_type": "code",
   "execution_count": 20,
   "metadata": {},
   "outputs": [
    {
     "data": {
      "text/html": [
       "<div>\n",
       "<style scoped>\n",
       "    .dataframe tbody tr th:only-of-type {\n",
       "        vertical-align: middle;\n",
       "    }\n",
       "\n",
       "    .dataframe tbody tr th {\n",
       "        vertical-align: top;\n",
       "    }\n",
       "\n",
       "    .dataframe thead th {\n",
       "        text-align: right;\n",
       "    }\n",
       "</style>\n",
       "<table border=\"1\" class=\"dataframe\">\n",
       "  <thead>\n",
       "    <tr style=\"text-align: right;\">\n",
       "      <th></th>\n",
       "      <th>wt</th>\n",
       "      <th>ht</th>\n",
       "      <th>lt</th>\n",
       "      <th>bt</th>\n",
       "      <th>t</th>\n",
       "    </tr>\n",
       "  </thead>\n",
       "  <tbody>\n",
       "    <tr>\n",
       "      <th>a</th>\n",
       "      <td>-1.964121</td>\n",
       "      <td>0.241593</td>\n",
       "      <td>-1.067656</td>\n",
       "      <td>-1.028404</td>\n",
       "      <td>-0.633085</td>\n",
       "    </tr>\n",
       "    <tr>\n",
       "      <th>c</th>\n",
       "      <td>-0.606594</td>\n",
       "      <td>-0.913448</td>\n",
       "      <td>0.757699</td>\n",
       "      <td>1.922139</td>\n",
       "      <td>-1.239598</td>\n",
       "    </tr>\n",
       "    <tr>\n",
       "      <th>d</th>\n",
       "      <td>-0.106907</td>\n",
       "      <td>-0.892540</td>\n",
       "      <td>-1.088265</td>\n",
       "      <td>0.607543</td>\n",
       "      <td>-0.556434</td>\n",
       "    </tr>\n",
       "  </tbody>\n",
       "</table>\n",
       "</div>"
      ],
      "text/plain": [
       "         wt        ht        lt        bt         t\n",
       "a -1.964121  0.241593 -1.067656 -1.028404 -0.633085\n",
       "c -0.606594 -0.913448  0.757699  1.922139 -1.239598\n",
       "d -0.106907 -0.892540 -1.088265  0.607543 -0.556434"
      ]
     },
     "execution_count": 20,
     "metadata": {},
     "output_type": "execute_result"
    }
   ],
   "source": [
    "# filter dataframe for rows with Wt < 0 and show outputs\n",
    "data[data['wt']<0]"
   ]
  },
  {
   "cell_type": "code",
   "execution_count": 38,
   "metadata": {},
   "outputs": [
    {
     "data": {
      "text/html": [
       "<div>\n",
       "<style scoped>\n",
       "    .dataframe tbody tr th:only-of-type {\n",
       "        vertical-align: middle;\n",
       "    }\n",
       "\n",
       "    .dataframe tbody tr th {\n",
       "        vertical-align: top;\n",
       "    }\n",
       "\n",
       "    .dataframe thead th {\n",
       "        text-align: right;\n",
       "    }\n",
       "</style>\n",
       "<table border=\"1\" class=\"dataframe\">\n",
       "  <thead>\n",
       "    <tr style=\"text-align: right;\">\n",
       "      <th></th>\n",
       "      <th>ht</th>\n",
       "      <th>lt</th>\n",
       "    </tr>\n",
       "  </thead>\n",
       "  <tbody>\n",
       "    <tr>\n",
       "      <th>a</th>\n",
       "      <td>0.241593</td>\n",
       "      <td>-1.067656</td>\n",
       "    </tr>\n",
       "    <tr>\n",
       "      <th>c</th>\n",
       "      <td>-0.913448</td>\n",
       "      <td>0.757699</td>\n",
       "    </tr>\n",
       "    <tr>\n",
       "      <th>d</th>\n",
       "      <td>-0.892540</td>\n",
       "      <td>-1.088265</td>\n",
       "    </tr>\n",
       "  </tbody>\n",
       "</table>\n",
       "</div>"
      ],
      "text/plain": [
       "         ht        lt\n",
       "a  0.241593 -1.067656\n",
       "c -0.913448  0.757699\n",
       "d -0.892540 -1.088265"
      ]
     },
     "execution_count": 38,
     "metadata": {},
     "output_type": "execute_result"
    }
   ],
   "source": [
    "# show values only for height and length, where Wt < 0 and show outputs\n",
    "data[data['wt']<0][['ht','lt']]"
   ]
  },
  {
   "cell_type": "code",
   "execution_count": 30,
   "metadata": {},
   "outputs": [
    {
     "data": {
      "text/html": [
       "<div>\n",
       "<style scoped>\n",
       "    .dataframe tbody tr th:only-of-type {\n",
       "        vertical-align: middle;\n",
       "    }\n",
       "\n",
       "    .dataframe tbody tr th {\n",
       "        vertical-align: top;\n",
       "    }\n",
       "\n",
       "    .dataframe thead th {\n",
       "        text-align: right;\n",
       "    }\n",
       "</style>\n",
       "<table border=\"1\" class=\"dataframe\">\n",
       "  <thead>\n",
       "    <tr style=\"text-align: right;\">\n",
       "      <th></th>\n",
       "      <th>wt</th>\n",
       "      <th>ht</th>\n",
       "      <th>lt</th>\n",
       "      <th>bt</th>\n",
       "      <th>t</th>\n",
       "    </tr>\n",
       "  </thead>\n",
       "  <tbody>\n",
       "    <tr>\n",
       "      <th>c</th>\n",
       "      <td>-0.606594</td>\n",
       "      <td>-0.913448</td>\n",
       "      <td>0.757699</td>\n",
       "      <td>1.922139</td>\n",
       "      <td>-1.239598</td>\n",
       "    </tr>\n",
       "    <tr>\n",
       "      <th>d</th>\n",
       "      <td>-0.106907</td>\n",
       "      <td>-0.892540</td>\n",
       "      <td>-1.088265</td>\n",
       "      <td>0.607543</td>\n",
       "      <td>-0.556434</td>\n",
       "    </tr>\n",
       "  </tbody>\n",
       "</table>\n",
       "</div>"
      ],
      "text/plain": [
       "         wt        ht        lt        bt         t\n",
       "c -0.606594 -0.913448  0.757699  1.922139 -1.239598\n",
       "d -0.106907 -0.892540 -1.088265  0.607543 -0.556434"
      ]
     },
     "execution_count": 30,
     "metadata": {},
     "output_type": "execute_result"
    }
   ],
   "source": [
    "# filter dataframe for rows with Wt < 0, bt>0 and show outputs\n",
    "data[(data['wt']<0) & (data['bt']>0)]"
   ]
  },
  {
   "cell_type": "code",
   "execution_count": 32,
   "metadata": {},
   "outputs": [
    {
     "data": {
      "text/html": [
       "<div>\n",
       "<style scoped>\n",
       "    .dataframe tbody tr th:only-of-type {\n",
       "        vertical-align: middle;\n",
       "    }\n",
       "\n",
       "    .dataframe tbody tr th {\n",
       "        vertical-align: top;\n",
       "    }\n",
       "\n",
       "    .dataframe thead th {\n",
       "        text-align: right;\n",
       "    }\n",
       "</style>\n",
       "<table border=\"1\" class=\"dataframe\">\n",
       "  <thead>\n",
       "    <tr style=\"text-align: right;\">\n",
       "      <th></th>\n",
       "      <th>wt</th>\n",
       "      <th>ht</th>\n",
       "      <th>lt</th>\n",
       "      <th>bt</th>\n",
       "      <th>t</th>\n",
       "      <th>area</th>\n",
       "    </tr>\n",
       "  </thead>\n",
       "  <tbody>\n",
       "    <tr>\n",
       "      <th>a</th>\n",
       "      <td>-1.964121</td>\n",
       "      <td>0.241593</td>\n",
       "      <td>-1.067656</td>\n",
       "      <td>-1.028404</td>\n",
       "      <td>-0.633085</td>\n",
       "      <td>-0.257939</td>\n",
       "    </tr>\n",
       "    <tr>\n",
       "      <th>b</th>\n",
       "      <td>1.513421</td>\n",
       "      <td>-0.631197</td>\n",
       "      <td>1.167638</td>\n",
       "      <td>0.471538</td>\n",
       "      <td>-1.004837</td>\n",
       "      <td>-0.737009</td>\n",
       "    </tr>\n",
       "    <tr>\n",
       "      <th>c</th>\n",
       "      <td>-0.606594</td>\n",
       "      <td>-0.913448</td>\n",
       "      <td>0.757699</td>\n",
       "      <td>1.922139</td>\n",
       "      <td>-1.239598</td>\n",
       "      <td>-0.692119</td>\n",
       "    </tr>\n",
       "    <tr>\n",
       "      <th>d</th>\n",
       "      <td>-0.106907</td>\n",
       "      <td>-0.892540</td>\n",
       "      <td>-1.088265</td>\n",
       "      <td>0.607543</td>\n",
       "      <td>-0.556434</td>\n",
       "      <td>0.971320</td>\n",
       "    </tr>\n",
       "  </tbody>\n",
       "</table>\n",
       "</div>"
      ],
      "text/plain": [
       "         wt        ht        lt        bt         t      area\n",
       "a -1.964121  0.241593 -1.067656 -1.028404 -0.633085 -0.257939\n",
       "b  1.513421 -0.631197  1.167638  0.471538 -1.004837 -0.737009\n",
       "c -0.606594 -0.913448  0.757699  1.922139 -1.239598 -0.692119\n",
       "d -0.106907 -0.892540 -1.088265  0.607543 -0.556434  0.971320"
      ]
     },
     "execution_count": 32,
     "metadata": {},
     "output_type": "execute_result"
    }
   ],
   "source": [
    "# Add area as column\n",
    "data['area']=data['ht']*data['lt']\n",
    "data"
   ]
  },
  {
   "cell_type": "code",
   "execution_count": 34,
   "metadata": {},
   "outputs": [
    {
     "data": {
      "text/html": [
       "<div>\n",
       "<style scoped>\n",
       "    .dataframe tbody tr th:only-of-type {\n",
       "        vertical-align: middle;\n",
       "    }\n",
       "\n",
       "    .dataframe tbody tr th {\n",
       "        vertical-align: top;\n",
       "    }\n",
       "\n",
       "    .dataframe thead th {\n",
       "        text-align: right;\n",
       "    }\n",
       "</style>\n",
       "<table border=\"1\" class=\"dataframe\">\n",
       "  <thead>\n",
       "    <tr style=\"text-align: right;\">\n",
       "      <th></th>\n",
       "      <th>wt</th>\n",
       "      <th>ht</th>\n",
       "      <th>lt</th>\n",
       "      <th>bt</th>\n",
       "      <th>t</th>\n",
       "    </tr>\n",
       "  </thead>\n",
       "  <tbody>\n",
       "    <tr>\n",
       "      <th>a</th>\n",
       "      <td>-1.964121</td>\n",
       "      <td>0.241593</td>\n",
       "      <td>-1.067656</td>\n",
       "      <td>-1.028404</td>\n",
       "      <td>-0.633085</td>\n",
       "    </tr>\n",
       "    <tr>\n",
       "      <th>b</th>\n",
       "      <td>1.513421</td>\n",
       "      <td>-0.631197</td>\n",
       "      <td>1.167638</td>\n",
       "      <td>0.471538</td>\n",
       "      <td>-1.004837</td>\n",
       "    </tr>\n",
       "    <tr>\n",
       "      <th>c</th>\n",
       "      <td>-0.606594</td>\n",
       "      <td>-0.913448</td>\n",
       "      <td>0.757699</td>\n",
       "      <td>1.922139</td>\n",
       "      <td>-1.239598</td>\n",
       "    </tr>\n",
       "    <tr>\n",
       "      <th>d</th>\n",
       "      <td>-0.106907</td>\n",
       "      <td>-0.892540</td>\n",
       "      <td>-1.088265</td>\n",
       "      <td>0.607543</td>\n",
       "      <td>-0.556434</td>\n",
       "    </tr>\n",
       "  </tbody>\n",
       "</table>\n",
       "</div>"
      ],
      "text/plain": [
       "         wt        ht        lt        bt         t\n",
       "a -1.964121  0.241593 -1.067656 -1.028404 -0.633085\n",
       "b  1.513421 -0.631197  1.167638  0.471538 -1.004837\n",
       "c -0.606594 -0.913448  0.757699  1.922139 -1.239598\n",
       "d -0.106907 -0.892540 -1.088265  0.607543 -0.556434"
      ]
     },
     "execution_count": 34,
     "metadata": {},
     "output_type": "execute_result"
    }
   ],
   "source": [
    "# Drop a column. Ex: area\n",
    "data.drop('area',axis=1,inplace=True)"
   ]
  },
  {
   "cell_type": "code",
   "execution_count": 35,
   "metadata": {},
   "outputs": [
    {
     "data": {
      "text/html": [
       "<div>\n",
       "<style scoped>\n",
       "    .dataframe tbody tr th:only-of-type {\n",
       "        vertical-align: middle;\n",
       "    }\n",
       "\n",
       "    .dataframe tbody tr th {\n",
       "        vertical-align: top;\n",
       "    }\n",
       "\n",
       "    .dataframe thead th {\n",
       "        text-align: right;\n",
       "    }\n",
       "</style>\n",
       "<table border=\"1\" class=\"dataframe\">\n",
       "  <thead>\n",
       "    <tr style=\"text-align: right;\">\n",
       "      <th></th>\n",
       "      <th>wt</th>\n",
       "      <th>ht</th>\n",
       "      <th>lt</th>\n",
       "      <th>bt</th>\n",
       "      <th>t</th>\n",
       "      <th>area</th>\n",
       "    </tr>\n",
       "  </thead>\n",
       "  <tbody>\n",
       "    <tr>\n",
       "      <th>a</th>\n",
       "      <td>-1.964121</td>\n",
       "      <td>0.241593</td>\n",
       "      <td>-1.067656</td>\n",
       "      <td>-1.028404</td>\n",
       "      <td>-0.633085</td>\n",
       "      <td>-0.257939</td>\n",
       "    </tr>\n",
       "    <tr>\n",
       "      <th>b</th>\n",
       "      <td>1.513421</td>\n",
       "      <td>-0.631197</td>\n",
       "      <td>1.167638</td>\n",
       "      <td>0.471538</td>\n",
       "      <td>-1.004837</td>\n",
       "      <td>-0.737009</td>\n",
       "    </tr>\n",
       "    <tr>\n",
       "      <th>c</th>\n",
       "      <td>-0.606594</td>\n",
       "      <td>-0.913448</td>\n",
       "      <td>0.757699</td>\n",
       "      <td>1.922139</td>\n",
       "      <td>-1.239598</td>\n",
       "      <td>-0.692119</td>\n",
       "    </tr>\n",
       "    <tr>\n",
       "      <th>d</th>\n",
       "      <td>-0.106907</td>\n",
       "      <td>-0.892540</td>\n",
       "      <td>-1.088265</td>\n",
       "      <td>0.607543</td>\n",
       "      <td>-0.556434</td>\n",
       "      <td>0.971320</td>\n",
       "    </tr>\n",
       "  </tbody>\n",
       "</table>\n",
       "</div>"
      ],
      "text/plain": [
       "         wt        ht        lt        bt         t      area\n",
       "a -1.964121  0.241593 -1.067656 -1.028404 -0.633085 -0.257939\n",
       "b  1.513421 -0.631197  1.167638  0.471538 -1.004837 -0.737009\n",
       "c -0.606594 -0.913448  0.757699  1.922139 -1.239598 -0.692119\n",
       "d -0.106907 -0.892540 -1.088265  0.607543 -0.556434  0.971320"
      ]
     },
     "execution_count": 35,
     "metadata": {},
     "output_type": "execute_result"
    }
   ],
   "source": [
    "data"
   ]
  },
  {
   "cell_type": "code",
   "execution_count": 36,
   "metadata": {},
   "outputs": [
    {
     "data": {
      "text/html": [
       "<div>\n",
       "<style scoped>\n",
       "    .dataframe tbody tr th:only-of-type {\n",
       "        vertical-align: middle;\n",
       "    }\n",
       "\n",
       "    .dataframe tbody tr th {\n",
       "        vertical-align: top;\n",
       "    }\n",
       "\n",
       "    .dataframe thead th {\n",
       "        text-align: right;\n",
       "    }\n",
       "</style>\n",
       "<table border=\"1\" class=\"dataframe\">\n",
       "  <thead>\n",
       "    <tr style=\"text-align: right;\">\n",
       "      <th></th>\n",
       "      <th>wt</th>\n",
       "      <th>ht</th>\n",
       "      <th>lt</th>\n",
       "      <th>bt</th>\n",
       "      <th>t</th>\n",
       "      <th>area</th>\n",
       "    </tr>\n",
       "  </thead>\n",
       "  <tbody>\n",
       "    <tr>\n",
       "      <th>b</th>\n",
       "      <td>1.513421</td>\n",
       "      <td>-0.631197</td>\n",
       "      <td>1.167638</td>\n",
       "      <td>0.471538</td>\n",
       "      <td>-1.004837</td>\n",
       "      <td>-0.737009</td>\n",
       "    </tr>\n",
       "    <tr>\n",
       "      <th>c</th>\n",
       "      <td>-0.606594</td>\n",
       "      <td>-0.913448</td>\n",
       "      <td>0.757699</td>\n",
       "      <td>1.922139</td>\n",
       "      <td>-1.239598</td>\n",
       "      <td>-0.692119</td>\n",
       "    </tr>\n",
       "    <tr>\n",
       "      <th>d</th>\n",
       "      <td>-0.106907</td>\n",
       "      <td>-0.892540</td>\n",
       "      <td>-1.088265</td>\n",
       "      <td>0.607543</td>\n",
       "      <td>-0.556434</td>\n",
       "      <td>0.971320</td>\n",
       "    </tr>\n",
       "  </tbody>\n",
       "</table>\n",
       "</div>"
      ],
      "text/plain": [
       "         wt        ht        lt        bt         t      area\n",
       "b  1.513421 -0.631197  1.167638  0.471538 -1.004837 -0.737009\n",
       "c -0.606594 -0.913448  0.757699  1.922139 -1.239598 -0.692119\n",
       "d -0.106907 -0.892540 -1.088265  0.607543 -0.556434  0.971320"
      ]
     },
     "execution_count": 36,
     "metadata": {},
     "output_type": "execute_result"
    }
   ],
   "source": [
    "# Drop a row\n",
    "data.drop(['a'],axis=0)"
   ]
  },
  {
   "cell_type": "code",
   "execution_count": 41,
   "metadata": {},
   "outputs": [
    {
     "data": {
      "text/html": [
       "<div>\n",
       "<style scoped>\n",
       "    .dataframe tbody tr th:only-of-type {\n",
       "        vertical-align: middle;\n",
       "    }\n",
       "\n",
       "    .dataframe tbody tr th {\n",
       "        vertical-align: top;\n",
       "    }\n",
       "\n",
       "    .dataframe thead th {\n",
       "        text-align: right;\n",
       "    }\n",
       "</style>\n",
       "<table border=\"1\" class=\"dataframe\">\n",
       "  <thead>\n",
       "    <tr style=\"text-align: right;\">\n",
       "      <th></th>\n",
       "      <th>wt</th>\n",
       "      <th>ht</th>\n",
       "      <th>lt</th>\n",
       "      <th>bt</th>\n",
       "      <th>t</th>\n",
       "      <th>area</th>\n",
       "    </tr>\n",
       "    <tr>\n",
       "      <th>id</th>\n",
       "      <th></th>\n",
       "      <th></th>\n",
       "      <th></th>\n",
       "      <th></th>\n",
       "      <th></th>\n",
       "      <th></th>\n",
       "    </tr>\n",
       "  </thead>\n",
       "  <tbody>\n",
       "    <tr>\n",
       "      <th>10</th>\n",
       "      <td>-1.964121</td>\n",
       "      <td>0.241593</td>\n",
       "      <td>-1.067656</td>\n",
       "      <td>-1.028404</td>\n",
       "      <td>-0.633085</td>\n",
       "      <td>-0.257939</td>\n",
       "    </tr>\n",
       "    <tr>\n",
       "      <th>11</th>\n",
       "      <td>1.513421</td>\n",
       "      <td>-0.631197</td>\n",
       "      <td>1.167638</td>\n",
       "      <td>0.471538</td>\n",
       "      <td>-1.004837</td>\n",
       "      <td>-0.737009</td>\n",
       "    </tr>\n",
       "    <tr>\n",
       "      <th>12</th>\n",
       "      <td>-0.606594</td>\n",
       "      <td>-0.913448</td>\n",
       "      <td>0.757699</td>\n",
       "      <td>1.922139</td>\n",
       "      <td>-1.239598</td>\n",
       "      <td>-0.692119</td>\n",
       "    </tr>\n",
       "    <tr>\n",
       "      <th>13</th>\n",
       "      <td>-0.106907</td>\n",
       "      <td>-0.892540</td>\n",
       "      <td>-1.088265</td>\n",
       "      <td>0.607543</td>\n",
       "      <td>-0.556434</td>\n",
       "      <td>0.971320</td>\n",
       "    </tr>\n",
       "  </tbody>\n",
       "</table>\n",
       "</div>"
      ],
      "text/plain": [
       "          wt        ht        lt        bt         t      area\n",
       "id                                                            \n",
       "10 -1.964121  0.241593 -1.067656 -1.028404 -0.633085 -0.257939\n",
       "11  1.513421 -0.631197  1.167638  0.471538 -1.004837 -0.737009\n",
       "12 -0.606594 -0.913448  0.757699  1.922139 -1.239598 -0.692119\n",
       "13 -0.106907 -0.892540 -1.088265  0.607543 -0.556434  0.971320"
      ]
     },
     "execution_count": 41,
     "metadata": {},
     "output_type": "execute_result"
    }
   ],
   "source": [
    "# Assing id number to rows and Set it as an index\n",
    "data['id']=[10,11,12,13]\n",
    "data.set_index('id')"
   ]
  },
  {
   "cell_type": "code",
   "execution_count": 44,
   "metadata": {},
   "outputs": [
    {
     "ename": "TypeError",
     "evalue": "object of type 'types.GenericAlias' has no len()",
     "output_type": "error",
     "traceback": [
      "\u001b[1;31m---------------------------------------------------------------------------\u001b[0m",
      "\u001b[1;31mTypeError\u001b[0m                                 Traceback (most recent call last)",
      "Cell \u001b[1;32mIn[44], line 5\u001b[0m\n\u001b[0;32m      3\u001b[0m idcard\u001b[39m=\u001b[39m[\u001b[39m101\u001b[39m,\u001b[39m111\u001b[39m,\u001b[39m121\u001b[39m,\u001b[39m131\u001b[39m]\n\u001b[0;32m      4\u001b[0m newid\u001b[39m=\u001b[39m\u001b[39mlist\u001b[39m[\u001b[39mzip\u001b[39m(batch,idcard)]\n\u001b[1;32m----> 5\u001b[0m data[\u001b[39m'\u001b[39m\u001b[39mid2\u001b[39m\u001b[39m'\u001b[39m]\u001b[39m=\u001b[39mnewid\n\u001b[0;32m      6\u001b[0m data\u001b[39m.\u001b[39mpd\u001b[39m.\u001b[39mMultiindex\u001b[39m.\u001b[39mfrom_tuples(\u001b[39m'\u001b[39m\u001b[39mid2\u001b[39m\u001b[39m'\u001b[39m)\n",
      "File \u001b[1;32mc:\\Users\\keset\\anaconda3\\lib\\site-packages\\pandas\\core\\frame.py:3980\u001b[0m, in \u001b[0;36mDataFrame.__setitem__\u001b[1;34m(self, key, value)\u001b[0m\n\u001b[0;32m   3977\u001b[0m     \u001b[39mself\u001b[39m\u001b[39m.\u001b[39m_setitem_array([key], value)\n\u001b[0;32m   3978\u001b[0m \u001b[39melse\u001b[39;00m:\n\u001b[0;32m   3979\u001b[0m     \u001b[39m# set column\u001b[39;00m\n\u001b[1;32m-> 3980\u001b[0m     \u001b[39mself\u001b[39;49m\u001b[39m.\u001b[39;49m_set_item(key, value)\n",
      "File \u001b[1;32mc:\\Users\\keset\\anaconda3\\lib\\site-packages\\pandas\\core\\frame.py:4174\u001b[0m, in \u001b[0;36mDataFrame._set_item\u001b[1;34m(self, key, value)\u001b[0m\n\u001b[0;32m   4164\u001b[0m \u001b[39mdef\u001b[39;00m \u001b[39m_set_item\u001b[39m(\u001b[39mself\u001b[39m, key, value) \u001b[39m-\u001b[39m\u001b[39m>\u001b[39m \u001b[39mNone\u001b[39;00m:\n\u001b[0;32m   4165\u001b[0m     \u001b[39m\"\"\"\u001b[39;00m\n\u001b[0;32m   4166\u001b[0m \u001b[39m    Add series to DataFrame in specified column.\u001b[39;00m\n\u001b[0;32m   4167\u001b[0m \n\u001b[1;32m   (...)\u001b[0m\n\u001b[0;32m   4172\u001b[0m \u001b[39m    ensure homogeneity.\u001b[39;00m\n\u001b[0;32m   4173\u001b[0m \u001b[39m    \"\"\"\u001b[39;00m\n\u001b[1;32m-> 4174\u001b[0m     value \u001b[39m=\u001b[39m \u001b[39mself\u001b[39;49m\u001b[39m.\u001b[39;49m_sanitize_column(value)\n\u001b[0;32m   4176\u001b[0m     \u001b[39mif\u001b[39;00m (\n\u001b[0;32m   4177\u001b[0m         key \u001b[39min\u001b[39;00m \u001b[39mself\u001b[39m\u001b[39m.\u001b[39mcolumns\n\u001b[0;32m   4178\u001b[0m         \u001b[39mand\u001b[39;00m value\u001b[39m.\u001b[39mndim \u001b[39m==\u001b[39m \u001b[39m1\u001b[39m\n\u001b[0;32m   4179\u001b[0m         \u001b[39mand\u001b[39;00m \u001b[39mnot\u001b[39;00m is_extension_array_dtype(value)\n\u001b[0;32m   4180\u001b[0m     ):\n\u001b[0;32m   4181\u001b[0m         \u001b[39m# broadcast across multiple columns if necessary\u001b[39;00m\n\u001b[0;32m   4182\u001b[0m         \u001b[39mif\u001b[39;00m \u001b[39mnot\u001b[39;00m \u001b[39mself\u001b[39m\u001b[39m.\u001b[39mcolumns\u001b[39m.\u001b[39mis_unique \u001b[39mor\u001b[39;00m \u001b[39misinstance\u001b[39m(\u001b[39mself\u001b[39m\u001b[39m.\u001b[39mcolumns, MultiIndex):\n",
      "File \u001b[1;32mc:\\Users\\keset\\anaconda3\\lib\\site-packages\\pandas\\core\\frame.py:4915\u001b[0m, in \u001b[0;36mDataFrame._sanitize_column\u001b[1;34m(self, value)\u001b[0m\n\u001b[0;32m   4912\u001b[0m     \u001b[39mreturn\u001b[39;00m _reindex_for_setitem(Series(value), \u001b[39mself\u001b[39m\u001b[39m.\u001b[39mindex)\n\u001b[0;32m   4914\u001b[0m \u001b[39mif\u001b[39;00m is_list_like(value):\n\u001b[1;32m-> 4915\u001b[0m     com\u001b[39m.\u001b[39;49mrequire_length_match(value, \u001b[39mself\u001b[39;49m\u001b[39m.\u001b[39;49mindex)\n\u001b[0;32m   4916\u001b[0m \u001b[39mreturn\u001b[39;00m sanitize_array(value, \u001b[39mself\u001b[39m\u001b[39m.\u001b[39mindex, copy\u001b[39m=\u001b[39m\u001b[39mTrue\u001b[39;00m, allow_2d\u001b[39m=\u001b[39m\u001b[39mTrue\u001b[39;00m)\n",
      "File \u001b[1;32mc:\\Users\\keset\\anaconda3\\lib\\site-packages\\pandas\\core\\common.py:570\u001b[0m, in \u001b[0;36mrequire_length_match\u001b[1;34m(data, index)\u001b[0m\n\u001b[0;32m    566\u001b[0m \u001b[39mdef\u001b[39;00m \u001b[39mrequire_length_match\u001b[39m(data, index: Index) \u001b[39m-\u001b[39m\u001b[39m>\u001b[39m \u001b[39mNone\u001b[39;00m:\n\u001b[0;32m    567\u001b[0m     \u001b[39m\"\"\"\u001b[39;00m\n\u001b[0;32m    568\u001b[0m \u001b[39m    Check the length of data matches the length of the index.\u001b[39;00m\n\u001b[0;32m    569\u001b[0m \u001b[39m    \"\"\"\u001b[39;00m\n\u001b[1;32m--> 570\u001b[0m     \u001b[39mif\u001b[39;00m \u001b[39mlen\u001b[39;49m(data) \u001b[39m!=\u001b[39m \u001b[39mlen\u001b[39m(index):\n\u001b[0;32m    571\u001b[0m         \u001b[39mraise\u001b[39;00m \u001b[39mValueError\u001b[39;00m(\n\u001b[0;32m    572\u001b[0m             \u001b[39m\"\u001b[39m\u001b[39mLength of values \u001b[39m\u001b[39m\"\u001b[39m\n\u001b[0;32m    573\u001b[0m             \u001b[39mf\u001b[39m\u001b[39m\"\u001b[39m\u001b[39m(\u001b[39m\u001b[39m{\u001b[39;00m\u001b[39mlen\u001b[39m(data)\u001b[39m}\u001b[39;00m\u001b[39m) \u001b[39m\u001b[39m\"\u001b[39m\n\u001b[0;32m    574\u001b[0m             \u001b[39m\"\u001b[39m\u001b[39mdoes not match length of index \u001b[39m\u001b[39m\"\u001b[39m\n\u001b[0;32m    575\u001b[0m             \u001b[39mf\u001b[39m\u001b[39m\"\u001b[39m\u001b[39m(\u001b[39m\u001b[39m{\u001b[39;00m\u001b[39mlen\u001b[39m(index)\u001b[39m}\u001b[39;00m\u001b[39m)\u001b[39m\u001b[39m\"\u001b[39m\n\u001b[0;32m    576\u001b[0m         )\n",
      "\u001b[1;31mTypeError\u001b[0m: object of type 'types.GenericAlias' has no len()"
     ]
    }
   ],
   "source": [
    "# Use to layers of indexing\n",
    "batch='y1 y1 y1 y2'.split()\n",
    "idcard=[101,111,121,131]\n",
    "newid=list[zip(batch,idcard)]\n",
    "data['id2']=newid\n",
    "data.pd.Multiindex.from_tuples('id2')"
   ]
  },
  {
   "cell_type": "code",
   "execution_count": 70,
   "metadata": {},
   "outputs": [
    {
     "data": {
      "text/html": [
       "<div>\n",
       "<style scoped>\n",
       "    .dataframe tbody tr th:only-of-type {\n",
       "        vertical-align: middle;\n",
       "    }\n",
       "\n",
       "    .dataframe tbody tr th {\n",
       "        vertical-align: top;\n",
       "    }\n",
       "\n",
       "    .dataframe thead th {\n",
       "        text-align: right;\n",
       "    }\n",
       "</style>\n",
       "<table border=\"1\" class=\"dataframe\">\n",
       "  <thead>\n",
       "    <tr style=\"text-align: right;\">\n",
       "      <th></th>\n",
       "      <th>wt</th>\n",
       "      <th>ht</th>\n",
       "      <th>lt</th>\n",
       "      <th>bt</th>\n",
       "      <th>t</th>\n",
       "      <th>area</th>\n",
       "      <th>id</th>\n",
       "      <th>id2</th>\n",
       "    </tr>\n",
       "  </thead>\n",
       "  <tbody>\n",
       "    <tr>\n",
       "      <th>d</th>\n",
       "      <td>-0.106907</td>\n",
       "      <td>-0.892540</td>\n",
       "      <td>-1.088265</td>\n",
       "      <td>0.607543</td>\n",
       "      <td>-0.556434</td>\n",
       "      <td>0.971320</td>\n",
       "      <td>13</td>\n",
       "      <td>(y2, 131)</td>\n",
       "    </tr>\n",
       "    <tr>\n",
       "      <th>c</th>\n",
       "      <td>-0.606594</td>\n",
       "      <td>-0.913448</td>\n",
       "      <td>0.757699</td>\n",
       "      <td>1.922139</td>\n",
       "      <td>-1.239598</td>\n",
       "      <td>-0.692119</td>\n",
       "      <td>12</td>\n",
       "      <td>(y1, 121)</td>\n",
       "    </tr>\n",
       "    <tr>\n",
       "      <th>b</th>\n",
       "      <td>1.513421</td>\n",
       "      <td>-0.631197</td>\n",
       "      <td>1.167638</td>\n",
       "      <td>0.471538</td>\n",
       "      <td>-1.004837</td>\n",
       "      <td>-0.737009</td>\n",
       "      <td>11</td>\n",
       "      <td>(y1, 111)</td>\n",
       "    </tr>\n",
       "    <tr>\n",
       "      <th>a</th>\n",
       "      <td>-1.964121</td>\n",
       "      <td>0.241593</td>\n",
       "      <td>-1.067656</td>\n",
       "      <td>-1.028404</td>\n",
       "      <td>-0.633085</td>\n",
       "      <td>-0.257939</td>\n",
       "      <td>10</td>\n",
       "      <td>(y1, 101)</td>\n",
       "    </tr>\n",
       "  </tbody>\n",
       "</table>\n",
       "</div>"
      ],
      "text/plain": [
       "         wt        ht        lt        bt         t      area  id        id2\n",
       "d -0.106907 -0.892540 -1.088265  0.607543 -0.556434  0.971320  13  (y2, 131)\n",
       "c -0.606594 -0.913448  0.757699  1.922139 -1.239598 -0.692119  12  (y1, 121)\n",
       "b  1.513421 -0.631197  1.167638  0.471538 -1.004837 -0.737009  11  (y1, 111)\n",
       "a -1.964121  0.241593 -1.067656 -1.028404 -0.633085 -0.257939  10  (y1, 101)"
      ]
     },
     "execution_count": 70,
     "metadata": {},
     "output_type": "execute_result"
    }
   ],
   "source": [
    "# Sorting by index\n",
    "data.sort_index(ascending=False)"
   ]
  },
  {
   "cell_type": "code",
   "execution_count": 48,
   "metadata": {},
   "outputs": [
    {
     "data": {
      "text/plain": [
       "a   -1.964121\n",
       "c   -0.606594\n",
       "d   -0.106907\n",
       "b    1.513421\n",
       "Name: wt, dtype: float64"
      ]
     },
     "execution_count": 48,
     "metadata": {},
     "output_type": "execute_result"
    }
   ],
   "source": [
    "# Sorting by weight, ascending\n",
    "data['wt'].sort_values()"
   ]
  },
  {
   "cell_type": "code",
   "execution_count": 53,
   "metadata": {},
   "outputs": [
    {
     "data": {
      "text/html": [
       "<div>\n",
       "<style scoped>\n",
       "    .dataframe tbody tr th:only-of-type {\n",
       "        vertical-align: middle;\n",
       "    }\n",
       "\n",
       "    .dataframe tbody tr th {\n",
       "        vertical-align: top;\n",
       "    }\n",
       "\n",
       "    .dataframe thead th {\n",
       "        text-align: right;\n",
       "    }\n",
       "</style>\n",
       "<table border=\"1\" class=\"dataframe\">\n",
       "  <thead>\n",
       "    <tr style=\"text-align: right;\">\n",
       "      <th></th>\n",
       "      <th>wt</th>\n",
       "      <th>ht</th>\n",
       "      <th>lt</th>\n",
       "      <th>bt</th>\n",
       "      <th>t</th>\n",
       "      <th>area</th>\n",
       "      <th>id</th>\n",
       "      <th>id2</th>\n",
       "    </tr>\n",
       "  </thead>\n",
       "  <tbody>\n",
       "    <tr>\n",
       "      <th>a</th>\n",
       "      <td>-1.964121</td>\n",
       "      <td>0.241593</td>\n",
       "      <td>-1.067656</td>\n",
       "      <td>-1.028404</td>\n",
       "      <td>-0.633085</td>\n",
       "      <td>-0.257939</td>\n",
       "      <td>10</td>\n",
       "      <td>(y1, 101)</td>\n",
       "    </tr>\n",
       "    <tr>\n",
       "      <th>c</th>\n",
       "      <td>-0.606594</td>\n",
       "      <td>-0.913448</td>\n",
       "      <td>0.757699</td>\n",
       "      <td>1.922139</td>\n",
       "      <td>-1.239598</td>\n",
       "      <td>-0.692119</td>\n",
       "      <td>12</td>\n",
       "      <td>(y1, 121)</td>\n",
       "    </tr>\n",
       "    <tr>\n",
       "      <th>d</th>\n",
       "      <td>-0.106907</td>\n",
       "      <td>-0.892540</td>\n",
       "      <td>-1.088265</td>\n",
       "      <td>0.607543</td>\n",
       "      <td>-0.556434</td>\n",
       "      <td>0.971320</td>\n",
       "      <td>13</td>\n",
       "      <td>(y2, 131)</td>\n",
       "    </tr>\n",
       "    <tr>\n",
       "      <th>b</th>\n",
       "      <td>1.513421</td>\n",
       "      <td>-0.631197</td>\n",
       "      <td>1.167638</td>\n",
       "      <td>0.471538</td>\n",
       "      <td>-1.004837</td>\n",
       "      <td>-0.737009</td>\n",
       "      <td>11</td>\n",
       "      <td>(y1, 111)</td>\n",
       "    </tr>\n",
       "  </tbody>\n",
       "</table>\n",
       "</div>"
      ],
      "text/plain": [
       "         wt        ht        lt        bt         t      area  id        id2\n",
       "a -1.964121  0.241593 -1.067656 -1.028404 -0.633085 -0.257939  10  (y1, 101)\n",
       "c -0.606594 -0.913448  0.757699  1.922139 -1.239598 -0.692119  12  (y1, 121)\n",
       "d -0.106907 -0.892540 -1.088265  0.607543 -0.556434  0.971320  13  (y2, 131)\n",
       "b  1.513421 -0.631197  1.167638  0.471538 -1.004837 -0.737009  11  (y1, 111)"
      ]
     },
     "execution_count": 53,
     "metadata": {},
     "output_type": "execute_result"
    }
   ],
   "source": [
    "# Sorting dataframe by weight\n",
    "data.sort_values(by='wt')"
   ]
  },
  {
   "cell_type": "code",
   "execution_count": 54,
   "metadata": {},
   "outputs": [
    {
     "data": {
      "text/html": [
       "<div>\n",
       "<style scoped>\n",
       "    .dataframe tbody tr th:only-of-type {\n",
       "        vertical-align: middle;\n",
       "    }\n",
       "\n",
       "    .dataframe tbody tr th {\n",
       "        vertical-align: top;\n",
       "    }\n",
       "\n",
       "    .dataframe thead th {\n",
       "        text-align: right;\n",
       "    }\n",
       "</style>\n",
       "<table border=\"1\" class=\"dataframe\">\n",
       "  <thead>\n",
       "    <tr style=\"text-align: right;\">\n",
       "      <th></th>\n",
       "      <th>wt</th>\n",
       "      <th>ht</th>\n",
       "      <th>lt</th>\n",
       "      <th>bt</th>\n",
       "      <th>t</th>\n",
       "      <th>area</th>\n",
       "      <th>id</th>\n",
       "      <th>id2</th>\n",
       "    </tr>\n",
       "  </thead>\n",
       "  <tbody>\n",
       "    <tr>\n",
       "      <th>a</th>\n",
       "      <td>-1.964121</td>\n",
       "      <td>0.241593</td>\n",
       "      <td>-1.067656</td>\n",
       "      <td>-1.028404</td>\n",
       "      <td>-0.633085</td>\n",
       "      <td>-0.257939</td>\n",
       "      <td>10</td>\n",
       "      <td>(y1, 101)</td>\n",
       "    </tr>\n",
       "    <tr>\n",
       "      <th>c</th>\n",
       "      <td>-0.606594</td>\n",
       "      <td>-0.913448</td>\n",
       "      <td>0.757699</td>\n",
       "      <td>1.922139</td>\n",
       "      <td>-1.239598</td>\n",
       "      <td>-0.692119</td>\n",
       "      <td>12</td>\n",
       "      <td>(y1, 121)</td>\n",
       "    </tr>\n",
       "    <tr>\n",
       "      <th>d</th>\n",
       "      <td>-0.106907</td>\n",
       "      <td>-0.892540</td>\n",
       "      <td>-1.088265</td>\n",
       "      <td>0.607543</td>\n",
       "      <td>-0.556434</td>\n",
       "      <td>0.971320</td>\n",
       "      <td>13</td>\n",
       "      <td>(y2, 131)</td>\n",
       "    </tr>\n",
       "    <tr>\n",
       "      <th>b</th>\n",
       "      <td>1.513421</td>\n",
       "      <td>-0.631197</td>\n",
       "      <td>1.167638</td>\n",
       "      <td>0.471538</td>\n",
       "      <td>-1.004837</td>\n",
       "      <td>-0.737009</td>\n",
       "      <td>11</td>\n",
       "      <td>(y1, 111)</td>\n",
       "    </tr>\n",
       "  </tbody>\n",
       "</table>\n",
       "</div>"
      ],
      "text/plain": [
       "         wt        ht        lt        bt         t      area  id        id2\n",
       "a -1.964121  0.241593 -1.067656 -1.028404 -0.633085 -0.257939  10  (y1, 101)\n",
       "c -0.606594 -0.913448  0.757699  1.922139 -1.239598 -0.692119  12  (y1, 121)\n",
       "d -0.106907 -0.892540 -1.088265  0.607543 -0.556434  0.971320  13  (y2, 131)\n",
       "b  1.513421 -0.631197  1.167638  0.471538 -1.004837 -0.737009  11  (y1, 111)"
      ]
     },
     "execution_count": 54,
     "metadata": {},
     "output_type": "execute_result"
    }
   ],
   "source": [
    "# Sorting dataframe by weight ascending and height descening\n",
    "data.sort_values(by=['wt','ht'],ascending=[True,False])"
   ]
  },
  {
   "cell_type": "code",
   "execution_count": 55,
   "metadata": {},
   "outputs": [
    {
     "data": {
      "text/plain": [
       "-1.9641205508386101"
      ]
     },
     "execution_count": 55,
     "metadata": {},
     "output_type": "execute_result"
    }
   ],
   "source": [
    "# Minumum value for weight\n",
    "data['wt'].min()"
   ]
  },
  {
   "cell_type": "code",
   "execution_count": 58,
   "metadata": {},
   "outputs": [
    {
     "data": {
      "text/html": [
       "<div>\n",
       "<style scoped>\n",
       "    .dataframe tbody tr th:only-of-type {\n",
       "        vertical-align: middle;\n",
       "    }\n",
       "\n",
       "    .dataframe tbody tr th {\n",
       "        vertical-align: top;\n",
       "    }\n",
       "\n",
       "    .dataframe thead th {\n",
       "        text-align: right;\n",
       "    }\n",
       "</style>\n",
       "<table border=\"1\" class=\"dataframe\">\n",
       "  <thead>\n",
       "    <tr style=\"text-align: right;\">\n",
       "      <th></th>\n",
       "      <th>wt</th>\n",
       "      <th>ht</th>\n",
       "      <th>lt</th>\n",
       "      <th>bt</th>\n",
       "      <th>t</th>\n",
       "      <th>area</th>\n",
       "      <th>id</th>\n",
       "      <th>id2</th>\n",
       "    </tr>\n",
       "  </thead>\n",
       "  <tbody>\n",
       "    <tr>\n",
       "      <th>a</th>\n",
       "      <td>-1.964121</td>\n",
       "      <td>0.241593</td>\n",
       "      <td>-1.067656</td>\n",
       "      <td>-1.028404</td>\n",
       "      <td>-0.633085</td>\n",
       "      <td>-0.257939</td>\n",
       "      <td>10</td>\n",
       "      <td>(y1, 101)</td>\n",
       "    </tr>\n",
       "  </tbody>\n",
       "</table>\n",
       "</div>"
      ],
      "text/plain": [
       "         wt        ht        lt        bt         t      area  id        id2\n",
       "a -1.964121  0.241593 -1.067656 -1.028404 -0.633085 -0.257939  10  (y1, 101)"
      ]
     },
     "execution_count": 58,
     "metadata": {},
     "output_type": "execute_result"
    }
   ],
   "source": [
    "# Minumum value for weight\n",
    "data.loc[data['wt']==data['wt'].min()]"
   ]
  },
  {
   "cell_type": "code",
   "execution_count": 60,
   "metadata": {},
   "outputs": [
    {
     "data": {
      "text/html": [
       "<div>\n",
       "<style scoped>\n",
       "    .dataframe tbody tr th:only-of-type {\n",
       "        vertical-align: middle;\n",
       "    }\n",
       "\n",
       "    .dataframe tbody tr th {\n",
       "        vertical-align: top;\n",
       "    }\n",
       "\n",
       "    .dataframe thead th {\n",
       "        text-align: right;\n",
       "    }\n",
       "</style>\n",
       "<table border=\"1\" class=\"dataframe\">\n",
       "  <thead>\n",
       "    <tr style=\"text-align: right;\">\n",
       "      <th></th>\n",
       "      <th>wt</th>\n",
       "      <th>ht</th>\n",
       "      <th>lt</th>\n",
       "      <th>bt</th>\n",
       "      <th>t</th>\n",
       "      <th>area</th>\n",
       "      <th>id</th>\n",
       "      <th>id2</th>\n",
       "    </tr>\n",
       "  </thead>\n",
       "  <tbody>\n",
       "    <tr>\n",
       "      <th>c</th>\n",
       "      <td>-0.606594</td>\n",
       "      <td>-0.913448</td>\n",
       "      <td>0.757699</td>\n",
       "      <td>1.922139</td>\n",
       "      <td>-1.239598</td>\n",
       "      <td>-0.692119</td>\n",
       "      <td>12</td>\n",
       "      <td>(y1, 121)</td>\n",
       "    </tr>\n",
       "    <tr>\n",
       "      <th>d</th>\n",
       "      <td>-0.106907</td>\n",
       "      <td>-0.892540</td>\n",
       "      <td>-1.088265</td>\n",
       "      <td>0.607543</td>\n",
       "      <td>-0.556434</td>\n",
       "      <td>0.971320</td>\n",
       "      <td>13</td>\n",
       "      <td>(y2, 131)</td>\n",
       "    </tr>\n",
       "  </tbody>\n",
       "</table>\n",
       "</div>"
      ],
      "text/plain": [
       "         wt        ht        lt        bt         t      area  id        id2\n",
       "c -0.606594 -0.913448  0.757699  1.922139 -1.239598 -0.692119  12  (y1, 121)\n",
       "d -0.106907 -0.892540 -1.088265  0.607543 -0.556434  0.971320  13  (y2, 131)"
      ]
     },
     "execution_count": 60,
     "metadata": {},
     "output_type": "execute_result"
    }
   ],
   "source": [
    "# Rows with values with ids 12,13\n",
    "data.loc[data['id'].isin([12,13])]"
   ]
  },
  {
   "cell_type": "code",
   "execution_count": 61,
   "metadata": {},
   "outputs": [
    {
     "data": {
      "text/html": [
       "<div>\n",
       "<style scoped>\n",
       "    .dataframe tbody tr th:only-of-type {\n",
       "        vertical-align: middle;\n",
       "    }\n",
       "\n",
       "    .dataframe tbody tr th {\n",
       "        vertical-align: top;\n",
       "    }\n",
       "\n",
       "    .dataframe thead th {\n",
       "        text-align: right;\n",
       "    }\n",
       "</style>\n",
       "<table border=\"1\" class=\"dataframe\">\n",
       "  <thead>\n",
       "    <tr style=\"text-align: right;\">\n",
       "      <th></th>\n",
       "      <th>wt</th>\n",
       "      <th>ht</th>\n",
       "      <th>lt</th>\n",
       "      <th>bt</th>\n",
       "      <th>t</th>\n",
       "      <th>area</th>\n",
       "      <th>id</th>\n",
       "      <th>id2</th>\n",
       "    </tr>\n",
       "  </thead>\n",
       "  <tbody>\n",
       "    <tr>\n",
       "      <th>c</th>\n",
       "      <td>-0.606594</td>\n",
       "      <td>-0.913448</td>\n",
       "      <td>0.757699</td>\n",
       "      <td>1.922139</td>\n",
       "      <td>-1.239598</td>\n",
       "      <td>-0.692119</td>\n",
       "      <td>12</td>\n",
       "      <td>(y1, 121)</td>\n",
       "    </tr>\n",
       "    <tr>\n",
       "      <th>d</th>\n",
       "      <td>-0.106907</td>\n",
       "      <td>-0.892540</td>\n",
       "      <td>-1.088265</td>\n",
       "      <td>0.607543</td>\n",
       "      <td>-0.556434</td>\n",
       "      <td>0.971320</td>\n",
       "      <td>13</td>\n",
       "      <td>(y2, 131)</td>\n",
       "    </tr>\n",
       "  </tbody>\n",
       "</table>\n",
       "</div>"
      ],
      "text/plain": [
       "         wt        ht        lt        bt         t      area  id        id2\n",
       "c -0.606594 -0.913448  0.757699  1.922139 -1.239598 -0.692119  12  (y1, 121)\n",
       "d -0.106907 -0.892540 -1.088265  0.607543 -0.556434  0.971320  13  (y2, 131)"
      ]
     },
     "execution_count": 61,
     "metadata": {},
     "output_type": "execute_result"
    }
   ],
   "source": [
    "# Rows with values where wt<0 and ids 12,13\n",
    "data.loc[(data['wt']<0) & (data['id'].isin([12,13]))]"
   ]
  },
  {
   "cell_type": "code",
   "execution_count": 69,
   "metadata": {},
   "outputs": [
    {
     "name": "stdout",
     "output_type": "stream",
     "text": [
      "a\n"
     ]
    },
    {
     "data": {
      "text/plain": [
       "'a'"
      ]
     },
     "execution_count": 69,
     "metadata": {},
     "output_type": "execute_result"
    }
   ],
   "source": [
    "# Index of the row with Minumum value for weight\n",
    "print(*data[data['wt']==data['wt'].min()].index.values)\n",
    "data[data['wt']==data['wt'].min()].index[0]"
   ]
  }
 ],
 "metadata": {
  "kernelspec": {
   "display_name": "base",
   "language": "python",
   "name": "python3"
  },
  "language_info": {
   "codemirror_mode": {
    "name": "ipython",
    "version": 3
   },
   "file_extension": ".py",
   "mimetype": "text/x-python",
   "name": "python",
   "nbconvert_exporter": "python",
   "pygments_lexer": "ipython3",
   "version": "3.10.9"
  },
  "orig_nbformat": 4
 },
 "nbformat": 4,
 "nbformat_minor": 2
}
