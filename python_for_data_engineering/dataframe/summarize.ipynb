{
 "cells": [
  {
   "attachments": {},
   "cell_type": "markdown",
   "metadata": {},
   "source": [
    "# Shaping DataFrame: Append"
   ]
  },
  {
   "cell_type": "code",
   "execution_count": 3,
   "metadata": {},
   "outputs": [],
   "source": [
    "import pandas as pd"
   ]
  },
  {
   "cell_type": "code",
   "execution_count": 11,
   "metadata": {},
   "outputs": [
    {
     "data": {
      "text/html": [
       "<div>\n",
       "<style scoped>\n",
       "    .dataframe tbody tr th:only-of-type {\n",
       "        vertical-align: middle;\n",
       "    }\n",
       "\n",
       "    .dataframe tbody tr th {\n",
       "        vertical-align: top;\n",
       "    }\n",
       "\n",
       "    .dataframe thead th {\n",
       "        text-align: right;\n",
       "    }\n",
       "</style>\n",
       "<table border=\"1\" class=\"dataframe\">\n",
       "  <thead>\n",
       "    <tr style=\"text-align: right;\">\n",
       "      <th></th>\n",
       "      <th>Row ID</th>\n",
       "      <th>Postal Code</th>\n",
       "      <th>Sales</th>\n",
       "      <th>Quantity</th>\n",
       "      <th>Discount</th>\n",
       "      <th>Profit</th>\n",
       "    </tr>\n",
       "  </thead>\n",
       "  <tbody>\n",
       "    <tr>\n",
       "      <th>count</th>\n",
       "      <td>2587.000000</td>\n",
       "      <td>2587.000000</td>\n",
       "      <td>2587.000000</td>\n",
       "      <td>2587.000000</td>\n",
       "      <td>2587.000000</td>\n",
       "      <td>2587.000000</td>\n",
       "    </tr>\n",
       "    <tr>\n",
       "      <th>mean</th>\n",
       "      <td>4939.622729</td>\n",
       "      <td>54504.607654</td>\n",
       "      <td>235.487383</td>\n",
       "      <td>3.802474</td>\n",
       "      <td>0.154743</td>\n",
       "      <td>31.617793</td>\n",
       "    </tr>\n",
       "    <tr>\n",
       "      <th>std</th>\n",
       "      <td>2953.181324</td>\n",
       "      <td>32214.742692</td>\n",
       "      <td>668.217591</td>\n",
       "      <td>2.201917</td>\n",
       "      <td>0.203643</td>\n",
       "      <td>280.780876</td>\n",
       "    </tr>\n",
       "    <tr>\n",
       "      <th>min</th>\n",
       "      <td>1.000000</td>\n",
       "      <td>1752.000000</td>\n",
       "      <td>0.840000</td>\n",
       "      <td>1.000000</td>\n",
       "      <td>0.000000</td>\n",
       "      <td>-6599.980000</td>\n",
       "    </tr>\n",
       "    <tr>\n",
       "      <th>25%</th>\n",
       "      <td>2233.500000</td>\n",
       "      <td>22153.000000</td>\n",
       "      <td>17.940000</td>\n",
       "      <td>2.000000</td>\n",
       "      <td>0.000000</td>\n",
       "      <td>1.875000</td>\n",
       "    </tr>\n",
       "    <tr>\n",
       "      <th>50%</th>\n",
       "      <td>4988.000000</td>\n",
       "      <td>53711.000000</td>\n",
       "      <td>52.680000</td>\n",
       "      <td>3.000000</td>\n",
       "      <td>0.200000</td>\n",
       "      <td>8.740000</td>\n",
       "    </tr>\n",
       "    <tr>\n",
       "      <th>75%</th>\n",
       "      <td>7416.500000</td>\n",
       "      <td>90004.000000</td>\n",
       "      <td>208.070000</td>\n",
       "      <td>5.000000</td>\n",
       "      <td>0.200000</td>\n",
       "      <td>28.860000</td>\n",
       "    </tr>\n",
       "    <tr>\n",
       "      <th>max</th>\n",
       "      <td>9987.000000</td>\n",
       "      <td>99207.000000</td>\n",
       "      <td>17499.950000</td>\n",
       "      <td>14.000000</td>\n",
       "      <td>0.800000</td>\n",
       "      <td>8399.980000</td>\n",
       "    </tr>\n",
       "  </tbody>\n",
       "</table>\n",
       "</div>"
      ],
      "text/plain": [
       "            Row ID   Postal Code         Sales     Quantity     Discount  \\\n",
       "count  2587.000000   2587.000000   2587.000000  2587.000000  2587.000000   \n",
       "mean   4939.622729  54504.607654    235.487383     3.802474     0.154743   \n",
       "std    2953.181324  32214.742692    668.217591     2.201917     0.203643   \n",
       "min       1.000000   1752.000000      0.840000     1.000000     0.000000   \n",
       "25%    2233.500000  22153.000000     17.940000     2.000000     0.000000   \n",
       "50%    4988.000000  53711.000000     52.680000     3.000000     0.200000   \n",
       "75%    7416.500000  90004.000000    208.070000     5.000000     0.200000   \n",
       "max    9987.000000  99207.000000  17499.950000    14.000000     0.800000   \n",
       "\n",
       "            Profit  \n",
       "count  2587.000000  \n",
       "mean     31.617793  \n",
       "std     280.780876  \n",
       "min   -6599.980000  \n",
       "25%       1.875000  \n",
       "50%       8.740000  \n",
       "75%      28.860000  \n",
       "max    8399.980000  "
      ]
     },
     "execution_count": 11,
     "metadata": {},
     "output_type": "execute_result"
    }
   ],
   "source": [
    "df=pd.read_csv('../data/Demo_sales_data.csv')\n",
    "# Summarizing numerical values\n",
    "df.describe()"
   ]
  },
  {
   "cell_type": "code",
   "execution_count": 40,
   "metadata": {},
   "outputs": [
    {
     "name": "stdout",
     "output_type": "stream",
     "text": [
      "Minimum: 0.84\n",
      "Maximum: 17499.95\n"
     ]
    }
   ],
   "source": [
    "print(f'Minimum: {min(df.Sales)}')\n",
    "print(f'Maximum: {max(df.Sales)}')"
   ]
  },
  {
   "cell_type": "code",
   "execution_count": 42,
   "metadata": {},
   "outputs": [
    {
     "name": "stdout",
     "output_type": "stream",
     "text": [
      "Mean: \t\t\t235.48738306919216\n",
      "Median: \t\t52.68\n",
      "Standard deviation: \t668.2175910817411\n",
      "Variance: \t\t446514.74903108506\n",
      "Total: \t\t\t609205.8600000001\n",
      "1st and 3rd Quartiles: \n",
      "0.25     17.94\n",
      "0.75    208.07\n",
      "Name: Sales, dtype: float64\n"
     ]
    }
   ],
   "source": [
    "print(f'Mean: \\t\\t\\t{df.Sales.mean()}')\n",
    "print(f'Median: \\t\\t{df.Sales.median()}')\n",
    "print(f'Standard deviation: \\t{df.Sales.std()}')\n",
    "print(f'Variance: \\t\\t{df.Sales.var()}')\n",
    "print(f'Total: \\t\\t\\t{df.Sales.sum()}')\n",
    "print(f'1st and 3rd Quartiles: \\n{df.Sales.quantile([.25,.75])}')"
   ]
  },
  {
   "cell_type": "code",
   "execution_count": 12,
   "metadata": {},
   "outputs": [
    {
     "data": {
      "text/plain": [
       "Segment\n",
       "Consumer       1328\n",
       "Corporate       793\n",
       "Home Office     466\n",
       "dtype: int64"
      ]
     },
     "execution_count": 12,
     "metadata": {},
     "output_type": "execute_result"
    }
   ],
   "source": [
    "# Summarizing categorical variables\n",
    "df.value_counts('Segment')"
   ]
  },
  {
   "cell_type": "code",
   "execution_count": 15,
   "metadata": {},
   "outputs": [
    {
     "data": {
      "text/plain": [
       "2587"
      ]
     },
     "execution_count": 15,
     "metadata": {},
     "output_type": "execute_result"
    }
   ],
   "source": [
    "# Number of rows\n",
    "len(df)"
   ]
  },
  {
   "cell_type": "code",
   "execution_count": 16,
   "metadata": {},
   "outputs": [
    {
     "data": {
      "text/plain": [
       "(2587, 21)"
      ]
     },
     "execution_count": 16,
     "metadata": {},
     "output_type": "execute_result"
    }
   ],
   "source": [
    "# Tuple of # of rows, # of columns in DataFrame.\n",
    "df.shape"
   ]
  },
  {
   "cell_type": "code",
   "execution_count": 17,
   "metadata": {},
   "outputs": [
    {
     "data": {
      "text/plain": [
       "3"
      ]
     },
     "execution_count": 17,
     "metadata": {},
     "output_type": "execute_result"
    }
   ],
   "source": [
    "# of distinct values in a column.\n",
    "df['Segment'].nunique()"
   ]
  }
 ],
 "metadata": {
  "kernelspec": {
   "display_name": "base",
   "language": "python",
   "name": "python3"
  },
  "language_info": {
   "codemirror_mode": {
    "name": "ipython",
    "version": 3
   },
   "file_extension": ".py",
   "mimetype": "text/x-python",
   "name": "python",
   "nbconvert_exporter": "python",
   "pygments_lexer": "ipython3",
   "version": "3.10.9"
  },
  "orig_nbformat": 4
 },
 "nbformat": 4,
 "nbformat_minor": 2
}
