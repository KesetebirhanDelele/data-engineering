{
 "cells": [
  {
   "cell_type": "code",
   "execution_count": null,
   "metadata": {},
   "outputs": [],
   "source": [
    "import pandas as pd"
   ]
  },
  {
   "cell_type": "code",
   "execution_count": null,
   "metadata": {},
   "outputs": [],
   "source": [
    "df1=pd.read_csv(\"C:/Users/keset/Downloads/datasets/2018_NYC_Property_Sales__10212019.csv\")\n",
    "df2=pd.read_csv(\"C:/Users/keset/Downloads/datasets/2019_NYC_Property_Sales__10212019.csv\")\n",
    "df3=pd.read_csv(\"C:/Users/keset/Downloads/datasets/2020_NYC_Property_Sales__10212019.csv\")\n",
    "df4=pd.read_csv(\"C:/Users/keset/Downloads/datasets/2021_NYC_Property_Sales__10172019.csv\")\n",
    "df5=pd.read_csv(\"C:/Users/keset/Downloads/datasets/2022_NYC_Property_Sales__10172019.csv\")"
   ]
  },
  {
   "cell_type": "code",
   "execution_count": null,
   "metadata": {},
   "outputs": [],
   "source": [
    "data={  'col1':df1.columns.values.tolist(),\n",
    "        'col2':df2.columns.values.tolist(),\n",
    "        'col3':df3.columns.values.tolist(),\n",
    "        'col4':df4.columns.values.tolist(),\n",
    "        'col5':df5.columns.values.tolist()}\n",
    "data1=pd.DataFrame(data)\n",
    "data1"
   ]
  },
  {
   "cell_type": "code",
   "execution_count": null,
   "metadata": {},
   "outputs": [],
   "source": [
    "# iterating across column names\n",
    "for columns in data1.columns:\n",
    "    print(columns)"
   ]
  },
  {
   "cell_type": "code",
   "execution_count": null,
   "metadata": {},
   "outputs": [],
   "source": [
    "# iterating across column series\n",
    "for items in data1.items():\n",
    "    print(items)"
   ]
  },
  {
   "cell_type": "code",
   "execution_count": null,
   "metadata": {},
   "outputs": [],
   "source": [
    "# iterating across dictionary items: keys and values per item = 2\n",
    "for items in data1.items():\n",
    "    print(len(items))"
   ]
  },
  {
   "cell_type": "code",
   "execution_count": null,
   "metadata": {},
   "outputs": [],
   "source": [
    "# iterating across dictionary item 2 = value by column\n",
    "for items in data1.items():\n",
    "    x=data1.columns.get_loc(items)\n",
    "    for i in range(len(items[1])):\n",
    "        print(items[0],items[1][i])"
   ]
  }
 ],
 "metadata": {
  "language_info": {
   "name": "python"
  },
  "orig_nbformat": 4
 },
 "nbformat": 4,
 "nbformat_minor": 2
}
