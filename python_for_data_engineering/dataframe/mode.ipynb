{
 "cells": [
  {
   "cell_type": "markdown",
   "metadata": {},
   "source": [
    "# Most Frequent Values"
   ]
  },
  {
   "cell_type": "code",
   "execution_count": 1,
   "metadata": {},
   "outputs": [],
   "source": [
    "import pandas as pd\n",
    "df=pd.read_csv('../data/employees.csv')"
   ]
  },
  {
   "cell_type": "code",
   "execution_count": 2,
   "metadata": {},
   "outputs": [
    {
     "data": {
      "text/html": [
       "<div>\n",
       "<style scoped>\n",
       "    .dataframe tbody tr th:only-of-type {\n",
       "        vertical-align: middle;\n",
       "    }\n",
       "\n",
       "    .dataframe tbody tr th {\n",
       "        vertical-align: top;\n",
       "    }\n",
       "\n",
       "    .dataframe thead th {\n",
       "        text-align: right;\n",
       "    }\n",
       "</style>\n",
       "<table border=\"1\" class=\"dataframe\">\n",
       "  <thead>\n",
       "    <tr style=\"text-align: right;\">\n",
       "      <th></th>\n",
       "      <th>First Name</th>\n",
       "      <th>Gender</th>\n",
       "      <th>Start Date</th>\n",
       "      <th>Last Login Time</th>\n",
       "      <th>Salary</th>\n",
       "      <th>Bonus %</th>\n",
       "      <th>Senior Management</th>\n",
       "      <th>Team</th>\n",
       "    </tr>\n",
       "  </thead>\n",
       "  <tbody>\n",
       "    <tr>\n",
       "      <th>0</th>\n",
       "      <td>Douglas</td>\n",
       "      <td>Male</td>\n",
       "      <td>8/6/1993</td>\n",
       "      <td>12:42 PM</td>\n",
       "      <td>97308</td>\n",
       "      <td>6.945</td>\n",
       "      <td>True</td>\n",
       "      <td>Marketing</td>\n",
       "    </tr>\n",
       "    <tr>\n",
       "      <th>1</th>\n",
       "      <td>Thomas</td>\n",
       "      <td>Male</td>\n",
       "      <td>3/31/1996</td>\n",
       "      <td>6:53 AM</td>\n",
       "      <td>61933</td>\n",
       "      <td>4.170</td>\n",
       "      <td>True</td>\n",
       "      <td>NaN</td>\n",
       "    </tr>\n",
       "    <tr>\n",
       "      <th>2</th>\n",
       "      <td>Maria</td>\n",
       "      <td>Female</td>\n",
       "      <td>4/23/1993</td>\n",
       "      <td>11:17 AM</td>\n",
       "      <td>130590</td>\n",
       "      <td>11.858</td>\n",
       "      <td>False</td>\n",
       "      <td>Finance</td>\n",
       "    </tr>\n",
       "    <tr>\n",
       "      <th>3</th>\n",
       "      <td>Jerry</td>\n",
       "      <td>Male</td>\n",
       "      <td>3/4/2005</td>\n",
       "      <td>1:00 PM</td>\n",
       "      <td>138705</td>\n",
       "      <td>9.340</td>\n",
       "      <td>True</td>\n",
       "      <td>Finance</td>\n",
       "    </tr>\n",
       "    <tr>\n",
       "      <th>4</th>\n",
       "      <td>Larry</td>\n",
       "      <td>Male</td>\n",
       "      <td>1/24/1998</td>\n",
       "      <td>4:47 PM</td>\n",
       "      <td>101004</td>\n",
       "      <td>1.389</td>\n",
       "      <td>True</td>\n",
       "      <td>Client Services</td>\n",
       "    </tr>\n",
       "  </tbody>\n",
       "</table>\n",
       "</div>"
      ],
      "text/plain": [
       "  First Name  Gender Start Date Last Login Time  Salary  Bonus %  \\\n",
       "0    Douglas    Male   8/6/1993        12:42 PM   97308    6.945   \n",
       "1     Thomas    Male  3/31/1996         6:53 AM   61933    4.170   \n",
       "2      Maria  Female  4/23/1993        11:17 AM  130590   11.858   \n",
       "3      Jerry    Male   3/4/2005         1:00 PM  138705    9.340   \n",
       "4      Larry    Male  1/24/1998         4:47 PM  101004    1.389   \n",
       "\n",
       "  Senior Management             Team  \n",
       "0              True        Marketing  \n",
       "1              True              NaN  \n",
       "2             False          Finance  \n",
       "3              True          Finance  \n",
       "4              True  Client Services  "
      ]
     },
     "execution_count": 2,
     "metadata": {},
     "output_type": "execute_result"
    }
   ],
   "source": [
    "df.head()"
   ]
  },
  {
   "cell_type": "markdown",
   "metadata": {},
   "source": [
    "## Most Frequent Values for each column\n",
    "> Note that when more than one value is present, it is randomly selected"
   ]
  },
  {
   "cell_type": "code",
   "execution_count": 4,
   "metadata": {},
   "outputs": [
    {
     "data": {
      "text/plain": [
       "First Name                   Marilyn\n",
       "Gender                        Female\n",
       "Start Date                 1/26/2005\n",
       "Last Login Time              1:35 PM\n",
       "Salary                       86676.0\n",
       "Bonus %                        8.999\n",
       "Senior Management               True\n",
       "Team                 Client Services\n",
       "Name: 0, dtype: object"
      ]
     },
     "execution_count": 4,
     "metadata": {},
     "output_type": "execute_result"
    }
   ],
   "source": [
    "df.mode().iloc[0]"
   ]
  },
  {
   "cell_type": "markdown",
   "metadata": {},
   "source": [
    "## Top 3 most frequent values for each columns"
   ]
  },
  {
   "cell_type": "code",
   "execution_count": 22,
   "metadata": {},
   "outputs": [
    {
     "data": {
      "text/html": [
       "<div>\n",
       "<style scoped>\n",
       "    .dataframe tbody tr th:only-of-type {\n",
       "        vertical-align: middle;\n",
       "    }\n",
       "\n",
       "    .dataframe tbody tr th {\n",
       "        vertical-align: top;\n",
       "    }\n",
       "\n",
       "    .dataframe thead th {\n",
       "        text-align: right;\n",
       "    }\n",
       "</style>\n",
       "<table border=\"1\" class=\"dataframe\">\n",
       "  <thead>\n",
       "    <tr style=\"text-align: right;\">\n",
       "      <th></th>\n",
       "      <th>First Name</th>\n",
       "      <th>Gender</th>\n",
       "      <th>Start Date</th>\n",
       "      <th>Last Login Time</th>\n",
       "      <th>Salary</th>\n",
       "      <th>Bonus %</th>\n",
       "      <th>Senior Management</th>\n",
       "      <th>Team</th>\n",
       "    </tr>\n",
       "  </thead>\n",
       "  <tbody>\n",
       "    <tr>\n",
       "      <th>0</th>\n",
       "      <td>Marilyn</td>\n",
       "      <td>Female</td>\n",
       "      <td>1/26/2005</td>\n",
       "      <td>1:35 PM</td>\n",
       "      <td>86676.0</td>\n",
       "      <td>8.999</td>\n",
       "      <td>True</td>\n",
       "      <td>Client Services</td>\n",
       "    </tr>\n",
       "    <tr>\n",
       "      <th>1</th>\n",
       "      <td>NaN</td>\n",
       "      <td>NaN</td>\n",
       "      <td>10/23/1995</td>\n",
       "      <td>NaN</td>\n",
       "      <td>91462.0</td>\n",
       "      <td>12.182</td>\n",
       "      <td>NaN</td>\n",
       "      <td>NaN</td>\n",
       "    </tr>\n",
       "    <tr>\n",
       "      <th>2</th>\n",
       "      <td>NaN</td>\n",
       "      <td>NaN</td>\n",
       "      <td>10/30/1994</td>\n",
       "      <td>NaN</td>\n",
       "      <td>121160.0</td>\n",
       "      <td>NaN</td>\n",
       "      <td>NaN</td>\n",
       "      <td>NaN</td>\n",
       "    </tr>\n",
       "  </tbody>\n",
       "</table>\n",
       "</div>"
      ],
      "text/plain": [
       "  First Name  Gender  Start Date Last Login Time    Salary  Bonus %  \\\n",
       "0    Marilyn  Female   1/26/2005         1:35 PM   86676.0    8.999   \n",
       "1        NaN     NaN  10/23/1995             NaN   91462.0   12.182   \n",
       "2        NaN     NaN  10/30/1994             NaN  121160.0      NaN   \n",
       "\n",
       "  Senior Management             Team  \n",
       "0              True  Client Services  \n",
       "1               NaN              NaN  \n",
       "2               NaN              NaN  "
      ]
     },
     "execution_count": 22,
     "metadata": {},
     "output_type": "execute_result"
    }
   ],
   "source": [
    "df.mode().iloc[:3]"
   ]
  },
  {
   "cell_type": "markdown",
   "metadata": {},
   "source": [
    "### Verify frequent values with value_counts() for each column"
   ]
  },
  {
   "cell_type": "code",
   "execution_count": 6,
   "metadata": {},
   "outputs": [
    {
     "data": {
      "text/plain": [
       "Marilyn    11\n",
       "Barbara    10\n",
       "Jeremy     10\n",
       "Todd       10\n",
       "Steven      9\n",
       "Name: First Name, dtype: int64"
      ]
     },
     "execution_count": 6,
     "metadata": {},
     "output_type": "execute_result"
    }
   ],
   "source": [
    "df['First Name'].value_counts().head()"
   ]
  },
  {
   "cell_type": "code",
   "execution_count": 7,
   "metadata": {},
   "outputs": [
    {
     "data": {
      "text/plain": [
       "Female    431\n",
       "Male      424\n",
       "Name: Gender, dtype: int64"
      ]
     },
     "execution_count": 7,
     "metadata": {},
     "output_type": "execute_result"
    }
   ],
   "source": [
    "df['Gender'].value_counts().head()"
   ]
  },
  {
   "cell_type": "code",
   "execution_count": 10,
   "metadata": {},
   "outputs": [
    {
     "data": {
      "text/plain": [
       "121160    2\n",
       "145988    2\n",
       "86676     2\n",
       "147183    2\n",
       "91462     2\n",
       "Name: Salary, dtype: int64"
      ]
     },
     "execution_count": 10,
     "metadata": {},
     "output_type": "execute_result"
    }
   ],
   "source": [
    "df['Salary'].value_counts().head()"
   ]
  },
  {
   "cell_type": "code",
   "execution_count": 11,
   "metadata": {},
   "outputs": [
    {
     "data": {
      "text/plain": [
       "8.999     3\n",
       "12.182    3\n",
       "1.451     2\n",
       "1.113     2\n",
       "9.494     2\n",
       "Name: Bonus %, dtype: int64"
      ]
     },
     "execution_count": 11,
     "metadata": {},
     "output_type": "execute_result"
    }
   ],
   "source": [
    "df['Bonus %'].value_counts().head()"
   ]
  },
  {
   "cell_type": "code",
   "execution_count": 12,
   "metadata": {},
   "outputs": [
    {
     "data": {
      "text/plain": [
       "True     468\n",
       "False    465\n",
       "Name: Senior Management, dtype: int64"
      ]
     },
     "execution_count": 12,
     "metadata": {},
     "output_type": "execute_result"
    }
   ],
   "source": [
    "df['Senior Management'].value_counts().head()"
   ]
  },
  {
   "cell_type": "code",
   "execution_count": 13,
   "metadata": {},
   "outputs": [
    {
     "data": {
      "text/plain": [
       "Client Services         106\n",
       "Finance                 102\n",
       "Business Development    101\n",
       "Marketing                98\n",
       "Product                  95\n",
       "Name: Team, dtype: int64"
      ]
     },
     "execution_count": 13,
     "metadata": {},
     "output_type": "execute_result"
    }
   ],
   "source": [
    "df['Team'].value_counts().head()"
   ]
  },
  {
   "cell_type": "code",
   "execution_count": 14,
   "metadata": {},
   "outputs": [
    {
     "data": {
      "text/html": [
       "<div>\n",
       "<style scoped>\n",
       "    .dataframe tbody tr th:only-of-type {\n",
       "        vertical-align: middle;\n",
       "    }\n",
       "\n",
       "    .dataframe tbody tr th {\n",
       "        vertical-align: top;\n",
       "    }\n",
       "\n",
       "    .dataframe thead th {\n",
       "        text-align: right;\n",
       "    }\n",
       "</style>\n",
       "<table border=\"1\" class=\"dataframe\">\n",
       "  <thead>\n",
       "    <tr style=\"text-align: right;\">\n",
       "      <th></th>\n",
       "      <th>First Name</th>\n",
       "      <th>Gender</th>\n",
       "      <th>Start Date</th>\n",
       "      <th>Last Login Time</th>\n",
       "      <th>Salary</th>\n",
       "      <th>Bonus %</th>\n",
       "      <th>Senior Management</th>\n",
       "      <th>Team</th>\n",
       "    </tr>\n",
       "  </thead>\n",
       "  <tbody>\n",
       "    <tr>\n",
       "      <th>43</th>\n",
       "      <td>Marilyn</td>\n",
       "      <td>Female</td>\n",
       "      <td>12/7/1980</td>\n",
       "      <td>3:16 AM</td>\n",
       "      <td>73524</td>\n",
       "      <td>5.207</td>\n",
       "      <td>True</td>\n",
       "      <td>Marketing</td>\n",
       "    </tr>\n",
       "    <tr>\n",
       "      <th>124</th>\n",
       "      <td>Marilyn</td>\n",
       "      <td>Female</td>\n",
       "      <td>11/16/1983</td>\n",
       "      <td>8:29 AM</td>\n",
       "      <td>76078</td>\n",
       "      <td>2.401</td>\n",
       "      <td>True</td>\n",
       "      <td>Product</td>\n",
       "    </tr>\n",
       "    <tr>\n",
       "      <th>161</th>\n",
       "      <td>Marilyn</td>\n",
       "      <td>NaN</td>\n",
       "      <td>8/22/1999</td>\n",
       "      <td>9:09 AM</td>\n",
       "      <td>103386</td>\n",
       "      <td>11.451</td>\n",
       "      <td>False</td>\n",
       "      <td>Distribution</td>\n",
       "    </tr>\n",
       "    <tr>\n",
       "      <th>232</th>\n",
       "      <td>Marilyn</td>\n",
       "      <td>Female</td>\n",
       "      <td>4/4/1997</td>\n",
       "      <td>9:28 PM</td>\n",
       "      <td>147663</td>\n",
       "      <td>10.263</td>\n",
       "      <td>False</td>\n",
       "      <td>Human Resources</td>\n",
       "    </tr>\n",
       "    <tr>\n",
       "      <th>307</th>\n",
       "      <td>Marilyn</td>\n",
       "      <td>Female</td>\n",
       "      <td>9/26/1981</td>\n",
       "      <td>2:23 AM</td>\n",
       "      <td>86386</td>\n",
       "      <td>2.937</td>\n",
       "      <td>False</td>\n",
       "      <td>Distribution</td>\n",
       "    </tr>\n",
       "    <tr>\n",
       "      <th>368</th>\n",
       "      <td>Marilyn</td>\n",
       "      <td>Female</td>\n",
       "      <td>12/17/1982</td>\n",
       "      <td>12:10 PM</td>\n",
       "      <td>147183</td>\n",
       "      <td>8.748</td>\n",
       "      <td>False</td>\n",
       "      <td>Business Development</td>\n",
       "    </tr>\n",
       "    <tr>\n",
       "      <th>391</th>\n",
       "      <td>Marilyn</td>\n",
       "      <td>Female</td>\n",
       "      <td>8/15/1989</td>\n",
       "      <td>9:14 AM</td>\n",
       "      <td>140502</td>\n",
       "      <td>9.989</td>\n",
       "      <td>True</td>\n",
       "      <td>Sales</td>\n",
       "    </tr>\n",
       "    <tr>\n",
       "      <th>565</th>\n",
       "      <td>Marilyn</td>\n",
       "      <td>Female</td>\n",
       "      <td>8/9/2006</td>\n",
       "      <td>11:24 AM</td>\n",
       "      <td>87145</td>\n",
       "      <td>17.330</td>\n",
       "      <td>False</td>\n",
       "      <td>Human Resources</td>\n",
       "    </tr>\n",
       "    <tr>\n",
       "      <th>636</th>\n",
       "      <td>Marilyn</td>\n",
       "      <td>Female</td>\n",
       "      <td>7/2/1984</td>\n",
       "      <td>4:06 PM</td>\n",
       "      <td>92430</td>\n",
       "      <td>2.924</td>\n",
       "      <td>False</td>\n",
       "      <td>Engineering</td>\n",
       "    </tr>\n",
       "    <tr>\n",
       "      <th>888</th>\n",
       "      <td>Marilyn</td>\n",
       "      <td>Female</td>\n",
       "      <td>10/8/2007</td>\n",
       "      <td>12:32 AM</td>\n",
       "      <td>115149</td>\n",
       "      <td>11.934</td>\n",
       "      <td>True</td>\n",
       "      <td>Legal</td>\n",
       "    </tr>\n",
       "    <tr>\n",
       "      <th>916</th>\n",
       "      <td>Marilyn</td>\n",
       "      <td>Female</td>\n",
       "      <td>1/16/1996</td>\n",
       "      <td>7:18 AM</td>\n",
       "      <td>118369</td>\n",
       "      <td>7.696</td>\n",
       "      <td>True</td>\n",
       "      <td>Business Development</td>\n",
       "    </tr>\n",
       "  </tbody>\n",
       "</table>\n",
       "</div>"
      ],
      "text/plain": [
       "    First Name  Gender  Start Date Last Login Time  Salary  Bonus %  \\\n",
       "43     Marilyn  Female   12/7/1980         3:16 AM   73524    5.207   \n",
       "124    Marilyn  Female  11/16/1983         8:29 AM   76078    2.401   \n",
       "161    Marilyn     NaN   8/22/1999         9:09 AM  103386   11.451   \n",
       "232    Marilyn  Female    4/4/1997         9:28 PM  147663   10.263   \n",
       "307    Marilyn  Female   9/26/1981         2:23 AM   86386    2.937   \n",
       "368    Marilyn  Female  12/17/1982        12:10 PM  147183    8.748   \n",
       "391    Marilyn  Female   8/15/1989         9:14 AM  140502    9.989   \n",
       "565    Marilyn  Female    8/9/2006        11:24 AM   87145   17.330   \n",
       "636    Marilyn  Female    7/2/1984         4:06 PM   92430    2.924   \n",
       "888    Marilyn  Female   10/8/2007        12:32 AM  115149   11.934   \n",
       "916    Marilyn  Female   1/16/1996         7:18 AM  118369    7.696   \n",
       "\n",
       "    Senior Management                  Team  \n",
       "43               True             Marketing  \n",
       "124              True               Product  \n",
       "161             False          Distribution  \n",
       "232             False       Human Resources  \n",
       "307             False          Distribution  \n",
       "368             False  Business Development  \n",
       "391              True                 Sales  \n",
       "565             False       Human Resources  \n",
       "636             False           Engineering  \n",
       "888              True                 Legal  \n",
       "916              True  Business Development  "
      ]
     },
     "execution_count": 14,
     "metadata": {},
     "output_type": "execute_result"
    }
   ],
   "source": [
    "df[df['First Name']=='Marilyn']"
   ]
  }
 ],
 "metadata": {
  "kernelspec": {
   "display_name": "base",
   "language": "python",
   "name": "python3"
  },
  "language_info": {
   "codemirror_mode": {
    "name": "ipython",
    "version": 3
   },
   "file_extension": ".py",
   "mimetype": "text/x-python",
   "name": "python",
   "nbconvert_exporter": "python",
   "pygments_lexer": "ipython3",
   "version": "3.10.9"
  },
  "orig_nbformat": 4
 },
 "nbformat": 4,
 "nbformat_minor": 2
}
