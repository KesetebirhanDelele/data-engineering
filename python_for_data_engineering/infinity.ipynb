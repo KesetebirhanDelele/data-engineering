{
 "cells": [
  {
   "cell_type": "markdown",
   "metadata": {},
   "source": [
    "In Python, you can represent infinity using the `float('inf')` or `-float('inf')` notation. Here's how you can use it:\n",
    "\n",
    "1. Positive Infinity:\n",
    "   \n",
    "   ```python\n",
    "   positive_infinity = float('inf')\n",
    "   ```\n",
    "\n",
    "   This represents positive infinity, which is a value greater than any finite number.\n",
    "\n",
    "2. Negative Infinity:\n",
    "   \n",
    "   ```python\n",
    "   negative_infinity = -float('inf')\n",
    "   ```\n",
    "\n",
    "   This represents negative infinity, which is a value smaller than any finite number.\n",
    "\n",
    "You can perform various arithmetic operations with infinity in Python, and it follows the rules of infinity in mathematics. For example:\n",
    "\n",
    "```python\n",
    "# Positive infinity\n",
    "positive_infinity = float('inf')\n",
    "\n",
    "# Negative infinity\n",
    "negative_infinity = -float('inf')\n",
    "\n",
    "# Example operations\n",
    "print(positive_infinity + 1)  # Prints \"inf\"\n",
    "print(positive_infinity * 2)  # Prints \"inf\"\n",
    "print(positive_infinity / 3)  # Prints \"inf\"\n",
    "\n",
    "print(negative_infinity - 1)  # Prints \"-inf\"\n",
    "print(negative_infinity * 2)  # Prints \"-inf\"\n",
    "print(negative_infinity / 3)  # Prints \"-inf\"\n",
    "```\n",
    "\n",
    "Keep in mind that arithmetic operations with infinity can lead to special results, such as positive infinity minus infinity, which is considered undefined (NaN)."
   ]
  }
 ],
 "metadata": {
  "language_info": {
   "name": "python"
  }
 },
 "nbformat": 4,
 "nbformat_minor": 2
}
