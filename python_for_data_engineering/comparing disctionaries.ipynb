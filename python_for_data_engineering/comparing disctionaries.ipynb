{
 "cells": [
  {
   "cell_type": "markdown",
   "metadata": {},
   "source": [
    "# Comparing Dictionaries:\n",
    "\n",
    "Resources: \n",
    "\n",
    "1. https://miguendes.me/the-best-way-to-compare-two-dictionaries-in-python\n",
    "2. https://www.geeksforgeeks.org/how-to-compare-two-dictionaries-in-python/"
   ]
  },
  {
   "cell_type": "code",
   "execution_count": 4,
   "metadata": {},
   "outputs": [
    {
     "name": "stdout",
     "output_type": "stream",
     "text": [
      "True\n"
     ]
    }
   ],
   "source": [
    "d1={'a':1,'b':2}\n",
    "d2={'a':1,'b':2}\n",
    "if d1==d2:\n",
    "    print(True)\n",
    "else:\n",
    "    print(False)"
   ]
  },
  {
   "cell_type": "code",
   "execution_count": 5,
   "metadata": {},
   "outputs": [
    {
     "name": "stdout",
     "output_type": "stream",
     "text": [
      "True\n"
     ]
    }
   ],
   "source": [
    "d1={'a':1,'b':2}\n",
    "d2={'b':2,'a':1}\n",
    "if d1==d2:\n",
    "    print(True)\n",
    "else:\n",
    "    print(False)"
   ]
  },
  {
   "cell_type": "code",
   "execution_count": 6,
   "metadata": {},
   "outputs": [
    {
     "name": "stdout",
     "output_type": "stream",
     "text": [
      "False\n"
     ]
    }
   ],
   "source": [
    "d1={'a':1,'b':2}\n",
    "d2={'b':1,'a':2}\n",
    "if d1==d2:\n",
    "    print(True)\n",
    "else:\n",
    "    print(False)"
   ]
  },
  {
   "cell_type": "markdown",
   "metadata": {},
   "source": [
    "# Getting a Simple Difference"
   ]
  },
  {
   "cell_type": "code",
   "execution_count": 3,
   "metadata": {},
   "outputs": [],
   "source": [
    "from gettext import install\n",
    "\n",
    "import pip"
   ]
  },
  {
   "cell_type": "code",
   "execution_count": null,
   "metadata": {},
   "outputs": [],
   "source": [
    "pip install deepdiff\n",
    "\n",
    "from deepdiff import DeepDiff\n",
    "\n",
    "a = {\n",
    "     'number': 1,\n",
    "     'list': ['one', 'two']\n",
    " }\n",
    "\n",
    "b = {\n",
    "     'list': ['one', 'two'],\n",
    "     'number': 2\n",
    " }\n",
    "\n",
    "diff = DeepDiff(a, b)\n",
    "\n",
    "diff\n",
    "# {'values_changed': {\"root['number']\": {'new_value': 2, 'old_value': 1}}}"
   ]
  }
 ],
 "metadata": {
  "kernelspec": {
   "display_name": "base",
   "language": "python",
   "name": "python3"
  },
  "language_info": {
   "codemirror_mode": {
    "name": "ipython",
    "version": 3
   },
   "file_extension": ".py",
   "mimetype": "text/x-python",
   "name": "python",
   "nbconvert_exporter": "python",
   "pygments_lexer": "ipython3",
   "version": "3.11.5"
  },
  "orig_nbformat": 4
 },
 "nbformat": 4,
 "nbformat_minor": 2
}
