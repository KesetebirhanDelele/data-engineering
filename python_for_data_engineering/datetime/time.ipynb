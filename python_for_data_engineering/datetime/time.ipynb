{
 "cells": [
  {
   "cell_type": "code",
   "execution_count": 3,
   "metadata": {},
   "outputs": [],
   "source": [
    "from datetime import datetime\n",
    "from datetime import timedelta\n",
    "import time"
   ]
  },
  {
   "cell_type": "code",
   "execution_count": 4,
   "metadata": {},
   "outputs": [
    {
     "name": "stdout",
     "output_type": "stream",
     "text": [
      "2023-04-03 12:34:51.860821\n"
     ]
    }
   ],
   "source": [
    "# Generate datetime now\n",
    "datetime_now = datetime.now()\n",
    "print(datetime_now)"
   ]
  },
  {
   "cell_type": "code",
   "execution_count": 5,
   "metadata": {},
   "outputs": [
    {
     "name": "stdout",
     "output_type": "stream",
     "text": [
      "2023-04-03 11:34:51.860821\n"
     ]
    }
   ],
   "source": [
    "# Modify datetime now minus one hour\n",
    "datetime_now_minus_one_hour = datetime_now - timedelta(hours=1)\n",
    "print(datetime_now_minus_one_hour)"
   ]
  },
  {
   "cell_type": "code",
   "execution_count": 6,
   "metadata": {},
   "outputs": [
    {
     "name": "stdout",
     "output_type": "stream",
     "text": [
      "03/04/2023 11:34:51\n"
     ]
    }
   ],
   "source": [
    "# delete the decimals from the timestamp\n",
    "datetime_minus_one_reformatted = datetime_now_minus_one_hour.strftime(\"%d/%m/%Y %H:%M:%S\")\n",
    "print(datetime_minus_one_reformatted)"
   ]
  },
  {
   "cell_type": "code",
   "execution_count": 11,
   "metadata": {},
   "outputs": [
    {
     "name": "stdout",
     "output_type": "stream",
     "text": [
      "April 03, 2023\n"
     ]
    }
   ],
   "source": [
    "# Format date into text_month, Day year format\n",
    "datetime_minus_one_reformatted2 = datetime_now_minus_one_hour.strftime(\"%B %d, %Y\")\n",
    "print(datetime_minus_one_reformatted2)"
   ]
  },
  {
   "cell_type": "code",
   "execution_count": 12,
   "metadata": {},
   "outputs": [
    {
     "name": "stdout",
     "output_type": "stream",
     "text": [
      "1680539691.860821\n",
      "2023-04-03 12:34:51\n"
     ]
    }
   ],
   "source": [
    "\n",
    "# > '06/12/2021 21:37:47'\n",
    "\n",
    "# Convert datetime to epoch using timestamp()\n",
    "epoch = datetime_now.timestamp()\n",
    "print(epoch)\n",
    "# > 1638826667.048226\n",
    "\n",
    "# turn epoch into custom datetime and format\n",
    "ts_from_epoch = time.strftime('%Y-%m-%d %H:%M:%S', time.localtime(epoch))\n",
    "print(ts_from_epoch)\n",
    "# > '2021-12-06 22:37:47'"
   ]
  },
  {
   "attachments": {},
   "cell_type": "markdown",
   "metadata": {},
   "source": [
    "Creating Date Objects\n",
    "To create a date, we can use the datetime() class (constructor) of the datetime module.\n",
    "\n",
    "The datetime() class requires three parameters to create a date: year, month, day."
   ]
  },
  {
   "cell_type": "code",
   "execution_count": 13,
   "metadata": {},
   "outputs": [
    {
     "name": "stdout",
     "output_type": "stream",
     "text": [
      "2020-05-17 00:00:00\n"
     ]
    }
   ],
   "source": [
    "import datetime\n",
    "\n",
    "x = datetime.datetime(2020, 5, 17)\n",
    "\n",
    "print(x)"
   ]
  },
  {
   "attachments": {},
   "cell_type": "markdown",
   "metadata": {},
   "source": [
    "Here are more datetime formats for Python\n",
    "\n",
    "![Alt text](Datetime%20formats%20in%20Python.png)"
   ]
  }
 ],
 "metadata": {
  "kernelspec": {
   "display_name": "base",
   "language": "python",
   "name": "python3"
  },
  "language_info": {
   "codemirror_mode": {
    "name": "ipython",
    "version": 3
   },
   "file_extension": ".py",
   "mimetype": "text/x-python",
   "name": "python",
   "nbconvert_exporter": "python",
   "pygments_lexer": "ipython3",
   "version": "3.9.12"
  },
  "orig_nbformat": 4
 },
 "nbformat": 4,
 "nbformat_minor": 2
}
