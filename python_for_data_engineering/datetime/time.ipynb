{
 "cells": [
  {
   "cell_type": "code",
   "execution_count": 5,
   "metadata": {},
   "outputs": [],
   "source": [
    "from datetime import datetime\n",
    "from datetime import timedelta\n",
    "import time"
   ]
  },
  {
   "cell_type": "code",
   "execution_count": 6,
   "metadata": {},
   "outputs": [
    {
     "name": "stdout",
     "output_type": "stream",
     "text": [
      "2023-04-03 13:14:54.744450\n"
     ]
    }
   ],
   "source": [
    "# Generate datetime now\n",
    "datetime_now = datetime.now()\n",
    "print(datetime_now)"
   ]
  },
  {
   "cell_type": "code",
   "execution_count": 7,
   "metadata": {},
   "outputs": [
    {
     "name": "stdout",
     "output_type": "stream",
     "text": [
      "2023-04-03 12:14:54.744450\n"
     ]
    }
   ],
   "source": [
    "# Modify datetime now minus one hour\n",
    "datetime_now_minus_one_hour = datetime_now - timedelta(hours=1)\n",
    "print(datetime_now_minus_one_hour)"
   ]
  },
  {
   "cell_type": "code",
   "execution_count": 8,
   "metadata": {},
   "outputs": [
    {
     "name": "stdout",
     "output_type": "stream",
     "text": [
      "03/04/2023 12:14:54\n"
     ]
    }
   ],
   "source": [
    "# delete the decimals from the timestamp\n",
    "datetime_minus_one_reformatted = datetime_now_minus_one_hour.strftime(\"%d/%m/%Y %H:%M:%S\")\n",
    "print(datetime_minus_one_reformatted)"
   ]
  },
  {
   "cell_type": "code",
   "execution_count": 9,
   "metadata": {},
   "outputs": [
    {
     "name": "stdout",
     "output_type": "stream",
     "text": [
      "April 03, 2023\n"
     ]
    }
   ],
   "source": [
    "# Format date into text_month, Day year format\n",
    "datetime_minus_one_reformatted2 = datetime_now_minus_one_hour.strftime(\"%B %d, %Y\")\n",
    "print(datetime_minus_one_reformatted2)"
   ]
  },
  {
   "cell_type": "code",
   "execution_count": 10,
   "metadata": {},
   "outputs": [
    {
     "name": "stdout",
     "output_type": "stream",
     "text": [
      "1680542094.74445\n",
      "2023-04-03 13:14:54\n"
     ]
    }
   ],
   "source": [
    "# What is epoch?\n",
    "# In a computing context, an epoch is the date and time relative to which \n",
    "# a computer's clock and timestamp values are determined. \n",
    "# The epoch traditionally corresponds to 0 hours, 0 minutes, and 0 seconds (00:00:00) \n",
    "# Coordinated Universal Time (UTC) on a specific date, which varies from system to system. \n",
    "# Most versions of Unix, for example, use January 1, 1970 as the epoch date; \n",
    "# Windows uses January 1, 1601; \n",
    "# Macintosh systems use January 1, 1904, and \n",
    "# Digital Equipment Corporation's Virtual Memory System (VMS) uses November 17, 1858\n",
    "\n",
    "# Convert datetime to epoch using timestamp()\n",
    "epoch = datetime_now.timestamp()\n",
    "print(epoch)\n",
    "# > 1638826667.048226\n",
    "\n",
    "# turn epoch into custom datetime and format\n",
    "ts_from_epoch = time.strftime('%Y-%m-%d %H:%M:%S', time.localtime(epoch))\n",
    "print(ts_from_epoch)\n",
    "# > '2021-12-06 22:37:47'"
   ]
  },
  {
   "attachments": {},
   "cell_type": "markdown",
   "metadata": {},
   "source": [
    "Creating Date Objects\n",
    "To create a date, we can use the datetime() class (constructor) of the datetime module.\n",
    "\n",
    "The datetime() class requires three parameters to create a date: year, month, day."
   ]
  },
  {
   "cell_type": "code",
   "execution_count": 11,
   "metadata": {},
   "outputs": [
    {
     "name": "stdout",
     "output_type": "stream",
     "text": [
      "2020-05-17 00:00:00\n"
     ]
    }
   ],
   "source": [
    "import datetime\n",
    "\n",
    "x = datetime.datetime(2020, 5, 17)\n",
    "\n",
    "print(x)"
   ]
  },
  {
   "attachments": {},
   "cell_type": "markdown",
   "metadata": {},
   "source": [
    "Here are more datetime formats for Python\n",
    "\n",
    "![Alt text](Datetime%20formats%20in%20Python.png)"
   ]
  }
 ],
 "metadata": {
  "kernelspec": {
   "display_name": "base",
   "language": "python",
   "name": "python3"
  },
  "language_info": {
   "codemirror_mode": {
    "name": "ipython",
    "version": 3
   },
   "file_extension": ".py",
   "mimetype": "text/x-python",
   "name": "python",
   "nbconvert_exporter": "python",
   "pygments_lexer": "ipython3",
   "version": "3.9.12"
  },
  "orig_nbformat": 4
 },
 "nbformat": 4,
 "nbformat_minor": 2
}
