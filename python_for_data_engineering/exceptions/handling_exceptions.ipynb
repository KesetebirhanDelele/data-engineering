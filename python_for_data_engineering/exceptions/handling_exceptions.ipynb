{
 "cells": [
  {
   "cell_type": "code",
   "execution_count": 1,
   "metadata": {},
   "outputs": [],
   "source": [
    "import pandas as pd"
   ]
  },
  {
   "cell_type": "code",
   "execution_count": 5,
   "metadata": {},
   "outputs": [],
   "source": [
    "try:\n",
    "    data=pd.read_csv('C:/Users/Kesetebirhan/Downloads/data_table_for_weekly_case_trends__the_united_states.csv')\n",
    "except:\n",
    "    print(\"Enter correct link path\")"
   ]
  },
  {
   "cell_type": "code",
   "execution_count": 6,
   "metadata": {},
   "outputs": [
    {
     "name": "stdout",
     "output_type": "stream",
     "text": [
      "Enter correct link path\n"
     ]
    }
   ],
   "source": [
    "try:\n",
    "    data=pd.read_csv('C:/Users/Kesetebirhan/Downloads/data_table_for_weekly_case_trends__the_united_emirates.csv')\n",
    "except:\n",
    "    print(\"Enter correct link path\")"
   ]
  }
 ],
 "metadata": {
  "kernelspec": {
   "display_name": "base",
   "language": "python",
   "name": "python3"
  },
  "language_info": {
   "codemirror_mode": {
    "name": "ipython",
    "version": 3
   },
   "file_extension": ".py",
   "mimetype": "text/x-python",
   "name": "python",
   "nbconvert_exporter": "python",
   "pygments_lexer": "ipython3",
   "version": "3.9.12"
  },
  "orig_nbformat": 4
 },
 "nbformat": 4,
 "nbformat_minor": 2
}
