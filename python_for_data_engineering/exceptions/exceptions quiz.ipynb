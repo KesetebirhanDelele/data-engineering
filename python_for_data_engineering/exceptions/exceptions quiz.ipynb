{
 "cells": [
  {
   "cell_type": "code",
   "execution_count": 1,
   "metadata": {},
   "outputs": [
    {
     "name": "stdout",
     "output_type": "stream",
     "text": [
      "Language: Python\n"
     ]
    }
   ],
   "source": [
    "x='5'\n",
    "try:\n",
    "    total=5-x\n",
    "    print('pass')\n",
    "except:\n",
    "    print('Language: ',end='')\n",
    "else:\n",
    "    print('Java')\n",
    "finally:\n",
    "    print('Python')"
   ]
  }
 ],
 "metadata": {
  "kernelspec": {
   "display_name": "base",
   "language": "python",
   "name": "python3"
  },
  "language_info": {
   "codemirror_mode": {
    "name": "ipython",
    "version": 3
   },
   "file_extension": ".py",
   "mimetype": "text/x-python",
   "name": "python",
   "nbconvert_exporter": "python",
   "pygments_lexer": "ipython3",
   "version": "3.9.12"
  },
  "orig_nbformat": 4
 },
 "nbformat": 4,
 "nbformat_minor": 2
}
