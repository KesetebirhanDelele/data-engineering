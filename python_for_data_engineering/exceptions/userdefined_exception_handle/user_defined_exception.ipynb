{
 "cells": [
  {
   "cell_type": "code",
   "execution_count": 1,
   "metadata": {},
   "outputs": [],
   "source": [
    "import pandas as pd"
   ]
  },
  {
   "cell_type": "code",
   "execution_count": 7,
   "metadata": {},
   "outputs": [],
   "source": [
    "from userdefinedexception_module import Filewithmanyrows"
   ]
  },
  {
   "cell_type": "code",
   "execution_count": 9,
   "metadata": {},
   "outputs": [
    {
     "name": "stdout",
     "output_type": "stream",
     "text": [
      "Enter correct link path\n"
     ]
    }
   ],
   "source": [
    "try:\n",
    "    data=pd.read_csv('C:/Users/Kesetebirhan/Downloads/data_table_for_weekly_case_trends__the_united_states.csv',  encoding='unicode_escape', nrows=110)\n",
    "    \n",
    "    numberofrows=len(data)\n",
    "    \n",
    "    if numberofrows>100:\n",
    "        raise Filewithmanyrows(numberofrows)\n",
    "    \n",
    "except:\n",
    "    print(\"Enter correct link path\")"
   ]
  },
  {
   "cell_type": "code",
   "execution_count": 6,
   "metadata": {},
   "outputs": [
    {
     "data": {
      "text/plain": [
       "110"
      ]
     },
     "execution_count": 6,
     "metadata": {},
     "output_type": "execute_result"
    }
   ],
   "source": [
    "numberofrows"
   ]
  }
 ],
 "metadata": {
  "kernelspec": {
   "display_name": "base",
   "language": "python",
   "name": "python3"
  },
  "language_info": {
   "codemirror_mode": {
    "name": "ipython",
    "version": 3
   },
   "file_extension": ".py",
   "mimetype": "text/x-python",
   "name": "python",
   "nbconvert_exporter": "python",
   "pygments_lexer": "ipython3",
   "version": "3.9.12"
  },
  "orig_nbformat": 4
 },
 "nbformat": 4,
 "nbformat_minor": 2
}
