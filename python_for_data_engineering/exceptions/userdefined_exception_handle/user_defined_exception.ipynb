{
 "cells": [
  {
   "cell_type": "code",
   "execution_count": 4,
   "metadata": {},
   "outputs": [],
   "source": [
    "import pandas as pd"
   ]
  },
  {
   "cell_type": "code",
   "execution_count": 29,
   "metadata": {},
   "outputs": [
    {
     "ename": "FileHasToManyRows",
     "evalue": "Csv file has too many rows, max rows is 100 and the file has 110",
     "output_type": "error",
     "traceback": [
      "\u001b[1;31m---------------------------------------------------------------------------\u001b[0m",
      "\u001b[1;31mFileHasToManyRows\u001b[0m                         Traceback (most recent call last)",
      "\u001b[1;32mc:\\Users\\Kesetebirhan\\Desktop\\Project Folder\\data-engineering\\python_for_data_engineering\\exceptions\\userdefined_exception_handle\\user_defined_exception.ipynb Cell 2\u001b[0m in \u001b[0;36m<cell line: 15>\u001b[1;34m()\u001b[0m\n\u001b[0;32m     <a href='vscode-notebook-cell:/c%3A/Users/Kesetebirhan/Desktop/Project%20Folder/data-engineering/python_for_data_engineering/exceptions/userdefined_exception_handle/user_defined_exception.ipynb#X10sZmlsZQ%3D%3D?line=17'>18</a>\u001b[0m     number_of_rows \u001b[39m=\u001b[39m \u001b[39mlen\u001b[39m(df)\n\u001b[0;32m     <a href='vscode-notebook-cell:/c%3A/Users/Kesetebirhan/Desktop/Project%20Folder/data-engineering/python_for_data_engineering/exceptions/userdefined_exception_handle/user_defined_exception.ipynb#X10sZmlsZQ%3D%3D?line=19'>20</a>\u001b[0m     \u001b[39mif\u001b[39;00m number_of_rows \u001b[39m>\u001b[39m \u001b[39m100\u001b[39m:\n\u001b[1;32m---> <a href='vscode-notebook-cell:/c%3A/Users/Kesetebirhan/Desktop/Project%20Folder/data-engineering/python_for_data_engineering/exceptions/userdefined_exception_handle/user_defined_exception.ipynb#X10sZmlsZQ%3D%3D?line=20'>21</a>\u001b[0m         \u001b[39mraise\u001b[39;00m FileHasToManyRows(number_of_rows)\n\u001b[0;32m     <a href='vscode-notebook-cell:/c%3A/Users/Kesetebirhan/Desktop/Project%20Folder/data-engineering/python_for_data_engineering/exceptions/userdefined_exception_handle/user_defined_exception.ipynb#X10sZmlsZQ%3D%3D?line=22'>23</a>\u001b[0m \u001b[39mexcept\u001b[39;00m \u001b[39mFileNotFoundError\u001b[39;00m \u001b[39mas\u001b[39;00m error:\n\u001b[0;32m     <a href='vscode-notebook-cell:/c%3A/Users/Kesetebirhan/Desktop/Project%20Folder/data-engineering/python_for_data_engineering/exceptions/userdefined_exception_handle/user_defined_exception.ipynb#X10sZmlsZQ%3D%3D?line=23'>24</a>\u001b[0m     \u001b[39mprint\u001b[39m(\n\u001b[0;32m     <a href='vscode-notebook-cell:/c%3A/Users/Kesetebirhan/Desktop/Project%20Folder/data-engineering/python_for_data_engineering/exceptions/userdefined_exception_handle/user_defined_exception.ipynb#X10sZmlsZQ%3D%3D?line=24'>25</a>\u001b[0m         \u001b[39mf\u001b[39m\u001b[39m\"\u001b[39m\u001b[39m{\u001b[39;00merror\u001b[39m}\u001b[39;00m\u001b[39m, please provide a correct path to the file!\u001b[39m\u001b[39m\"\u001b[39m\n\u001b[0;32m     <a href='vscode-notebook-cell:/c%3A/Users/Kesetebirhan/Desktop/Project%20Folder/data-engineering/python_for_data_engineering/exceptions/userdefined_exception_handle/user_defined_exception.ipynb#X10sZmlsZQ%3D%3D?line=25'>26</a>\u001b[0m     )\n",
      "\u001b[1;31mFileHasToManyRows\u001b[0m: Csv file has too many rows, max rows is 100 and the file has 110"
     ]
    }
   ],
   "source": [
    "class FileHasToManyRows(Exception):\n",
    "    \"\"\"Exception raised if file has too many rows.\n",
    "    Attributes:\n",
    "        salary -- input csv file\n",
    "        message -- error description\n",
    "    \"\"\"\n",
    "\n",
    "    def __init__(self, number_of_rows):\n",
    "        self.number_of_rows = number_of_rows\n",
    "        self.message = f\"Csv file has too many rows, max rows is 100 and the file has {self.number_of_rows}\"\n",
    "\n",
    "        super().__init__(self.message)\n",
    "\n",
    "\n",
    "try:\n",
    "    df = df=pd.read_csv('../../data_table_for_weekly_case_trends__the_united_states.csv',  encoding='unicode_escape', nrows=110)\n",
    "\n",
    "    number_of_rows = len(df)\n",
    "\n",
    "    if number_of_rows > 100:\n",
    "        raise FileHasToManyRows(number_of_rows)\n",
    "    \n",
    "except FileNotFoundError as error:\n",
    "    print(\n",
    "        f\"{error}, please provide a correct path to the file!\"\n",
    "    )"
   ]
  }
 ],
 "metadata": {
  "kernelspec": {
   "display_name": "base",
   "language": "python",
   "name": "python3"
  },
  "language_info": {
   "codemirror_mode": {
    "name": "ipython",
    "version": 3
   },
   "file_extension": ".py",
   "mimetype": "text/x-python",
   "name": "python",
   "nbconvert_exporter": "python",
   "pygments_lexer": "ipython3",
   "version": "3.9.12"
  },
  "orig_nbformat": 4
 },
 "nbformat": 4,
 "nbformat_minor": 2
}
