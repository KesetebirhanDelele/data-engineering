{
 "cells": [
  {
   "cell_type": "markdown",
   "metadata": {},
   "source": [
    "# Distributed Database\n",
    "\n",
    "Reference: [Link](https://phoenixnap.com/kb/distributed-database)"
   ]
  },
  {
   "cell_type": "markdown",
   "metadata": {},
   "source": [
    "## Introduction\n",
    "\n",
    "Distributed databases are used for horizontal scaling, and they are designed to meet the workload requirements without having to make changes in \n",
    "\n",
    "1. the database application or \n",
    "2. vertically scale a single machine.\n",
    "\n",
    "Distributed databases resolve various issues, such as \n",
    "\n",
    "1. availability, \n",
    "2. fault tolerance, \n",
    "3. throughput, \n",
    "4. latency, \n",
    "5. scalability, and many other __*problems that can arise from using a single machine and a single database*__.\n",
    "\n",
    "In this article, you'll learn what distributed databases are and their advantages and disadvantages."
   ]
  },
  {
   "cell_type": "markdown",
   "metadata": {},
   "source": [
    "## Definition\n",
    "\n",
    "A distributed database represents:\n",
    "\n",
    "1. multiple interconnected databases, \n",
    "2. spread out across several sites, \n",
    "3. connected by a network. \n",
    "\n",
    "Since the databases are all connected, they __appear as a single database__ to the users.\n",
    "\n",
    "    Distributed databases utilize multiple nodes. \n",
    "\n",
    "    They scale horizontally and develop a distributed system. \n",
    "\n",
    "    More nodes in the system provide: \n",
    "    \n",
    "        >   more computing power, \n",
    "    \n",
    "        >   offer greater availability, and \n",
    "    \n",
    "        >   resolve the single point of failure issue.\n",
    "\n",
    "Different parts of the distributed database are stored in several physical locations, and the processing requirements are distributed among processors on multiple database nodes.\n",
    "\n",
    "A __centralized distributed database management system (DDBMS)__ manages the distributed data as if it were stored in one physical location. \n",
    "\n",
    "DDBMS synchronizes all data operations among databases and ensures that the updates in one database automatically reflect on databases in other sites."
   ]
  },
  {
   "cell_type": "markdown",
   "metadata": {},
   "source": [
    "## Distributed Database Features\n",
    "Some general features of distributed databases are:\n",
    "\n",
    "1. Location independency - Data is physically stored at multiple sites and managed by an independent DDBMS.\n",
    "\n",
    "2. Distributed query processing - Distributed databases answer queries in a distributed environment that manages data at multiple sites. High-level queries are transformed into a query execution plan for simpler management.\n",
    "\n",
    "3. Distributed transaction management - Provides a consistent distributed database through commit protocols, distributed concurrency control techniques, and distributed recovery methods in case of many transactions and failures.\n",
    "\n",
    "4. Seamless integration - Databases in a collection usually represent a single logical database, and they are interconnected.\n",
    "\n",
    "5. Network linking - All databases in a collection are linked by a network and communicate with each other.\n",
    "\n",
    "6. Transaction processing - Distributed databases incorporate transaction processing, which is a program including a collection of one or more database operations. Transaction processing is an atomic process that is either entirely executed or not at all."
   ]
  },
  {
   "cell_type": "markdown",
   "metadata": {},
   "source": [
    "## Distributed Database Types\n",
    "There are two types of distributed databases:\n",
    "\n",
    "Homogenous: databases with identical schema stored in different locations  \n",
    "Heterogenous: databases with different schema stored in different locations"
   ]
  },
  {
   "cell_type": "markdown",
   "metadata": {},
   "source": [
    "## Distributed Database Storage\n",
    "Distributed database storage is managed in two ways:\n",
    "\n",
    ">Replication\n",
    "\n",
    ">Fragmentation"
   ]
  },
  {
   "cell_type": "markdown",
   "metadata": {},
   "source": [
    "### Replication\n",
    "In database replication, the systems store copies of data on different sites. If an entire database is available on multiple sites, it is a fully redundant database.\n",
    "\n",
    "The __advantage of database replication__ is that:\n",
    "\n",
    "1. it increases data availability on different sites and \n",
    "2. allows for parallel query requests to be processed.\n",
    "\n",
    "However, database replication means that \n",
    "\n",
    ">data requires constant updates and synchronization with other sites to maintain an exact database copy. Any changes made on one site must be recorded on other sites, or else inconsistencies occur.\n",
    "\n",
    ">Constant updates cause a lot of server overhead and complicate concurrency control, as a lot of concurrent queries must be checked in all available sites."
   ]
  },
  {
   "cell_type": "markdown",
   "metadata": {},
   "source": [
    "### Fragmentation\n",
    "When it comes to fragmentation of distributed database storage, the relations are fragmented, which means they are split into smaller parts. Each of the fragments is stored on a different site, where it is required.\n",
    "\n",
    "The prerequisite for fragmentation is to make sure that the fragments can later be reconstructed into the original relation without losing data.\n",
    "\n",
    "The advantage of fragmentation is that there are no data copies, which prevents data inconsistency.\n",
    "\n",
    "There are two types of fragmentation:\n",
    "\n",
    "Horizontal fragmentation - The relation schema is fragmented into groups of rows, and each group (tuple) is assigned to one fragment.\n",
    "Vertical fragmentation - The relation schema is fragmented into smaller schemas, and each fragment contains a common candidate key to guarantee a lossless join.\n"
   ]
  },
  {
   "cell_type": "markdown",
   "metadata": {},
   "source": [
    "## Distributed Database Advantages and Disadvantages\n",
    "Below are some key advantages and disadvantages of distributed databases:\n",
    "\n",
    "|Advantages|\tDisadvantages|\n",
    "|----------|-----------------|\n",
    "|Modular development|\tCostly software|\n",
    "|Reliability|\tLarge overhead|\n",
    "|Lower communication costs|\tData integrity|\n",
    "|Better response|\tImproper data distribution|"
   ]
  },
  {
   "cell_type": "markdown",
   "metadata": {},
   "source": [
    "#### Advantages\n",
    "\n",
    "1. Modular Development. Modular development of a distributed database implies that a system can be expanded to new locations or units by adding new servers and data to the existing setup and connecting them to the distributed system without interruption. This type of expansion causes no interruptions in the functioning of distributed databases.\n",
    "2. Reliability. Distributed databases offer greater reliability in contrast to centralized databases. In case of a database failure in a centralized database, the system comes to a complete stop. In a distributed database, the system functions even when failures occur, only delivering reduced performance until the issue is resolved.\n",
    "3. Lower Communication Cost. Locally storing data reduces communication costs for data manipulation in distributed databases. Local data storage is not possible in centralized databases.\n",
    "4.Better Response. Efficient data distribution in a distributed database system provides a faster response when user requests are met locally. In centralized databases, user requests pass through the central machine, which processes all requests. The result is an increase in response time, especially with a lot of queries.\n",
    "\n",
    "#### Disadvantages\n",
    "\n",
    "1. Costly Software. Ensuring data transparency and coordination across multiple sites often requires using expensive software in a distributed database system.\n",
    "2. Large Overhead. Many operations on multiple sites requires numerous calculations and constant synchronization when database replication is used, causing a lot of processing overhead.\n",
    "3. Data Integrity. A possible issue when using database replication is data integrity, which is compromised by updating data at multiple sites.\n",
    "4. Improper Data Distribution. Responsiveness to user requests largely depends on proper data distribution. That means responsiveness can be reduced if data is not correctly distributed across multiple sites."
   ]
  }
 ],
 "metadata": {
  "language_info": {
   "name": "python"
  },
  "orig_nbformat": 4
 },
 "nbformat": 4,
 "nbformat_minor": 2
}
