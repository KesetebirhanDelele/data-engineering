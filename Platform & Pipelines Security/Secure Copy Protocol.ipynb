{
 "cells": [
  {
   "cell_type": "markdown",
   "metadata": {},
   "source": [
    "# Secure copy protocol (SCP)\n",
    "\n",
    "Secure copy protocol (SCP) is a means of securely transferring computer files between a local host and a remote host or between two remote hosts. It is based on the Secure Shell (SSH) protocol.[1] \"SCP\" commonly refers to both the Secure Copy Protocol and the program itself.[2]\n",
    "\n",
    "According to OpenSSH developers in April 2019, SCP is outdated, inflexible and not readily fixed; they recommend the use of more modern protocols like SFTP and rsync for file transfer.[3] As of OpenSSH version 9.0, scp client therefore uses SFTP for file transfers by default instead of the legacy SCP/RCP protocol.[4]\n",
    "\n",
    "Secure Copy Protocol\n",
    "The SCP is a network protocol, based on the BSD RCP protocol,[5] which supports file transfers between hosts on a network. SCP uses Secure Shell (SSH) for data transfer and uses the same mechanisms for authentication, thereby ensuring the authenticity and confidentiality of the data in transit. A client can send (upload) files to a server, optionally including their basic attributes (permissions, timestamps). Clients can also request files or directories from a server (download). SCP runs over TCP port 22 by default.[6] Like RCP, there is no RFC that defines the specifics of the protocol.\n",
    "\n",
    "## Function\n",
    "Normally, a client initiates an SSH connection to the remote host, and requests an SCP process to be started on the remote server. The remote SCP process can operate in one of two modes:\n",
    "\n",
    "1. __source mode__, which reads files (usually from disk) and sends them back to the client, or\n",
    "\n",
    "2. __sink mode__, which accepts the files sent by the client and writes them (usually to disk) on the remote host.\n",
    "\n",
    "For most SCP clients, source mode is generally triggered with the -f flag (from), while sink mode is triggered with -t (to).[2] These flags are used internally and are not documented outside the SCP source code.\n",
    "\n",
    "__Remote to remote mode__\n",
    "In the past, in remote-to-remote secure copy, the SCP client opens an SSH connection to the source host and requests that it, in turn, open an SCP connection to the destination. (Remote-to-remote mode did not support opening two SCP connections and using the originating client as an intermediary). It is important to note that SCP cannot be used to remotely copy from the source to the destination when operating in password or keyboard-interactive authentication mode, as this would reveal the destination server's authentication credentials to the source. It is, however, possible with key-based or GSSAPI methods that do not require user input.[2]\n",
    "\n",
    "Recently, remote-to-remote mode supports routing traffic through the client which originated the transfer, even though it is a 3rd party to the transfer. This way, authorization credentials must reside only on the originating client, the 3rd party.[7]\n",
    "\n",
    "__Issues using talkative shell profiles__\n",
    "SCP does not expect text communicating with the SSH login shell. Text transmitted due to the SSH profile (e.g. echo \"Welcome\" in the .bashrc file) is interpreted as an error message, and a null line (echo \"\") causes SCP client to deadlock waiting for the error message to complete.[2]\n",
    "\n",
    "__scp program__\n",
    "The SCP program[8] is a software tool implementing the SCP protocol as a service daemon or client. It is a program to perform secure copying.\n",
    "\n",
    "Perhaps the most widely used SCP program is the OpenSSH command line scp program, which is provided in most SSH implementations. The scp program is the secure analog of the rcp command. The scp program must be part of all SSH servers that want to provide SCP service, as scp functions as SCP server too. Since OpenSSH 9.0, the program has been updated to use the newer, more secure SFTP protocol; an -O option is added for using SCP with old SCP-only servers.[4]\n",
    "\n",
    "Syntax\n",
    "Typically, a syntax of scp program[9] is like the syntax of cp (copy):\n",
    "\n",
    "Copying local file to a remote host:\n",
    "\n",
    ">scp LocalSourceFile user@remotehost:directory/TargetFile\n",
    "Copying file from remote host and copying folder from remote host (with -r switch):\n",
    "\n",
    ">scp user@remotehost:directory/SourceFile LocalTargetFile\n",
    "\n",
    ">scp -r user@host:directory/SourceFolder LocalTargetFolder\n",
    "\n",
    "Note that if the remote host uses a port other than the default of 22, it can be specified in the command. For example, copying a file from host:\n",
    "\n",
    ">scp -P 2222 user@host:directory/SourceFile TargetFile\n",
    "\n",
    "Other clients\n",
    "As the Secure Copy Protocol implements file transfers only, GUI SCP clients are rare, as implementing it requires additional functionality (directory listing at least). For example, WinSCP defaults to the SFTP protocol.[10] Even when operating in SCP mode, clients like WinSCP are typically not pure SCP clients, as they must use other means to implement the additional functionality (like the ls command).[11] This in turn brings platform-dependency problems.\n",
    "\n",
    "More comprehensive tools for managing files over SSH are SFTP clients."
   ]
  }
 ],
 "metadata": {
  "language_info": {
   "name": "python"
  },
  "orig_nbformat": 4
 },
 "nbformat": 4,
 "nbformat_minor": 2
}
