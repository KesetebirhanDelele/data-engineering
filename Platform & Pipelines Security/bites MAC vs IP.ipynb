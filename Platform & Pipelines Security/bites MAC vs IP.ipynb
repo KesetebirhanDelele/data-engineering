{
 "cells": [
  {
   "attachments": {},
   "cell_type": "markdown",
   "metadata": {},
   "source": [
    "Note:   \n",
    "\n",
    "        1 byte = 8 bits\n",
    "        \n",
    "        1 bit = either 0 or 1\n",
    "\n",
    "        Therefore, 1 byte can store 2 raised to 8 values = 256"
   ]
  },
  {
   "attachments": {},
   "cell_type": "markdown",
   "metadata": {},
   "source": [
    "# How many bytes is a MAC address?\n",
    "6 bytes\n",
    "\n",
    "**6 sets of 2 hexadecimal digits** separated by hyphens. \n",
    "\n",
    "MAC addresses are available from 00-00-00-00-00-00 through FF-FF-FF-FF-FF-FF\n",
    "\n",
    "In a LAN, each node is assigned a physical address, also known as a MAC/Ethernet address. This address is unique to each of the nodes on the LAN and is 6 bytes (maximum 48 bits used) long, which is burned on the Ethernet card (also known as the network interface card). Ethernet is a byte-count protocol."
   ]
  },
  {
   "attachments": {},
   "cell_type": "markdown",
   "metadata": {},
   "source": [
    "> My PC\n",
    "\n",
    "A0-80-69-97-4C-EF"
   ]
  },
  {
   "attachments": {},
   "cell_type": "markdown",
   "metadata": {},
   "source": [
    "# How many bytes is an IPv4 address?\n",
    "\n",
    "4 bytes\n",
    "\n",
    "\n",
    "An IPv4 address is 32 bits (maximum used). An IP Address is shown as 4 decimal numbers representing 4 bytes: d.d.d.d where d = decimal number (0 - 255). High order bits are the network identifier and lower order bits are the host identifier."
   ]
  },
  {
   "attachments": {},
   "cell_type": "markdown",
   "metadata": {},
   "source": [
    "> My PC\n",
    "\n",
    "   IPv4 Address. . . . . . . . . . . : 192.168.16.1(Preferred)\n",
    "   \n",
    "   Subnet Mask . . . . . . . . . . . : 255.255.240.0"
   ]
  },
  {
   "attachments": {},
   "cell_type": "markdown",
   "metadata": {},
   "source": [
    "# How many bytes is an IPv6 address?\n",
    "\n",
    "16 bytes\n",
    "\n",
    "The IPv6 address uses maximum 128 bits.\n",
    "\n",
    "**eight sets of four hexadecimal digits** separated by colons -- for example, FEDC:BA98:7654:3210:0123:4567:89AB:CDEF"
   ]
  }
 ],
 "metadata": {
  "language_info": {
   "name": "python"
  },
  "orig_nbformat": 4
 },
 "nbformat": 4,
 "nbformat_minor": 2
}
