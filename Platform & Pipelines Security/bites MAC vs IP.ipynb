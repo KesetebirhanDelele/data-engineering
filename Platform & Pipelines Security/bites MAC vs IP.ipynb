{
 "cells": [
  {
   "attachments": {},
   "cell_type": "markdown",
   "metadata": {},
   "source": [
    "# How many bytes is a MAC address?\n",
    "6 bytes\n",
    "\n",
    "\n",
    "In a LAN, each node is assigned a physical address, also known as a MAC/Ethernet address. This address is unique to each of the nodes on the LAN and is 6 bytes (48 bits) long, which is burned on the Ethernet card (also known as the network interface card). Ethernet is a byte-count protocol."
   ]
  },
  {
   "attachments": {},
   "cell_type": "markdown",
   "metadata": {},
   "source": [
    "# How many bytes is an IPv4 address?\n",
    "\n",
    "4 bytes\n",
    "\n",
    "\n",
    "An IPv4 address is 32 bits. An IP Address is shown as 4 decimal numbers representing 4 bytes: d.d.d.d where d = decimal number (0 - 255). High order bits are the network identifier and lower order bits are the host identifier."
   ]
  },
  {
   "attachments": {},
   "cell_type": "markdown",
   "metadata": {},
   "source": [
    "# How many bytes is an IPv6 address?\n",
    "\n",
    "16 bytes\n",
    "\n",
    "The IPv6 address is 128 bits (16 bytes)."
   ]
  }
 ],
 "metadata": {
  "language_info": {
   "name": "python"
  },
  "orig_nbformat": 4
 },
 "nbformat": 4,
 "nbformat_minor": 2
}
