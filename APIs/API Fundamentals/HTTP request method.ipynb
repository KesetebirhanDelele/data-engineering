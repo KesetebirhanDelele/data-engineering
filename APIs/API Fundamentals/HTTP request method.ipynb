{
 "cells": [
  {
   "cell_type": "markdown",
   "metadata": {},
   "source": [
    "# HTTP request methods\n",
    "HTTP defines a set of request methods to indicate the desired action to be performed for a given resource. Although they can also be nouns, these request methods are sometimes referred to as HTTP verbs. Each of them implements a different semantic, but some common features are shared by a group of them: e.g. a request method can be safe, idempotent, or cacheable.\n",
    "\n",
    ">GET\n",
    "The GET method requests a representation of the specified resource. Requests using GET should only retrieve data.\n",
    "\n",
    ">HEAD\n",
    "The HEAD method asks for a response identical to a GET request, but without the response body.\n",
    "\n",
    ">POST\n",
    "The POST method submits an entity to the specified resource, often causing a change in state or side effects on the server.\n",
    "\n",
    ">PUT\n",
    "The PUT method replaces all current representations of the target resource with the request payload.\n",
    "\n",
    ">DELETE\n",
    "The DELETE method deletes the specified resource.\n",
    "\n",
    ">CONNECT\n",
    "The CONNECT method establishes a tunnel to the server identified by the target resource.\n",
    "\n",
    ">OPTIONS\n",
    "The OPTIONS method describes the communication options for the target resource.\n",
    "\n",
    ">TRACE\n",
    "The TRACE method performs a message loop-back test along the path to the target resource.\n",
    "\n",
    ">PATCH\n",
    "The PATCH method applies partial modifications to a resource."
   ]
  }
 ],
 "metadata": {
  "language_info": {
   "name": "python"
  },
  "orig_nbformat": 4
 },
 "nbformat": 4,
 "nbformat_minor": 2
}
