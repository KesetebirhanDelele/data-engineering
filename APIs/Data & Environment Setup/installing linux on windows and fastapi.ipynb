{
 "cells": [
  {
   "cell_type": "markdown",
   "metadata": {},
   "source": [
    "# Installing Linux on Windows using CLI\n",
    "[Link](https://learn.microsoft.com/en-us/windows/wsl/install)"
   ]
  },
  {
   "cell_type": "markdown",
   "metadata": {},
   "source": [
    "## Install WSL command\n",
    "\n",
    "WSL= Windows Subsystem for Linux\n",
    "\n",
    "You can now install everything you need to run WSL with a single command. Open PowerShell or Windows Command Prompt in administrator mode by right-clicking and selecting \"Run as administrator\", enter the wsl --install command, then restart your machine.\n",
    "\n",
    "PowerShell\n",
    "\n",
    ">wsl --install\n",
    "\n",
    "This command will enable the features necessary to run WSL and install the Ubuntu distribution of Linux."
   ]
  },
  {
   "cell_type": "markdown",
   "metadata": {},
   "source": [
    "## Change the default Linux distribution installed\n",
    "By default, the installed Linux distribution will be Ubuntu. This can be changed using the -d flag.\n",
    "\n",
    "To change the distribution installed, enter: \n",
    "\n",
    ">wsl --install -d <Distribution Name>\n",
    "\n",
    "Replace <Distribution Name> with the name of the distribution you would like to install.\n",
    "\n",
    "To see a list of available Linux distributions available for download through the online store, enter: \n",
    "\n",
    ">wsl --list --online or wsl -l -o.\n",
    "\n",
    "To install additional Linux distributions after the initial install, you may also use the command: \n",
    "\n",
    ">wsl --install -d <Distribution Name>."
   ]
  },
  {
   "cell_type": "markdown",
   "metadata": {},
   "source": [
    "## Set up your Linux user info\n",
    "Once you have installed WSL, you will need to create a user account and password for your newly installed Linux distribution"
   ]
  },
  {
   "cell_type": "markdown",
   "metadata": {},
   "source": [
    "## Change or Update Password\n",
    "To change or reset your password, open the Linux distribution and enter the command: passwd. You will be asked to enter your current password, then asked to enter your new password, and then to confirm your new password.\n",
    "\n",
    "If you forgot the password for your Linux distribution:\n",
    "\n",
    "Open PowerShell and enter the root of your default WSL distribution using the command: \n",
    "\n",
    ">wsl -u root\n",
    "\n",
    "If you need to update the forgotten password on a distribution that is not your default, use the command: \n",
    "\n",
    ">wsl -d Debian -u root\n",
    "\n",
    "replacing Debian with the name of your targeted distribution.\n",
    "\n",
    "Once your WSL distribution has been opened at the root level inside PowerShell, you can use this command to update your password: \n",
    "\n",
    ">passwd <'username'> \n",
    "\n",
    "where <'username'> is the 'username' of the account in the distribution whose password you've forgotten. Note quotations should no be used when enteringn username.\n",
    "\n",
    "You will be prompted to enter a new UNIX password and then confirm that password. Once you're told that the password has updated successfully, close WSL inside of PowerShell using the command: \n",
    "\n",
    ">exit"
   ]
  },
  {
   "cell_type": "markdown",
   "metadata": {},
   "source": [
    "# Update and upgrade packages\n",
    "We recommend that you regularly update and upgrade your packages using the preferred package manager for the distribution. Windows does not automatically update or upgrade your Linux distribution(s). For Ubuntu or Debian, use the command:\n",
    "\n",
    "Bash\n",
    "\n",
    ">sudo apt update && sudo apt upgrade"
   ]
  },
  {
   "cell_type": "markdown",
   "metadata": {},
   "source": [
    "## Check which version of WSL you are running\n",
    "You can list your installed Linux distributions and check the version of WSL each is set to by entering the command: \n",
    "\n",
    ">wsl -l -v \n",
    "\n",
    "in PowerShell or Windows Command Prompt.\n",
    "\n",
    "To set the default version to WSL 1 or WSL 2 when a new Linux distribution is installed, use the command: \n",
    "\n",
    ">wsl --set-default-version <Version#>\n",
    "\n",
    "replacing <Version#> with either 1 or 2.\n",
    "\n",
    "To set the default Linux distribution used with the wsl command, enter: \n",
    "\n",
    ">wsl -s <DistributionName> \n",
    "\n",
    "or \n",
    "\n",
    ">wsl --setdefault <DistributionName>\n",
    "\n",
    "replacing <DistributionName> with the name of the Linux distribution you would like to use. For example, from PowerShell/CMD, enter: wsl -s Debian to set the default distribution to Debian. Now running wsl npm init from Powershell will run the npm init command in Debian.\n",
    "\n",
    "To run a specific wsl distribution from within PowerShell or Windows Command Prompt without changing your default distribution, use the command: \n",
    "\n",
    ">wsl -d <DistributionName>\n",
    "\n",
    "replacing <DistributionName> with the name of the distribution you want to use."
   ]
  },
  {
   "cell_type": "markdown",
   "metadata": {},
   "source": [
    "## Set up Windows Terminal\n",
    "\n",
    "[Link](https://learn.microsoft.com/en-us/windows/wsl/setup/environment#set-up-windows-terminal)\n",
    "\n",
    "Windows Terminal can run any application with a command line interface. Its main features include multiple tabs, panes, Unicode and UTF-8 character support, a GPU accelerated text rendering engine, and the ability to create your own themes and customize text, colors, backgrounds, and shortcuts.\n",
    "\n",
    "Whenever a new WSL Linux distribution is installed, a new instance will be created for it inside the Windows Terminal that can be customized to your preferences.\n",
    "\n",
    "We recommend using WSL with Windows Terminal, especially if you plan to work with multiple command lines. See the Windows Terminal docs for help with setting it up and customizing your preferences, including:\n",
    "\n",
    ">Install Windows Terminal or Windows Terminal (Preview) from the Microsoft Store\n",
    "\n",
    ">Use the Command Palette\n",
    "\n",
    ">Set up custom actions like keyboard shortcuts to make the terminal feel natural to your preferences\n",
    "\n",
    ">Set up the default startup profile\n",
    "\n",
    ">Customize the appearance: theme, color schemes, name and starting directory, background image, etc.\n",
    "\n",
    ">Learn how to use command line arguments like opening a terminal with multiple command lines split into window panes or tabs\n",
    "\n",
    ">Learn about the search feature\n",
    "\n",
    ">Find tips and tricks, like how to rename or color a tab, use mouse interactions, or enable \"Quake mode\"\n",
    "\n",
    ">Find tutorials on how to set up a customized command prompt, SSH profiles, or tab titles\n",
    "\n",
    ">Find a custom terminal gallery and a troubleshooting guide"
   ]
  },
  {
   "cell_type": "markdown",
   "metadata": {},
   "source": [
    "## Configuration\n",
    "To customize the settings of your Windows Terminal, select Settings in the dropdown menu. This will open the settings UI to configure your settings. You can learn how to open the settings UI with keyboard shortcuts on the Actions page.\n",
    "\n",
    "### Settings JSON file\n",
    "If you prefer to configure your Windows Terminal settings using code, rather than the graphic user interface, you can edit the settings.json file.\n",
    "\n",
    "Select Settings in the Windows Terminal dropdown menu while holding Shift to open the settings.json file in your default text editor. (The default text editor is defined in your Windows settings.)\n",
    "\n",
    "The path for your Windows Terminal settings.json file may be found in one of the following directories:\n",
    "\n",
    ">Terminal (stable / general release): %LOCALAPPDATA%\\Packages\\Microsoft.>WindowsTerminal_8wekyb3d8bbwe\\LocalState\\settings.json\n",
    ">Terminal (preview release): %LOCALAPPDATA%\\Packages\\Microsoft.>WindowsTerminalPreview_8wekyb3d8bbwe\\LocalState\\settings.json\n",
    ">Terminal (unpackaged: Scoop, Chocolately, etc): %LOCALAPPDATA%\\Microsoft\\Windows Terminal\\settings.json"
   ]
  },
  {
   "cell_type": "markdown",
   "metadata": {},
   "source": [
    "# Using command line arguments for Windows Terminal\n",
    "\n",
    "[Link](https://learn.microsoft.com/en-us/windows/terminal/command-line-arguments?tabs=windows)"
   ]
  },
  {
   "cell_type": "markdown",
   "metadata": {},
   "source": [
    "## Install Python on Ubuntu\n",
    "\n",
    ">sudo apt install python3 python3-pip ipython3"
   ]
  },
  {
   "cell_type": "markdown",
   "metadata": {},
   "source": [
    "## Install FastAPI and uvicorn on Ubuntu\n",
    "\n",
    ">pip install fastapi\n",
    "\n",
    ">pip install uvicorn[standard]"
   ]
  }
 ],
 "metadata": {
  "language_info": {
   "name": "python"
  },
  "orig_nbformat": 4
 },
 "nbformat": 4,
 "nbformat_minor": 2
}
