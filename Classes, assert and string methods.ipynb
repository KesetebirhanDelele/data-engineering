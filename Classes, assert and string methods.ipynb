{
 "cells": [
  {
   "cell_type": "code",
   "execution_count": 5,
   "metadata": {},
   "outputs": [
    {
     "name": "stdout",
     "output_type": "stream",
     "text": [
      "The value of a / b is : \n"
     ]
    },
    {
     "ename": "AssertionError",
     "evalue": "Zero Division Error",
     "output_type": "error",
     "traceback": [
      "\u001b[1;31m---------------------------------------------------------------------------\u001b[0m",
      "\u001b[1;31mAssertionError\u001b[0m                            Traceback (most recent call last)",
      "\u001b[1;32mc:\\Users\\Kesetebirhan\\Documents\\Python Scripts\\test.ipynb Cell 3\u001b[0m in \u001b[0;36m<cell line: 7>\u001b[1;34m()\u001b[0m\n\u001b[0;32m      <a href='vscode-notebook-cell:/c%3A/Users/Kesetebirhan/Documents/Python%20Scripts/test.ipynb#W3sZmlsZQ%3D%3D?line=4'>5</a>\u001b[0m \u001b[39m# using assert to check for 0\u001b[39;00m\n\u001b[0;32m      <a href='vscode-notebook-cell:/c%3A/Users/Kesetebirhan/Documents/Python%20Scripts/test.ipynb#W3sZmlsZQ%3D%3D?line=5'>6</a>\u001b[0m \u001b[39mprint\u001b[39m(\u001b[39m\"\u001b[39m\u001b[39mThe value of a / b is : \u001b[39m\u001b[39m\"\u001b[39m)\n\u001b[1;32m----> <a href='vscode-notebook-cell:/c%3A/Users/Kesetebirhan/Documents/Python%20Scripts/test.ipynb#W3sZmlsZQ%3D%3D?line=6'>7</a>\u001b[0m \u001b[39massert\u001b[39;00m b \u001b[39m!=\u001b[39m \u001b[39m0\u001b[39m, \u001b[39m\"\u001b[39m\u001b[39mZero Division Error\u001b[39m\u001b[39m\"\u001b[39m\n\u001b[0;32m      <a href='vscode-notebook-cell:/c%3A/Users/Kesetebirhan/Documents/Python%20Scripts/test.ipynb#W3sZmlsZQ%3D%3D?line=7'>8</a>\u001b[0m \u001b[39mprint\u001b[39m(a \u001b[39m/\u001b[39m b)\n",
      "\u001b[1;31mAssertionError\u001b[0m: Zero Division Error"
     ]
    }
   ],
   "source": [
    "# Python 3 code to demonstrate working of assert\n",
    "# initializing number\n",
    "a = 4\n",
    "b = 0\n",
    "# using assert to check for 0\n",
    "print(\"The value of a / b is : \")\n",
    "assert b != 0, \"Zero Division Error\"\n",
    "print(a / b)"
   ]
  },
  {
   "cell_type": "code",
   "execution_count": 10,
   "metadata": {},
   "outputs": [
    {
     "name": "stdout",
     "output_type": "stream",
     "text": [
      "True\n",
      "False\n"
     ]
    }
   ],
   "source": [
    "name='Kesete'\n",
    "print(name.isalpha())\n",
    "print(name.isnumeric())"
   ]
  },
  {
   "cell_type": "code",
   "execution_count": 12,
   "metadata": {},
   "outputs": [
    {
     "name": "stdout",
     "output_type": "stream",
     "text": [
      "Kxsxtx\n"
     ]
    }
   ],
   "source": [
    "print(name.replace('e','x'))"
   ]
  },
  {
   "cell_type": "code",
   "execution_count": 15,
   "metadata": {},
   "outputs": [],
   "source": [
    "name=\"Kesete Birhan\""
   ]
  },
  {
   "cell_type": "code",
   "execution_count": 16,
   "metadata": {},
   "outputs": [
    {
     "data": {
      "text/plain": [
       "['Kesete', 'Birhan']"
      ]
     },
     "execution_count": 16,
     "metadata": {},
     "output_type": "execute_result"
    }
   ],
   "source": [
    "name.split(' ')"
   ]
  },
  {
   "cell_type": "code",
   "execution_count": 17,
   "metadata": {},
   "outputs": [],
   "source": [
    "x=name.split(' ')"
   ]
  },
  {
   "cell_type": "code",
   "execution_count": 18,
   "metadata": {},
   "outputs": [],
   "source": [
    "y='-'.join(x)"
   ]
  },
  {
   "cell_type": "code",
   "execution_count": 19,
   "metadata": {},
   "outputs": [
    {
     "data": {
      "text/plain": [
       "'Kesete-Birhan'"
      ]
     },
     "execution_count": 19,
     "metadata": {},
     "output_type": "execute_result"
    }
   ],
   "source": [
    "y"
   ]
  },
  {
   "cell_type": "code",
   "execution_count": 20,
   "metadata": {},
   "outputs": [
    {
     "name": "stdout",
     "output_type": "stream",
     "text": [
      "Kesete-Birhan::"
     ]
    }
   ],
   "source": [
    "print(y, end='::')"
   ]
  },
  {
   "cell_type": "code",
   "execution_count": null,
   "metadata": {},
   "outputs": [],
   "source": [
    "i=1\n",
    "while i>0:\n",
    "    print(i)\n",
    "    i+=1\n",
    "    if i%2==0:\n",
    "        continue \n",
    "    if i>25:\n",
    "        break"
   ]
  },
  {
   "cell_type": "code",
   "execution_count": 11,
   "metadata": {},
   "outputs": [
    {
     "name": "stdout",
     "output_type": "stream",
     "text": [
      "James Woods, you are so young, only 40 years old!\n",
      "First name: Woods.\n",
      "Last name: James.\n"
     ]
    }
   ],
   "source": [
    "from datetime import datetime as dt, date\n",
    "from dateutil.relativedelta import relativedelta\n",
    "\n",
    "\n",
    "class Person:\n",
    "    def __init__(self, date_of_birth, my_name):\n",
    "        # __init__ function to fill properties and use self\n",
    "        # your birth date input yyyy-mm-dd\n",
    "        self.__date_of_birth = dt.strptime(date_of_birth, '%Y-%m-%d')\n",
    "        self.__my_name = my_name\n",
    "        self.__my_details_years = relativedelta(\n",
    "            date.today(), self.__date_of_birth).years\n",
    "        self.__names=self.__my_name.split(' ')\n",
    "    # create print function: last name\n",
    "    def show_me_my_last_name(self):\n",
    "        return f\"Last name: {self.__names[0]}.\"\n",
    "    \n",
    "    # create print function: first name\n",
    "    def show_me_my_first_name(self):\n",
    "       return f\"First name: {self.__names[1]}.\"\n",
    "    \n",
    "    def show_me_my_details(self):\n",
    "        return f\"{self.__my_name}, you are so young, only {self.__my_details_years} years old!\"\n",
    "\n",
    "# instantiate the class and execute the print function\n",
    "details = Person(\"1982-08-04\", \"James Woods\")\n",
    "print(details.show_me_my_details())\n",
    "print(details.show_me_my_first_name())\n",
    "print(details.show_me_my_last_name())\n",
    "# > 'Mr James, you are so young, only 39 years old!'"
   ]
  }
 ],
 "metadata": {
  "kernelspec": {
   "display_name": "base",
   "language": "python",
   "name": "python3"
  },
  "language_info": {
   "codemirror_mode": {
    "name": "ipython",
    "version": 3
   },
   "file_extension": ".py",
   "mimetype": "text/x-python",
   "name": "python",
   "nbconvert_exporter": "python",
   "pygments_lexer": "ipython3",
   "version": "3.9.12"
  },
  "orig_nbformat": 4
 },
 "nbformat": 4,
 "nbformat_minor": 2
}
