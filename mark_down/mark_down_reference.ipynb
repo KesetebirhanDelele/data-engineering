{
 "cells": [
  {
   "attachments": {},
   "cell_type": "markdown",
   "metadata": {},
   "source": [
    "[Markdown Reference](https://www.codecademy.com/resources/docs/markdown/tables)"
   ]
  },
  {
   "attachments": {},
   "cell_type": "markdown",
   "metadata": {},
   "source": [
    "# Blockquotes\n",
    "Blockquotes indicate that the enclosed text is an extended quotation. They can also be used to bring attention to a thought-provoking quote. Any quotation that is 50 words or longer should be formatted as a blockquote.\n",
    "\n",
    "To create a blockquote, a right angle bracket > is added in front of a paragraph."
   ]
  },
  {
   "attachments": {},
   "cell_type": "markdown",
   "metadata": {},
   "source": [
    "> Context and memory play powerful roles in all the truly great meals in one's life."
   ]
  },
  {
   "attachments": {},
   "cell_type": "markdown",
   "metadata": {},
   "source": [
    "# Code Blocks\n",
    "Code blocks can be used to display multiple lines of code. They preserve formatting and provide syntax highlighting when possible."
   ]
  },
  {
   "attachments": {},
   "cell_type": "markdown",
   "metadata": {},
   "source": [
    "```\n",
    "This is a code block.\n",
    "More can be added.\n",
    "```"
   ]
  },
  {
   "attachments": {},
   "cell_type": "markdown",
   "metadata": {},
   "source": [
    "# Emphasis\n",
    "Emphasis can be added by making text bold or italic.\n",
    "\n",
    "## Bold\n",
    "To bold text, add two asterisks ** or underscores __ before and after a word or phrase. To bold the middle of a word for emphasis, add two asterisks without spaces around the letters."
   ]
  },
  {
   "attachments": {},
   "cell_type": "markdown",
   "metadata": {},
   "source": [
    "Need for **Emphasis is not** clear"
   ]
  },
  {
   "attachments": {},
   "cell_type": "markdown",
   "metadata": {},
   "source": [
    "## Italic\n",
    "Text can be italicized by surrounding with either one asterisk * or one underscore _ on each side. Parts of a word can even be italicized by surrounding the letters with one asterisk, no spaces."
   ]
  },
  {
   "attachments": {},
   "cell_type": "markdown",
   "metadata": {},
   "source": [
    "Need for *Emphassis is not* clear"
   ]
  },
  {
   "attachments": {},
   "cell_type": "markdown",
   "metadata": {},
   "source": [
    "## Emphasis Combinations\n",
    "Different formatting options can be combined:\n",
    "\n",
    "**This is in bold, _italics_, ~~and strikethrough~~**"
   ]
  },
  {
   "attachments": {},
   "cell_type": "markdown",
   "metadata": {},
   "source": [
    "# Headings\n",
    "Headings are titles or subtitles that can be used with Markdown. There is a total of 6 different heading options.\n",
    "\n",
    "To create a heading, add pound symbols # to the front of a word or phrase.\n",
    "\n",
    "The number of number signs used should correspond to the heading level. For example, to create a heading level three <h3>, use three number signs (e.g., ### My Header).\n",
    "\n",
    "Syntax\n",
    "# Heading level 1\n",
    "\n",
    "## Heading level 2\n",
    "\n",
    "### Heading level 3\n",
    "\n",
    "#### Heading level 4\n",
    "\n",
    "##### Heading level 5\n",
    "\n",
    "###### Heading level 6"
   ]
  },
  {
   "attachments": {},
   "cell_type": "markdown",
   "metadata": {},
   "source": [
    "# Images\n",
    "Embedding an image is very similar to adding a link in Markdown:\n",
    "\n",
    "![Alt text](URL or file path)\n",
    "Add an exclamation mark !\n",
    "Followed by the alt text in square brackets [Alt text]\n",
    "And the path or URL to the image asset in parentheses ( ).\n",
    "For example:\n",
    "\n",
    "![Sonny and Mariel high fiving.](https://content.codecademy.com/courses/learn-cpp/community-challenge/highfive.gif)"
   ]
  },
  {
   "attachments": {},
   "cell_type": "markdown",
   "metadata": {},
   "source": [
    "# Links\n",
    "In Markdown, a link is created by enclosing the link text in square brackets [Link text] and then following it immediately with the URL in parentheses (https://website-name.com).\n",
    "\n",
    "[Link text](https://website-name.com)"
   ]
  },
  {
   "attachments": {},
   "cell_type": "markdown",
   "metadata": {},
   "source": [
    "# Ordered Lists\n",
    "To create an ordered list, add numbers followed by periods.\n",
    "\n",
    "1. 🌡 Preheat oven to 325°F\n",
    "2. 🍪 Drop cookie dough\n",
    "3. ⏰ Bake for 15 min"
   ]
  },
  {
   "attachments": {},
   "cell_type": "markdown",
   "metadata": {},
   "source": [
    "# Line Breaks\n",
    "Line breaks in pargraphs can be created with double newlines or using a \\ symbol."
   ]
  },
  {
   "attachments": {},
   "cell_type": "markdown",
   "metadata": {},
   "source": [
    "Success seems to be connected with action. Successful people keep moving.\\\n",
    "They make mistakes, but they don’t quit."
   ]
  },
  {
   "attachments": {},
   "cell_type": "markdown",
   "metadata": {},
   "source": [
    "# Tables\n",
    "A table is an arrangement of data in rows and columns.\n",
    "\n",
    "To add a table in Markdown, use the vertical line | to separate each column, and use three or more dahses --- to create each column’s header. A vertical line should also be added at either end of the row.\n",
    "\n",
    "| Month    | Savings |\n",
    "| -------- | ------- |\n",
    "| January  | $250    |\n",
    "| February | $80     |\n",
    "| March    | $420    |"
   ]
  }
 ],
 "metadata": {
  "language_info": {
   "name": "python"
  },
  "orig_nbformat": 4
 },
 "nbformat": 4,
 "nbformat_minor": 2
}
